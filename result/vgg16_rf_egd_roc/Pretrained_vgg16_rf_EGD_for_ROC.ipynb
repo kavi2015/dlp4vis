{
  "nbformat": 4,
  "nbformat_minor": 0,
  "metadata": {
    "colab": {
      "name": "Pretrained_vgg16_rf_EGD_for_ROC.ipynb",
      "version": "0.3.2",
      "provenance": [],
      "collapsed_sections": [],
      "toc_visible": true
    },
    "kernelspec": {
      "name": "python3",
      "display_name": "Python 3"
    },
    "accelerator": "GPU"
  },
  "cells": [
    {
      "metadata": {
        "id": "hyd1559jt4x5",
        "colab_type": "code",
        "outputId": "bb34bb20-4c86-4d1c-8b2e-781f0d628594",
        "colab": {
          "base_uri": "https://localhost:8080/",
          "height": 122
        }
      },
      "cell_type": "code",
      "source": [
        "from google.colab import drive\n",
        "drive.mount('/gdrive')\n"
      ],
      "execution_count": 1,
      "outputs": [
        {
          "output_type": "stream",
          "text": [
            "Go to this URL in a browser: https://accounts.google.com/o/oauth2/auth?client_id=947318989803-6bn6qk8qdgf4n4g3pfee6491hc0brc4i.apps.googleusercontent.com&redirect_uri=urn%3Aietf%3Awg%3Aoauth%3A2.0%3Aoob&scope=email%20https%3A%2F%2Fwww.googleapis.com%2Fauth%2Fdocs.test%20https%3A%2F%2Fwww.googleapis.com%2Fauth%2Fdrive%20https%3A%2F%2Fwww.googleapis.com%2Fauth%2Fdrive.photos.readonly%20https%3A%2F%2Fwww.googleapis.com%2Fauth%2Fpeopleapi.readonly&response_type=code\n",
            "\n",
            "Enter your authorization code:\n",
            "··········\n",
            "Mounted at /gdrive\n"
          ],
          "name": "stdout"
        }
      ]
    },
    {
      "metadata": {
        "id": "jIySELVzt8Lp",
        "colab_type": "code",
        "outputId": "848ccee3-a8db-43ff-f24c-af1b7e7f68c8",
        "colab": {
          "base_uri": "https://localhost:8080/",
          "height": 51
        }
      },
      "cell_type": "code",
      "source": [
        "from keras.preprocessing.image import ImageDataGenerator\n",
        "\n",
        "# Chelsea's Probs\n",
        "train_dir = \"/gdrive/My Drive/deep_learning/EGD\"\n",
        "\n",
        "img_width = 224\n",
        "img_height = 224\n",
        "batch_size = 1\n",
        "channels = 3\n",
        "\n",
        "train_datagen = ImageDataGenerator(rescale=1./255)                           \n",
        "\n",
        "train_generator = train_datagen.flow_from_directory(\n",
        "        train_dir, \n",
        "        target_size=(img_height, img_width),\n",
        "        batch_size=batch_size,\n",
        "        shuffle = True,\n",
        "        class_mode='binary')   \n",
        "\n",
        "nb_train_samples = len(train_generator.filenames)"
      ],
      "execution_count": 2,
      "outputs": [
        {
          "output_type": "stream",
          "text": [
            "Using TensorFlow backend.\n"
          ],
          "name": "stderr"
        },
        {
          "output_type": "stream",
          "text": [
            "Found 102 images belonging to 2 classes.\n"
          ],
          "name": "stdout"
        }
      ]
    },
    {
      "metadata": {
        "id": "8ONTNCy7Qv18",
        "colab_type": "code",
        "outputId": "5c223b43-d33f-47d4-9028-f77317cee5e3",
        "colab": {
          "base_uri": "https://localhost:8080/",
          "height": 1822
        }
      },
      "cell_type": "code",
      "source": [
        "#Dont touch!\n",
        "\n",
        "import numpy as np\n",
        "\n",
        "def stacking_samples(dataset_type, sample_count):\n",
        "    features = np.zeros(shape=(sample_count, img_height, img_width, channels))\n",
        "    labels = np.zeros(shape=(sample_count))\n",
        "\n",
        "    i = 0\n",
        "    if dataset_type == \"train\":\n",
        "        for inputs_batch, labels_batch in train_generator:\n",
        "            features[i * batch_size : (i + 1) * batch_size] = inputs_batch\n",
        "            labels[i * batch_size : (i + 1) * batch_size] = labels_batch\n",
        "            i += 1\n",
        "            print(i * batch_size)\n",
        "            if i * batch_size >= sample_count:\n",
        "                break \n",
        "    return features, labels\n",
        "\n",
        "\n",
        "train_features, train_labels = stacking_samples(\"train\", nb_train_samples)\n",
        "print(train_features.shape, train_labels.shape)"
      ],
      "execution_count": 7,
      "outputs": [
        {
          "output_type": "stream",
          "text": [
            "/usr/local/lib/python3.6/dist-packages/PIL/Image.py:2274: DecompressionBombWarning: Image size (171407884 pixels) exceeds limit of 89478485 pixels, could be decompression bomb DOS attack.\n",
            "  DecompressionBombWarning)\n"
          ],
          "name": "stderr"
        },
        {
          "output_type": "stream",
          "text": [
            "1\n",
            "2\n",
            "3\n",
            "4\n",
            "5\n",
            "6\n",
            "7\n",
            "8\n",
            "9\n",
            "10\n",
            "11\n",
            "12\n",
            "13\n",
            "14\n",
            "15\n",
            "16\n",
            "17\n",
            "18\n",
            "19\n",
            "20\n",
            "21\n",
            "22\n",
            "23\n",
            "24\n",
            "25\n",
            "26\n",
            "27\n",
            "28\n",
            "29\n",
            "30\n",
            "31\n",
            "32\n",
            "33\n",
            "34\n",
            "35\n",
            "36\n",
            "37\n",
            "38\n",
            "39\n",
            "40\n",
            "41\n",
            "42\n",
            "43\n",
            "44\n",
            "45\n",
            "46\n",
            "47\n",
            "48\n",
            "49\n",
            "50\n",
            "51\n",
            "52\n",
            "53\n",
            "54\n",
            "55\n",
            "56\n",
            "57\n",
            "58\n",
            "59\n",
            "60\n",
            "61\n",
            "62\n",
            "63\n",
            "64\n",
            "65\n",
            "66\n",
            "67\n",
            "68\n",
            "69\n",
            "70\n",
            "71\n",
            "72\n",
            "73\n",
            "74\n",
            "75\n",
            "76\n",
            "77\n",
            "78\n",
            "79\n",
            "80\n",
            "81\n",
            "82\n",
            "83\n",
            "84\n",
            "85\n",
            "86\n",
            "87\n",
            "88\n",
            "89\n",
            "90\n",
            "91\n",
            "92\n",
            "93\n",
            "94\n",
            "95\n",
            "96\n",
            "97\n",
            "98\n",
            "99\n",
            "100\n",
            "101\n",
            "102\n",
            "(102, 224, 224, 3) (102,)\n"
          ],
          "name": "stdout"
        }
      ]
    },
    {
      "metadata": {
        "id": "2djTSP88vAE4",
        "colab_type": "code",
        "colab": {
          "base_uri": "https://localhost:8080/",
          "height": 71
        },
        "outputId": "99c156bc-33b2-4149-c9eb-76958e80b935"
      },
      "cell_type": "code",
      "source": [
        "from keras import backend as K\n",
        "import tensorflow as tf\n",
        "from PIL import Image\n",
        "from keras.applications import VGG16\n",
        "\n",
        "Image.MAX_IMAGE_PIXELS = None\n",
        "\n",
        "conv_base = VGG16(weights='imagenet',\n",
        "                  include_top=False,\n",
        "                  input_shape=(img_height, img_width, channels))\n",
        "\n",
        "#Extracting features from OCT data using pretrained VGG\n",
        "def extract_features(raw_x, raw_y):\n",
        "    sample_count = len(raw_x)\n",
        "    \n",
        "    features = conv_base.predict(raw_x)\n",
        "    labels = raw_y\n",
        "    \n",
        "    return features, labels"
      ],
      "execution_count": 8,
      "outputs": [
        {
          "output_type": "stream",
          "text": [
            "Downloading data from https://github.com/fchollet/deep-learning-models/releases/download/v0.1/vgg16_weights_tf_dim_ordering_tf_kernels_notop.h5\n",
            "58892288/58889256 [==============================] - 5s 0us/step\n"
          ],
          "name": "stdout"
        }
      ]
    },
    {
      "metadata": {
        "id": "A6DNXhaYZ8Wu",
        "colab_type": "code",
        "colab": {}
      },
      "cell_type": "code",
      "source": [
        "def rf_training(x_train_f, y_train_f, x_val_f, y_val_f, score_list):\n",
        "  clf = RandomForestClassifier(n_estimators=100, max_depth=12, random_state=0, bootstrap=True)\n",
        "  fitter = clf.fit(np.reshape(x_train_f, (len(x_train_f), 7*7*512)), y_train_f)\n",
        "  \n",
        "  #validation\n",
        "#   print(x_val_f.shape)\n",
        "  valid_prediction = clf.predict(np.reshape(x_val_f, (len(x_val_f), 7*7*512)))\n",
        "  valid_score = clf.score(np.reshape(x_val_f, (len(x_val_f), 7*7*512)), y_val_f)\n",
        "  score_list.append(valid_score)\n",
        "  \n",
        "#   print(\"valid_prediction = \", valid_prediction)\n",
        "#   print(\"ground_truth\", y_val_f)\n",
        "  \n",
        "  return fitter, x_val_f, valid_prediction\n",
        "  "
      ],
      "execution_count": 0,
      "outputs": []
    },
    {
      "metadata": {
        "id": "dSwpmGXWW2Md",
        "colab_type": "text"
      },
      "cell_type": "markdown",
      "source": [
        "# ROC"
      ]
    },
    {
      "metadata": {
        "id": "iM6RUkvvW35V",
        "colab_type": "code",
        "colab": {}
      },
      "cell_type": "code",
      "source": [
        "import sklearn\n",
        "from sklearn.metrics import roc_curve, auc\n",
        "\n",
        "def prepare_ROC_binary(fitter, x_val_f, y_val_f):\n",
        "  \n",
        "  n_classes = 2\n",
        "\n",
        "  proba = fitter.predict_proba(np.reshape(x_val_f, (len(x_val_f), 7*7*512)))\n",
        "\n",
        "  fpr = dict()\n",
        "  tpr = dict()\n",
        "  roc_auc = dict()\n",
        "  for i in range(n_classes):\n",
        "      fpr[i], tpr[i], thresholds = roc_curve(y_val_f, proba[:, i], pos_label=i)\n",
        "#       print(\"fpr, tpr\", fpr[i], tpr[i])\n",
        "      roc_auc[i] = sklearn.metrics.auc(fpr[i], tpr[i])\n",
        "#       print(\"test AUC for class\", i, roc_auc[i])\n",
        "#       print(\"thresholds\", thresholds)\n",
        "  \n",
        "  return fpr, tpr, roc_auc\n",
        "      "
      ],
      "execution_count": 0,
      "outputs": []
    },
    {
      "metadata": {
        "id": "WR1lboDqY-CI",
        "colab_type": "code",
        "colab": {}
      },
      "cell_type": "code",
      "source": [
        "from scipy import interp\n",
        "import matplotlib.pyplot as plt\n",
        "from itertools import cycle\n",
        "\n",
        "def saveROCfigure(fpr, tpr, roc_auc, ith):\n",
        "  \n",
        "  n_classes = 2\n",
        "  \n",
        "  lw = 2\n",
        "\n",
        "  # First aggregate all false positive rates\n",
        "  all_fpr = np.unique(np.concatenate([fpr[i] for i in range(n_classes)]))\n",
        "\n",
        "#   print(all_fpr)\n",
        "\n",
        "  # Then interpolate all ROC curves at this points\n",
        "  mean_tpr = np.zeros_like(all_fpr)\n",
        "  for i in range(n_classes):\n",
        "      mean_tpr += interp(all_fpr, fpr[i], tpr[i])\n",
        "\n",
        "  # Finally average it and compute AUC\n",
        "  mean_tpr /= n_classes\n",
        "\n",
        "  colors = cycle(['aqua', 'darkorange', 'cornflowerblue', 'red'])\n",
        "  for i, color in zip(range(n_classes), colors):\n",
        "      plt.plot(fpr[i], tpr[i], color=color, lw=lw,\n",
        "               label='ROC curve of class {0} (area = {1:0.2f})'\n",
        "               ''.format(i, roc_auc[i]))\n",
        "\n",
        "  plt.plot([0, 1], [0, 1], 'k--', lw=lw)\n",
        "  plt.xlim([0.0, 1.0])\n",
        "  plt.ylim([0.0, 1.05])\n",
        "  plt.xlabel('False Positive Rate')\n",
        "  plt.ylabel('True Positive Rate')\n",
        "  plt.title('Some extension of Receiver operating characteristic to multi-class')\n",
        "  plt.legend(loc=\"lower right\")\n",
        "  plt.savefig(\"vgg16_rf_egd_\" + str(ith) + \".png\")\n",
        "  plt.clf()\n",
        "#   plt.show()"
      ],
      "execution_count": 0,
      "outputs": []
    },
    {
      "metadata": {
        "id": "ykhseZttfKex",
        "colab_type": "text"
      },
      "cell_type": "markdown",
      "source": [
        "# 10-fold"
      ]
    },
    {
      "metadata": {
        "id": "YfzvQrTKvJnS",
        "colab_type": "code",
        "outputId": "dba6f2b0-3ef7-4cc5-acf4-0aa9e34f6398",
        "colab": {
          "base_uri": "https://localhost:8080/",
          "height": 238
        }
      },
      "cell_type": "code",
      "source": [
        "#10 folds\n",
        "\n",
        "from sklearn.ensemble import RandomForestClassifier\n",
        "from sklearn.model_selection import KFold\n",
        "from sklearn import metrics\n",
        "\n",
        "\n",
        "folds = 10\n",
        "\n",
        "kf = KFold(n_splits=folds, shuffle=True)\n",
        "\n",
        "accs = []\n",
        "i = 0\n",
        "for train_index, val_index in kf.split(train_features):\n",
        "  \n",
        "  #collect data\n",
        "  x_train = train_features[train_index]\n",
        "  y_train = train_labels[train_index]\n",
        "  x_val = train_features[val_index]\n",
        "  y_val = train_labels[val_index]\n",
        "  \n",
        "  #feature extraction on the training set\n",
        "  x_train_f, y_train_f = extract_features(x_train, y_train)\n",
        "  # and on the validation set\n",
        "  x_val_f, y_val_f = extract_features(x_val, y_val)\n",
        "  \n",
        "  #rf on the result\n",
        "  fitter, x_val, y_val = rf_training(x_train_f, y_train_f, x_val_f, y_val_f, accs)\n",
        "  fpr, tpr, auc = prepare_ROC_binary(fitter, x_val_f, y_val_f)\n",
        "  saveROCfigure(fpr, tpr, auc, i)\n",
        "  print(\"acc = \", accs[i])\n",
        "  i += 1\n",
        "  \n",
        "print(\"accs\", accs)\n",
        "print(\"mean acc =\", np.mean(accs))"
      ],
      "execution_count": 12,
      "outputs": [
        {
          "output_type": "stream",
          "text": [
            "acc =  0.9090909090909091\n",
            "acc =  1.0\n",
            "acc =  1.0\n",
            "acc =  1.0\n",
            "acc =  0.8\n",
            "acc =  0.9\n",
            "acc =  0.9\n",
            "acc =  1.0\n",
            "acc =  1.0\n",
            "acc =  0.9\n",
            "accs [0.9090909090909091, 1.0, 1.0, 1.0, 0.8, 0.9, 0.9, 1.0, 1.0, 0.9]\n",
            "mean acc = 0.940909090909091\n"
          ],
          "name": "stdout"
        },
        {
          "output_type": "display_data",
          "data": {
            "text/plain": [
              "<matplotlib.figure.Figure at 0x7f3d14c13668>"
            ]
          },
          "metadata": {
            "tags": []
          }
        }
      ]
    }
  ]
}