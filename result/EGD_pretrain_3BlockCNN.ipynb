{
  "nbformat": 4,
  "nbformat_minor": 0,
  "metadata": {
    "colab": {
      "name": "EGD_pretrain_3BlockCNN.ipynb",
      "version": "0.3.2",
      "provenance": [],
      "collapsed_sections": []
    },
    "kernelspec": {
      "name": "python3",
      "display_name": "Python 3"
    },
    "accelerator": "GPU"
  },
  "cells": [
    {
      "metadata": {
        "id": "JW-x5IOhaD3S",
        "colab_type": "text"
      },
      "cell_type": "markdown",
      "source": [
        "# Mounting Google Drive"
      ]
    },
    {
      "metadata": {
        "id": "Ci2gPZb6ZIEw",
        "colab_type": "code",
        "outputId": "0464d6e4-351e-45ef-be4d-a9b82815e830",
        "colab": {
          "base_uri": "https://localhost:8080/",
          "height": 34
        }
      },
      "cell_type": "code",
      "source": [
        "##### before running it, make sure you don't have lots of big files in your google drive\n",
        "##### otherwise it's going to take too long to finish running it before giving the TIMEOUT error\n",
        "##### also save the train_controls, train_patients, val_controls, val_patients to your drive and\n",
        "##### create a \"train\" folder with train_controls, train_patients in it, and \n",
        "##### a \"val\" folder with val_controls, val_patients in it.\n",
        "##### change the train_dir and val_dir in the next cell to the dir of your train and val folder\n",
        "##### e.g. my train and val folder are saved in the \"deep learning\" dir\n",
        "\n",
        "from google.colab import drive\n",
        "drive.mount('/gdrive')"
      ],
      "execution_count": 0,
      "outputs": [
        {
          "output_type": "stream",
          "text": [
            "Drive already mounted at /gdrive; to attempt to forcibly remount, call drive.mount(\"/gdrive\", force_remount=True).\n"
          ],
          "name": "stdout"
        }
      ]
    },
    {
      "metadata": {
        "id": "gcg8q3h1aCyd",
        "colab_type": "text"
      },
      "cell_type": "markdown",
      "source": [
        "# Loading Train, Val, and Test Data Using Keras ImageDataGenerator"
      ]
    },
    {
      "metadata": {
        "id": "oeCnbRQ-ZVQO",
        "colab_type": "code",
        "outputId": "f478f7a7-a6ef-46be-ff79-a0e8a7bd91ab",
        "colab": {
          "base_uri": "https://localhost:8080/",
          "height": 102
        }
      },
      "cell_type": "code",
      "source": [
        "train_dir = \"/gdrive/My Drive/trainProbMaps/\"\n",
        "val_dir = \"/gdrive/My Drive/valProbMaps/\"\n",
        "test_dir = \"/gdrive/My Drive/testProbMaps/\"\n",
        "\n",
        "img_width = 224\n",
        "img_height = 224\n",
        "batch_size = 1\n",
        "channels = 3\n",
        "epochs = 50\n",
        "nb_train_samples = 408\n",
        "nb_valid_samples = 149\n",
        "nb_test_samples = 192\n",
        "\n",
        "from keras.preprocessing.image import ImageDataGenerator\n",
        "\n",
        "train_datagen = ImageDataGenerator(rescale=1./255)             \n",
        "valid_datagen = ImageDataGenerator(rescale=1./255)    \n",
        "test_datagen = ImageDataGenerator(rescale=1./255) \n",
        "\n",
        "#EGD data\n",
        "egd_dir = \"/gdrive/My Drive/EGD/\"\n",
        "\n",
        "egd_datagen = ImageDataGenerator(rescale=1./255)\n",
        "\n",
        "egd_generator = egd_datagen.flow_from_directory(\n",
        "    egd_dir,\n",
        "    target_size=(img_height, img_width),\n",
        "    color_mode=\"rgb\",\n",
        "    batch_size=batch_size,\n",
        "    class_mode='binary',\n",
        "    shuffle=True)\n",
        "\n",
        "train_generator = train_datagen.flow_from_directory(\n",
        "    train_dir, \n",
        "    target_size=(img_height, img_width),\n",
        "    color_mode=\"rgb\",\n",
        "    batch_size=batch_size,\n",
        "    class_mode='binary',\n",
        "    shuffle=True)   \n",
        "\n",
        "valid_generator = valid_datagen.flow_from_directory(\n",
        "    val_dir,\n",
        "    target_size=(img_height, img_width),\n",
        "    color_mode=\"rgb\",\n",
        "    batch_size=batch_size,\n",
        "    class_mode='binary',\n",
        "    shuffle=True) #weight toward one class or another\n",
        "\n",
        "test_generator = test_datagen.flow_from_directory(\n",
        "    test_dir,\n",
        "    target_size=(img_height, img_width),\n",
        "    color_mode=\"rgb\",\n",
        "    batch_size=batch_size,\n",
        "    class_mode='binary',\n",
        "    shuffle=True)"
      ],
      "execution_count": 0,
      "outputs": [
        {
          "output_type": "stream",
          "text": [
            "Using TensorFlow backend.\n"
          ],
          "name": "stderr"
        },
        {
          "output_type": "stream",
          "text": [
            "Found 102 images belonging to 2 classes.\n",
            "Found 408 images belonging to 2 classes.\n",
            "Found 149 images belonging to 2 classes.\n",
            "Found 192 images belonging to 2 classes.\n"
          ],
          "name": "stdout"
        }
      ]
    },
    {
      "metadata": {
        "id": "NEuMxrAxacox",
        "colab_type": "text"
      },
      "cell_type": "markdown",
      "source": [
        "# Building the Model Architecture & Training the Model"
      ]
    },
    {
      "metadata": {
        "id": "-5V7skIXZQrr",
        "colab_type": "code",
        "outputId": "3c8acb5b-c4a1-4c01-c0df-adc34f7b6642",
        "colab": {
          "base_uri": "https://localhost:8080/",
          "height": 2091
        }
      },
      "cell_type": "code",
      "source": [
        "import numpy as np \n",
        "from keras.preprocessing import text, sequence\n",
        "from keras.preprocessing.text import Tokenizer\n",
        "from keras.utils import to_categorical\n",
        "from keras.models import Model, Input\n",
        "from keras.layers import Conv2D, MaxPooling2D\n",
        "from keras.layers import Activation, Dropout, Softmax, Flatten, Dense, BatchNormalization \n",
        "from keras.metrics import categorical_accuracy\n",
        "from keras import backend as K\n",
        "from keras import regularizers\n",
        "import tensorflow as tf\n",
        "from keras.models import Sequential\n",
        "\n",
        "from keras.callbacks import TensorBoard\n",
        "\n",
        "#from keras.layers import Input, Dense\n",
        "from keras.models import Model\n",
        "\n",
        "input_shape = (img_height, img_width, channels)\n",
        "\n",
        "middle = Sequential(name=\"middle\")\n",
        "\n",
        "middle.add(Conv2D(32,(11, 11), input_shape=input_shape))\n",
        "middle.add(Activation('relu'))\n",
        "middle.add(MaxPooling2D(pool_size=(4, 4)))\n",
        "\n",
        "middle.add(Conv2D(32,(7, 7), input_shape=input_shape))\n",
        "middle.add(Activation('relu'))\n",
        "middle.add(MaxPooling2D(pool_size=(4, 4)))\n",
        "\n",
        "middle.add(Conv2D(64,(3, 3), input_shape=input_shape))\n",
        "middle.add(Activation('relu'))\n",
        "middle.add(MaxPooling2D(pool_size=(2, 2)))\n",
        "\n",
        "model = Sequential()\n",
        "model.add(middle)\n",
        "model.add(Flatten())\n",
        "\n",
        "\n",
        "\n",
        "model.add(Dense(64))\n",
        "model.add(Activation('relu'))\n",
        "model.add(Dropout(0.5))\n",
        "model.add(Dense(1))\n",
        "model.add(Activation('softmax'))\n",
        "\n",
        "model.summary()\n",
        "\n",
        "model.compile(loss='binary_crossentropy', optimizer='rmsprop', metrics=['accuracy'])\n",
        "    \n",
        "model.fit_generator(\n",
        "    test_generator,\n",
        "    steps_per_epoch=nb_train_samples / batch_size,\n",
        "    epochs=epochs,\n",
        "    validation_data=valid_generator,\n",
        "    validation_steps=nb_valid_samples / batch_size,\n",
        "    shuffle=False) # // batch_size)"
      ],
      "execution_count": 0,
      "outputs": [
        {
          "output_type": "stream",
          "text": [
            "_________________________________________________________________\n",
            "Layer (type)                 Output Shape              Param #   \n",
            "=================================================================\n",
            "middle (Sequential)          (None, 4, 4, 64)          80352     \n",
            "_________________________________________________________________\n",
            "flatten_1 (Flatten)          (None, 1024)              0         \n",
            "_________________________________________________________________\n",
            "dense_1 (Dense)              (None, 64)                65600     \n",
            "_________________________________________________________________\n",
            "activation_4 (Activation)    (None, 64)                0         \n",
            "_________________________________________________________________\n",
            "dropout_1 (Dropout)          (None, 64)                0         \n",
            "_________________________________________________________________\n",
            "dense_2 (Dense)              (None, 1)                 65        \n",
            "_________________________________________________________________\n",
            "activation_5 (Activation)    (None, 1)                 0         \n",
            "=================================================================\n",
            "Total params: 146,017\n",
            "Trainable params: 146,017\n",
            "Non-trainable params: 0\n",
            "_________________________________________________________________\n",
            "Epoch 1/50\n",
            "408/408 [==============================] - 46s 113ms/step - loss: 8.4010 - acc: 0.4730 - val_loss: 10.6996 - val_acc: 0.3289\n",
            "Epoch 2/50\n",
            "408/408 [==============================] - 16s 40ms/step - loss: 8.1275 - acc: 0.4902 - val_loss: 10.6996 - val_acc: 0.3289\n",
            "Epoch 3/50\n",
            "408/408 [==============================] - 17s 41ms/step - loss: 8.4792 - acc: 0.4681 - val_loss: 10.6996 - val_acc: 0.3289\n",
            "Epoch 4/50\n",
            "408/408 [==============================] - 17s 41ms/step - loss: 8.2056 - acc: 0.4853 - val_loss: 10.6996 - val_acc: 0.3289\n",
            "Epoch 5/50\n",
            "408/408 [==============================] - 16s 40ms/step - loss: 8.4010 - acc: 0.4730 - val_loss: 10.6996 - val_acc: 0.3289\n",
            "Epoch 6/50\n",
            "408/408 [==============================] - 15s 38ms/step - loss: 8.3229 - acc: 0.4779 - val_loss: 10.6996 - val_acc: 0.3289\n",
            "Epoch 7/50\n",
            "408/408 [==============================] - 16s 38ms/step - loss: 8.2447 - acc: 0.4828 - val_loss: 10.6996 - val_acc: 0.3289\n",
            "Epoch 8/50\n",
            "408/408 [==============================] - 16s 38ms/step - loss: 8.2447 - acc: 0.4828 - val_loss: 10.6996 - val_acc: 0.3289\n",
            "Epoch 9/50\n",
            "408/408 [==============================] - 15s 36ms/step - loss: 8.4401 - acc: 0.4706 - val_loss: 10.6996 - val_acc: 0.3289\n",
            "Epoch 10/50\n",
            "408/408 [==============================] - 15s 37ms/step - loss: 8.2447 - acc: 0.4828 - val_loss: 10.6996 - val_acc: 0.3289\n",
            "Epoch 11/50\n",
            "408/408 [==============================] - 15s 38ms/step - loss: 7.9712 - acc: 0.5000 - val_loss: 10.6996 - val_acc: 0.3289\n",
            "Epoch 12/50\n",
            "408/408 [==============================] - 15s 37ms/step - loss: 8.5964 - acc: 0.4608 - val_loss: 10.6996 - val_acc: 0.3289\n",
            "Epoch 13/50\n",
            "408/408 [==============================] - 15s 38ms/step - loss: 8.0103 - acc: 0.4975 - val_loss: 10.6996 - val_acc: 0.3289\n",
            "Epoch 14/50\n",
            "408/408 [==============================] - 15s 37ms/step - loss: 8.5573 - acc: 0.4632 - val_loss: 10.6996 - val_acc: 0.3289\n",
            "Epoch 15/50\n",
            "408/408 [==============================] - 16s 39ms/step - loss: 8.2447 - acc: 0.4828 - val_loss: 10.6996 - val_acc: 0.3289\n",
            "Epoch 16/50\n",
            "408/408 [==============================] - 17s 41ms/step - loss: 8.3619 - acc: 0.4755 - val_loss: 10.6996 - val_acc: 0.3289\n",
            "Epoch 17/50\n",
            "408/408 [==============================] - 17s 41ms/step - loss: 8.4401 - acc: 0.4706 - val_loss: 10.6996 - val_acc: 0.3289\n",
            "Epoch 18/50\n",
            "408/408 [==============================] - 17s 41ms/step - loss: 8.0493 - acc: 0.4951 - val_loss: 10.6996 - val_acc: 0.3289\n",
            "Epoch 19/50\n",
            "408/408 [==============================] - 17s 41ms/step - loss: 8.5964 - acc: 0.4608 - val_loss: 10.6996 - val_acc: 0.3289\n",
            "Epoch 20/50\n",
            "408/408 [==============================] - 16s 40ms/step - loss: 8.1666 - acc: 0.4877 - val_loss: 10.6996 - val_acc: 0.3289\n",
            "Epoch 21/50\n",
            "408/408 [==============================] - 15s 36ms/step - loss: 8.2447 - acc: 0.4828 - val_loss: 10.6996 - val_acc: 0.3289\n",
            "Epoch 22/50\n",
            "408/408 [==============================] - 15s 37ms/step - loss: 8.1275 - acc: 0.4902 - val_loss: 10.6996 - val_acc: 0.3289\n",
            "Epoch 23/50\n",
            "408/408 [==============================] - 15s 37ms/step - loss: 8.4792 - acc: 0.4681 - val_loss: 10.6996 - val_acc: 0.3289\n",
            "Epoch 24/50\n",
            "408/408 [==============================] - 16s 38ms/step - loss: 8.3229 - acc: 0.4779 - val_loss: 10.6996 - val_acc: 0.3289\n",
            "Epoch 25/50\n",
            "408/408 [==============================] - 16s 40ms/step - loss: 8.2838 - acc: 0.4804 - val_loss: 10.6996 - val_acc: 0.3289\n",
            "Epoch 26/50\n",
            "408/408 [==============================] - 15s 38ms/step - loss: 8.4010 - acc: 0.4730 - val_loss: 10.6996 - val_acc: 0.3289\n",
            "Epoch 27/50\n",
            "408/408 [==============================] - 15s 37ms/step - loss: 8.2056 - acc: 0.4853 - val_loss: 10.6996 - val_acc: 0.3289\n",
            "Epoch 28/50\n",
            "408/408 [==============================] - 15s 37ms/step - loss: 8.2056 - acc: 0.4853 - val_loss: 10.6996 - val_acc: 0.3289\n",
            "Epoch 29/50\n",
            "408/408 [==============================] - 15s 38ms/step - loss: 8.4401 - acc: 0.4706 - val_loss: 10.6996 - val_acc: 0.3289\n",
            "Epoch 30/50\n",
            "408/408 [==============================] - 16s 40ms/step - loss: 8.2838 - acc: 0.4804 - val_loss: 10.6996 - val_acc: 0.3289\n",
            "Epoch 31/50\n",
            "408/408 [==============================] - 17s 41ms/step - loss: 8.2447 - acc: 0.4828 - val_loss: 10.6996 - val_acc: 0.3289\n",
            "Epoch 32/50\n",
            "408/408 [==============================] - 17s 41ms/step - loss: 8.3619 - acc: 0.4755 - val_loss: 10.6996 - val_acc: 0.3289\n",
            "Epoch 33/50\n",
            "408/408 [==============================] - 17s 41ms/step - loss: 8.2056 - acc: 0.4853 - val_loss: 10.6996 - val_acc: 0.3289\n",
            "Epoch 34/50\n",
            "408/408 [==============================] - 17s 41ms/step - loss: 8.3619 - acc: 0.4755 - val_loss: 10.6996 - val_acc: 0.3289\n",
            "Epoch 35/50\n",
            "408/408 [==============================] - 15s 37ms/step - loss: 8.4792 - acc: 0.4681 - val_loss: 10.6996 - val_acc: 0.3289\n",
            "Epoch 36/50\n",
            "408/408 [==============================] - 15s 37ms/step - loss: 8.2056 - acc: 0.4853 - val_loss: 10.6996 - val_acc: 0.3289\n",
            "Epoch 37/50\n",
            "408/408 [==============================] - 16s 39ms/step - loss: 8.1666 - acc: 0.4877 - val_loss: 10.6996 - val_acc: 0.3289\n",
            "Epoch 38/50\n",
            "408/408 [==============================] - 16s 39ms/step - loss: 8.3619 - acc: 0.4755 - val_loss: 10.6996 - val_acc: 0.3289\n",
            "Epoch 39/50\n",
            "408/408 [==============================] - 15s 38ms/step - loss: 8.3229 - acc: 0.4779 - val_loss: 10.6996 - val_acc: 0.3289\n",
            "Epoch 40/50\n",
            "408/408 [==============================] - 15s 37ms/step - loss: 8.3229 - acc: 0.4779 - val_loss: 10.6996 - val_acc: 0.3289\n",
            "Epoch 41/50\n",
            "408/408 [==============================] - 15s 37ms/step - loss: 8.5182 - acc: 0.4657 - val_loss: 10.6996 - val_acc: 0.3289\n",
            "Epoch 42/50\n",
            "408/408 [==============================] - 15s 37ms/step - loss: 8.0884 - acc: 0.4926 - val_loss: 10.6996 - val_acc: 0.3289\n",
            "Epoch 43/50\n",
            "408/408 [==============================] - 15s 38ms/step - loss: 8.1666 - acc: 0.4877 - val_loss: 10.6996 - val_acc: 0.3289\n",
            "Epoch 44/50\n",
            "408/408 [==============================] - 16s 40ms/step - loss: 8.2838 - acc: 0.4804 - val_loss: 10.6996 - val_acc: 0.3289\n",
            "Epoch 45/50\n",
            "408/408 [==============================] - 17s 41ms/step - loss: 8.4010 - acc: 0.4730 - val_loss: 10.6996 - val_acc: 0.3289\n",
            "Epoch 46/50\n",
            "408/408 [==============================] - 17s 41ms/step - loss: 8.4010 - acc: 0.4730 - val_loss: 10.6996 - val_acc: 0.3289\n",
            "Epoch 47/50\n",
            "408/408 [==============================] - 17s 41ms/step - loss: 8.0493 - acc: 0.4951 - val_loss: 10.6996 - val_acc: 0.3289\n",
            "Epoch 48/50\n",
            "408/408 [==============================] - 16s 40ms/step - loss: 8.5182 - acc: 0.4657 - val_loss: 10.6996 - val_acc: 0.3289\n",
            "Epoch 49/50\n",
            "408/408 [==============================] - 15s 37ms/step - loss: 8.1275 - acc: 0.4902 - val_loss: 10.6996 - val_acc: 0.3289\n",
            "Epoch 50/50\n",
            "408/408 [==============================] - 15s 37ms/step - loss: 8.5573 - acc: 0.4632 - val_loss: 10.6996 - val_acc: 0.3289\n"
          ],
          "name": "stdout"
        },
        {
          "output_type": "execute_result",
          "data": {
            "text/plain": [
              "<keras.callbacks.History at 0x7f1d0bfab6d8>"
            ]
          },
          "metadata": {
            "tags": []
          },
          "execution_count": 3
        }
      ]
    },
    {
      "metadata": {
        "id": "wkhxnPtRDxUG",
        "colab_type": "code",
        "outputId": "093482fd-3b27-497e-a3ee-c63c4c915c9f",
        "colab": {
          "base_uri": "https://localhost:8080/",
          "height": 34
        }
      },
      "cell_type": "code",
      "source": [
        ""
      ],
      "execution_count": 0,
      "outputs": [
        {
          "output_type": "stream",
          "text": [
            "Saved model to disk\n"
          ],
          "name": "stdout"
        }
      ]
    },
    {
      "metadata": {
        "id": "mYhR_iMhChz8",
        "colab_type": "code",
        "outputId": "3ced5f60-c73e-418c-d3a8-7aee9836a1fc",
        "colab": {
          "base_uri": "https://localhost:8080/",
          "height": 35
        }
      },
      "cell_type": "code",
      "source": [
        "# for input_batch, label_batch in train_generator:\n",
        "#     print(middle.predict(input_batch).shape)\n",
        "#     break"
      ],
      "execution_count": 0,
      "outputs": [
        {
          "output_type": "stream",
          "text": [
            "(200, 26, 26, 64)\n"
          ],
          "name": "stdout"
        }
      ]
    },
    {
      "metadata": {
        "id": "p7pH6ZxmCaRK",
        "colab_type": "code",
        "outputId": "b099b994-6d74-4eed-ceff-523f24dddf44",
        "colab": {
          "base_uri": "https://localhost:8080/",
          "height": 51
        }
      },
      "cell_type": "code",
      "source": [
        "import numpy as np \n",
        "from keras.preprocessing import text, sequence\n",
        "from keras.preprocessing.text import Tokenizer\n",
        "from keras.utils import to_categorical\n",
        "from keras.models import Model, Input\n",
        "from keras.layers import Conv2D, MaxPooling2D\n",
        "from keras.layers import Activation, Dropout, Softmax, Flatten, Dense, BatchNormalization \n",
        "from keras.metrics import categorical_accuracy\n",
        "from keras import backend as K\n",
        "from keras import regularizers\n",
        "import tensorflow as tf\n",
        "from keras.models import Sequential\n",
        "\n",
        "from PIL import Image\n",
        "\n",
        "Image.MAX_IMAGE_PIXELS = None\n",
        "\n",
        "from keras import layers\n",
        "\n",
        "from keras.callbacks import TensorBoard\n",
        "\n",
        "#from keras.layers import Input, Dense\n",
        "from keras import layers\n",
        "from keras.applications import resnet50\n",
        "from keras import optimizers\n",
        "from keras.applications import VGG16\n",
        "\n",
        "import keras\n",
        "\n",
        "#img_width = 475\n",
        "#img_height = 388\n",
        "\n",
        "img_width = 224\n",
        "img_height = 224\n",
        "\n",
        "from PIL import Image\n",
        "\n",
        "Image.MAX_IMAGE_PIXELS = None\n",
        "\n",
        "#EGD data\n",
        "egd_dir = \"/gdrive/My Drive/EGD/\"\n",
        "\n",
        "egd_datagen = ImageDataGenerator(rescale=1./255)\n",
        "\n",
        "egd_generator = egd_datagen.flow_from_directory(\n",
        "    egd_dir,\n",
        "    target_size=(img_height, img_width),\n",
        "    color_mode=\"rgb\",\n",
        "    batch_size=batch_size,\n",
        "    class_mode='binary',\n",
        "    shuffle=True)\n",
        "\n",
        "# vgg_model = VGG16(weights='imagenet',\n",
        "#                   include_top=False)\n",
        "# vgg_model.trainable = False\n",
        "\n",
        "# x = keras.layers.Flatten(name='flatten')(vgg_model)\n",
        "# x = keras.layers.Dense(4096, activation='relu', name='fc1')(x)\n",
        "# x = keras.layers.Dense(4096, activation='relu', name='fc2')(x)\n",
        "# x = keras.layers.Dense(1000, activation='softmax', name='predictions')(x)\n",
        "# new_model = keras.models.Model(inputs=inp, outputs=x)\n",
        "# new_model.compile(optimizer='adam', loss='categorical_crossentropy', \n",
        "#                   metrics=['accuracy'])\n",
        "\n",
        "# new_model.fit_generator(\n",
        "#     egd_generator,\n",
        "#     steps_per_epoch=102 / batch_size,\n",
        "#     epochs=epochs,\n",
        "#      validation_data=validation_generator,\n",
        "#      validation_steps=nb_validation_samples / batch_size,\n",
        "#     shuffle=True) # // batch_size)\n",
        "\n",
        "\n",
        "\n",
        "features = np.zeros(shape=(102, 4, 4, 64))\n",
        "labels = np.zeros(shape=(102))\n",
        "i = 0\n",
        "for inputs_batch, labels_batch in egd_generator:\n",
        "    features_batch = middle.predict(inputs_batch)\n",
        "    features[i * batch_size : (i + 1) * batch_size] = features_batch\n",
        "    labels[i * batch_size : (i + 1) * batch_size] = labels_batch\n",
        "    i += 1\n",
        "    if i * batch_size >= 102:\n",
        "        break\n",
        "        \n",
        "print(features.shape, labels.shape)\n"
      ],
      "execution_count": 0,
      "outputs": [
        {
          "output_type": "stream",
          "text": [
            "Found 102 images belonging to 2 classes.\n",
            "(102, 4, 4, 64) (102,)\n"
          ],
          "name": "stdout"
        }
      ]
    },
    {
      "metadata": {
        "id": "FgtTNSURD1w7",
        "colab_type": "code",
        "outputId": "4e39fea6-f947-44a9-8ad4-145445b0c01b",
        "colab": {
          "base_uri": "https://localhost:8080/",
          "height": 391
        }
      },
      "cell_type": "code",
      "source": [
        "# produce 10-fold cross validation and train the model 10 times to get the average val_accuracy\n",
        "from sklearn.ensemble import RandomForestClassifier\n",
        "from sklearn.model_selection import KFold\n",
        "from sklearn import metrics\n",
        "\n",
        "\n",
        "kf = KFold(n_splits=10)\n",
        "kf.get_n_splits(features)\n",
        "\n",
        "fold_num = 0\n",
        "count = 0\n",
        "\n",
        "score_list = []\n",
        "auc_list = []\n",
        "\n",
        "for train_index, val_index in kf.split(features):\n",
        "    clf = RandomForestClassifier(n_estimators=100, max_depth=12, random_state=0, bootstrap=True)\n",
        "    clf.fit(np.reshape(features[train_index], (len(train_index), 4*4*64)), labels[train_index])\n",
        "    valid_prediction = clf.predict(np.reshape(features[val_index], (len(val_index), 4*4*64)))\n",
        "    valid_score = clf.score(np.reshape(features[val_index], (len(val_index), 4*4*64)), labels[val_index])\n",
        "    fpr, tpr, thresholds = metrics.roc_curve(labels[val_index], valid_prediction, pos_label=1)\n",
        "    valid_auc = metrics.auc(fpr, tpr)\n",
        "    score_list.append(valid_score)\n",
        "    auc_list.append(valid_auc)\n",
        "    print(labels[val_index])\n",
        "    print(valid_prediction)\n",
        "    \n",
        "print(\"mean score is: {}\".format(np.mean(score_list)))\n",
        "print(\"mean AUC is: {}\".format(np.mean(auc_list)))\n",
        "\n",
        "#print(labels[val_index])\n",
        "#print(valid_prediction)"
      ],
      "execution_count": 0,
      "outputs": [
        {
          "output_type": "stream",
          "text": [
            "[1. 1. 0. 0. 1. 1. 1. 0. 1. 1. 1.]\n",
            "[1. 1. 0. 0. 1. 1. 1. 0. 1. 1. 1.]\n",
            "[0. 0. 0. 0. 1. 0. 0. 1. 1. 1. 1.]\n",
            "[0. 0. 0. 0. 1. 0. 0. 1. 1. 1. 1.]\n",
            "[1. 0. 1. 1. 0. 1. 1. 0. 0. 1.]\n",
            "[1. 0. 1. 1. 0. 1. 1. 0. 1. 1.]\n",
            "[1. 1. 1. 1. 0. 1. 1. 1. 0. 1.]\n",
            "[0. 1. 1. 1. 0. 0. 0. 1. 0. 0.]\n",
            "[1. 1. 0. 1. 1. 0. 0. 1. 0. 0.]\n",
            "[1. 1. 0. 1. 1. 0. 1. 1. 0. 0.]\n",
            "[1. 1. 1. 0. 1. 1. 0. 1. 0. 0.]\n",
            "[1. 1. 1. 0. 1. 1. 0. 1. 0. 0.]\n",
            "[1. 0. 1. 0. 1. 0. 1. 1. 0. 0.]\n",
            "[1. 0. 1. 0. 1. 0. 1. 1. 0. 0.]\n",
            "[0. 1. 0. 0. 0. 0. 1. 0. 1. 1.]\n",
            "[0. 1. 1. 0. 0. 0. 1. 0. 1. 1.]\n",
            "[0. 1. 0. 1. 0. 1. 1. 1. 0. 0.]\n",
            "[0. 1. 0. 1. 0. 1. 1. 1. 0. 0.]\n",
            "[0. 1. 1. 0. 1. 1. 1. 0. 0. 0.]\n",
            "[0. 1. 0. 0. 1. 1. 1. 0. 1. 0.]\n",
            "mean score is: 0.9100000000000001\n",
            "mean AUC is: 0.9241666666666667\n"
          ],
          "name": "stdout"
        }
      ]
    },
    {
      "metadata": {
        "id": "_su3AJbJGzqi",
        "colab_type": "code",
        "outputId": "62ce1405-0fda-470b-abab-63fd2db69f62",
        "colab": {
          "base_uri": "https://localhost:8080/",
          "height": 87
        }
      },
      "cell_type": "code",
      "source": [
        "from sklearn.model_selection import KFold\n",
        "from sklearn import metrics\n",
        "from sklearn.ensemble import RandomForestClassifier\n",
        "from sklearn.datasets import make_classification\n",
        "\n",
        "clf = RandomForestClassifier(n_estimators=100, max_depth=12, random_state=0, bootstrap=True)\n",
        "clf.fit(np.reshape(train_features, (len(train_features), 26*26*64)), train_labels)\n",
        "valid_prediction = clf.predict(np.reshape(valid_features, (len(valid_features), 26*26*64)))\n",
        "valid_score = clf.score(np.reshape(valid_features, (len(valid_features), 26*26*64)), valid_labels)\n",
        "fpr, tpr, thresholds = metrics.roc_curve(valid_labels, valid_prediction, pos_label=1)\n",
        "valid_auc = metrics.auc(fpr, tpr)\n",
        "\n",
        "print(\"score: {}\".format(valid_score))\n",
        "print(\"AUC: {}\".format(valid_auc))"
      ],
      "execution_count": 0,
      "outputs": [
        {
          "output_type": "stream",
          "text": [
            "score: 0.09375\n",
            "AUC: nan\n"
          ],
          "name": "stdout"
        },
        {
          "output_type": "stream",
          "text": [
            "/usr/local/lib/python3.6/dist-packages/sklearn/metrics/ranking.py:571: UndefinedMetricWarning: No positive samples in y_true, true positive value should be meaningless\n",
            "  UndefinedMetricWarning)\n"
          ],
          "name": "stderr"
        }
      ]
    },
    {
      "metadata": {
        "id": "TMzyyvoWIfsC",
        "colab_type": "code",
        "outputId": "888fff5a-8b7d-4f0a-eaed-b4738249ba6c",
        "colab": {
          "base_uri": "https://localhost:8080/",
          "height": 52
        }
      },
      "cell_type": "code",
      "source": [
        "from sklearn.model_selection import KFold\n",
        "from sklearn import metrics\n",
        "from sklearn.ensemble import RandomForestClassifier\n",
        "from sklearn.datasets import make_classification\n",
        "\n",
        "clf = RandomForestClassifier(n_estimators=100, max_depth=12, random_state=0, bootstrap=True)\n",
        "clf.fit(np.reshape(train_features, (len(train_features), 26*26*64)), train_labels)\n",
        "test_prediction = clf.predict(np.reshape(test_features, (len(test_features), 26*26*64)))\n",
        "test_score = clf.score(np.reshape(test_features, (len(test_features), 26*26*64)), test_labels)\n",
        "fpr, tpr, thresholds = metrics.roc_curve(test_labels, test_prediction, pos_label=1)\n",
        "test_auc = metrics.auc(fpr, tpr)\n",
        "\n",
        "print(\"score: {}\".format(test_score))\n",
        "print(\"AUC: {}\".format(test_auc))"
      ],
      "execution_count": 0,
      "outputs": [
        {
          "output_type": "stream",
          "text": [
            "score: 0.20557851239669422\n",
            "AUC: 0.4806315104166667\n"
          ],
          "name": "stdout"
        }
      ]
    },
    {
      "metadata": {
        "id": "4z0LUZRGHS5g",
        "colab_type": "code",
        "colab": {}
      },
      "cell_type": "code",
      "source": [
        "# divide to 10-folds\n",
        "\n",
        "# produce 10-fold cross validation and train the model 10 times to get the average val_accuracy\n",
        "from sklearn.model_selection import KFold\n",
        "from sklearn import metrics\n",
        "from sklearn.ensemble import RandomForestClassifier\n",
        "from sklearn.datasets import make_classification\n",
        "\n",
        "kf = KFold(n_splits=10)\n",
        "kf.get_n_splits(features)\n",
        "\n",
        "fold_num = 0\n",
        "count = 0\n",
        "\n",
        "score_list = []\n",
        "auc_list = []\n",
        "\n",
        "for train_index, val_index in kf.split(features):\n",
        "    clf = RandomForestClassifier(n_estimators=100, max_depth=12, random_state=0, bootstrap=True)\n",
        "    clf.fit(np.reshape(features[train_index], (len(train_index), 388*475*3)), labels[train_index])\n",
        "    valid_prediction = clf.predict(np.reshape(features[val_index], (len(val_index), 388*475*3)))\n",
        "    valid_score = clf.score(np.reshape(features[val_index], (len(val_index), 388*475*3)), labels[val_index])\n",
        "    fpr, tpr, thresholds = metrics.roc_curve(labels[val_index], valid_prediction, pos_label=1)\n",
        "    valid_auc = metrics.auc(fpr, tpr)\n",
        "    score_list.append(valid_score)\n",
        "    auc_list.append(valid_auc)\n",
        "    \n",
        "print(\"mean score is: {}\".format(np.mean(score_list)))\n",
        "print(\"mean AUC is: {}\".format(np.mean(auc_list)))\n"
      ],
      "execution_count": 0,
      "outputs": []
    },
    {
      "metadata": {
        "id": "qFOZX8lqoDE8",
        "colab_type": "code",
        "outputId": "5511688c-f9ae-42b3-97d6-fcf56dca2e2b",
        "colab": {
          "base_uri": "https://localhost:8080/",
          "height": 476
        }
      },
      "cell_type": "code",
      "source": [
        "# !pip install keras-vis\n",
        "!pip install git+https://github.com/raghakot/keras-vis.git\n",
        "\n",
        "from keras.applications import ResNet50\n",
        "from vis.utils import utils\n",
        "from keras import activations\n",
        "\n",
        "# Hide warnings on Jupyter Notebook\n",
        "import warnings\n",
        "warnings.filterwarnings('ignore')"
      ],
      "execution_count": 0,
      "outputs": [
        {
          "output_type": "stream",
          "text": [
            "Collecting git+https://github.com/raghakot/keras-vis.git\n",
            "  Cloning https://github.com/raghakot/keras-vis.git to /tmp/pip-req-build-61rk4mng\n",
            "Requirement already satisfied: keras in /usr/local/lib/python3.6/dist-packages (from keras-vis==0.4.1) (2.2.4)\n",
            "Requirement already satisfied: six in /usr/local/lib/python3.6/dist-packages (from keras-vis==0.4.1) (1.11.0)\n",
            "Requirement already satisfied: scikit-image in /usr/local/lib/python3.6/dist-packages (from keras-vis==0.4.1) (0.13.1)\n",
            "Requirement already satisfied: matplotlib in /usr/local/lib/python3.6/dist-packages (from keras-vis==0.4.1) (2.1.2)\n",
            "Requirement already satisfied: h5py in /usr/local/lib/python3.6/dist-packages (from keras-vis==0.4.1) (2.8.0)\n",
            "Requirement already satisfied: keras-preprocessing>=1.0.5 in /usr/local/lib/python3.6/dist-packages (from keras->keras-vis==0.4.1) (1.0.5)\n",
            "Requirement already satisfied: numpy>=1.9.1 in /usr/local/lib/python3.6/dist-packages (from keras->keras-vis==0.4.1) (1.14.6)\n",
            "Requirement already satisfied: pyyaml in /usr/local/lib/python3.6/dist-packages (from keras->keras-vis==0.4.1) (3.13)\n",
            "Requirement already satisfied: scipy>=0.14 in /usr/local/lib/python3.6/dist-packages (from keras->keras-vis==0.4.1) (1.1.0)\n",
            "Requirement already satisfied: keras-applications>=1.0.6 in /usr/local/lib/python3.6/dist-packages (from keras->keras-vis==0.4.1) (1.0.6)\n",
            "Requirement already satisfied: networkx>=1.8 in /usr/local/lib/python3.6/dist-packages (from scikit-image->keras-vis==0.4.1) (2.2)\n",
            "Requirement already satisfied: pillow>=2.1.0 in /usr/local/lib/python3.6/dist-packages (from scikit-image->keras-vis==0.4.1) (4.0.0)\n",
            "Requirement already satisfied: PyWavelets>=0.4.0 in /usr/local/lib/python3.6/dist-packages (from scikit-image->keras-vis==0.4.1) (1.0.1)\n",
            "Requirement already satisfied: python-dateutil>=2.1 in /usr/local/lib/python3.6/dist-packages (from matplotlib->keras-vis==0.4.1) (2.5.3)\n",
            "Requirement already satisfied: cycler>=0.10 in /usr/local/lib/python3.6/dist-packages (from matplotlib->keras-vis==0.4.1) (0.10.0)\n",
            "Requirement already satisfied: pytz in /usr/local/lib/python3.6/dist-packages (from matplotlib->keras-vis==0.4.1) (2018.7)\n",
            "Requirement already satisfied: pyparsing!=2.0.4,!=2.1.2,!=2.1.6,>=2.0.1 in /usr/local/lib/python3.6/dist-packages (from matplotlib->keras-vis==0.4.1) (2.3.0)\n",
            "Requirement already satisfied: decorator>=4.3.0 in /usr/local/lib/python3.6/dist-packages (from networkx>=1.8->scikit-image->keras-vis==0.4.1) (4.3.0)\n",
            "Requirement already satisfied: olefile in /usr/local/lib/python3.6/dist-packages (from pillow>=2.1.0->scikit-image->keras-vis==0.4.1) (0.46)\n",
            "Building wheels for collected packages: keras-vis\n",
            "  Running setup.py bdist_wheel for keras-vis ... \u001b[?25l-\b \b\\\b \bdone\n",
            "\u001b[?25h  Stored in directory: /tmp/pip-ephem-wheel-cache-q11y7kbk/wheels/c5/ae/e7/b34d1cb48b1898f606a5cce08ebc9521fa0588f37f1e590d9f\n",
            "Successfully built keras-vis\n",
            "Installing collected packages: keras-vis\n",
            "Successfully installed keras-vis-0.4.1\n"
          ],
          "name": "stdout"
        }
      ]
    },
    {
      "metadata": {
        "id": "-VO90cQNa0F8",
        "colab_type": "text"
      },
      "cell_type": "markdown",
      "source": [
        "# Testing on Untouched Subset of Atlantis Patients and Controls"
      ]
    },
    {
      "metadata": {
        "id": "5GhgTmHRNkLB",
        "colab_type": "code",
        "colab": {}
      },
      "cell_type": "code",
      "source": [
        "#TEST Accuracy on fraction from same group results in quite high accuracy but could get higher...\n",
        "#print(train_generator.filenames)\n",
        "#print(validation_generator.filenames)\n",
        "\n",
        "nb_test_samples = 200\n",
        "\n",
        "result = model.evaluate_generator(test_generator, steps=nb_test_samples / batch_size)\n",
        "print(result)\n",
        "\n",
        "predictions = model.predict_generator(test_generator, steps=nb_test_samples / batch_size)\n",
        "print(np.round(predictions))\n",
        "print(len(predictions))\n",
        "img_path = \"/gdrive/My Drive/deep learning/Project/testProbMaps/patients/24215.png\"\n",
        "\n",
        "from keras.preprocessing import image                             \n",
        "import numpy as np\n",
        "\n",
        "img = image.load_img(img_path, target_size=(img_width, img_height))\n",
        "img_tensor = image.img_to_array(img)\n",
        "img_tensor = np.expand_dims(img_tensor, axis=0)\n",
        "img_tensor /= 255.                                               \n",
        "\n",
        "\n",
        "print(img_tensor.shape)\n",
        "#validation_generator.classes"
      ],
      "execution_count": 0,
      "outputs": []
    },
    {
      "metadata": {
        "id": "_8ZkhcPdbCf6",
        "colab_type": "text"
      },
      "cell_type": "markdown",
      "source": [
        "# Testing on Early Glaucoma Dataset"
      ]
    },
    {
      "metadata": {
        "id": "Ozecf5dWSW_K",
        "colab_type": "code",
        "colab": {}
      },
      "cell_type": "code",
      "source": [
        "#TEST Accuracy on Early Glaucoma Dataset (actually about 50% of these are classified as controls by experts \n",
        "#but were patients according to the training group criteria), so 50% accuracy make sense!!\n",
        "test_dir = \"/gdrive/My Drive/test/\" \n",
        "\n",
        "img_width = 600\n",
        "img_height = 450\n",
        "\n",
        "test_generator = test_datagen.flow_from_directory(\n",
        "    test_dir,\n",
        "    target_size=(img_width, img_height),\n",
        "    batch_size=batch_size,\n",
        "    class_mode='binary')\n",
        "\n",
        "nb_test_samples = 102\n",
        "\n",
        "result = model.evaluate_generator(test_generator, steps=nb_test_samples / batch_size)\n",
        "print(result)\n",
        "\n",
        "predictions = model.predict_generator(test_generator, steps=nb_test_samples / batch_size)\n",
        "print(np.round(predictions))\n",
        "print(len(predictions))\n",
        "\n"
      ],
      "execution_count": 0,
      "outputs": []
    },
    {
      "metadata": {
        "id": "sS7YBBb1Eb6l",
        "colab_type": "code",
        "colab": {}
      },
      "cell_type": "code",
      "source": [
        "print(test_generator.filenames)"
      ],
      "execution_count": 0,
      "outputs": []
    },
    {
      "metadata": {
        "id": "BepJjgcnbLPO",
        "colab_type": "text"
      },
      "cell_type": "markdown",
      "source": [
        "# Visualizing Layer Activations"
      ]
    },
    {
      "metadata": {
        "id": "1jUYHYFFbeUd",
        "colab_type": "code",
        "colab": {}
      },
      "cell_type": "code",
      "source": [
        "import matplotlib.pyplot as plt\n",
        "\n",
        "#plt.imshow(img_tensor[0])\n",
        "#plt.show()\n",
        "\n",
        "from keras import models\n",
        "\n",
        "layer_outputs = [layer.output for layer in model.layers[:8]]               \n",
        "activation_model = models.Model(inputs=model.input, outputs=layer_outputs)\n",
        "activations = activation_model.predict(img_tensor)\n",
        "first_layer_activation = activations[0]\n",
        "print(first_layer_activation.shape)\n",
        "\n",
        "import matplotlib.pyplot as plt\n",
        "plt.figure()\n",
        "plt.matshow(first_layer_activation[0, :, :, 4], cmap='viridis')\n",
        "\n",
        "model.summary"
      ],
      "execution_count": 0,
      "outputs": []
    },
    {
      "metadata": {
        "id": "g_cnRtr3sTpE",
        "colab_type": "code",
        "colab": {}
      },
      "cell_type": "code",
      "source": [
        ""
      ],
      "execution_count": 0,
      "outputs": []
    }
  ]
}