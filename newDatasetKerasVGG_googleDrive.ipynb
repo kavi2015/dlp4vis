{
  "nbformat": 4,
  "nbformat_minor": 0,
  "metadata": {
    "colab": {
      "name": "newDatasetKerasVGG_googleDrive.ipynb",
      "version": "0.3.2",
      "provenance": [],
      "collapsed_sections": []
    },
    "kernelspec": {
      "name": "python3",
      "display_name": "Python 3"
    },
    "accelerator": "GPU"
  },
  "cells": [
    {
      "metadata": {
        "id": "wiahzM1EfnfQ",
        "colab_type": "text"
      },
      "cell_type": "markdown",
      "source": [
        "# Mounting Google Drive"
      ]
    },
    {
      "metadata": {
        "id": "Ci2gPZb6ZIEw",
        "colab_type": "code",
        "outputId": "f57dfb35-47a2-4fd7-ae5e-e073034ea09f",
        "colab": {
          "base_uri": "https://localhost:8080/",
          "height": 34
        }
      },
      "cell_type": "code",
      "source": [
        "##### before running it, make sure you don't have lots of big files in your google drive\n",
        "##### otherwise it's going to take too long to finish running it before giving the TIMEOUT error\n",
        "##### also save the train_controls, train_patients, val_controls, val_patients to your drive and\n",
        "##### create a \"train\" folder with train_controls, train_patients in it, and \n",
        "##### a \"val\" folder with val_controls, val_patients in it.\n",
        "##### change the train_dir and val_dir in the next cell to the dir of your train and val folder\n",
        "##### e.g. my train and val folder are saved in the \"deep learning\" dir\n",
        "\n",
        "from google.colab import drive\n",
        "drive.mount('/gdrive')"
      ],
      "execution_count": 2,
      "outputs": [
        {
          "output_type": "stream",
          "text": [
            "Drive already mounted at /gdrive; to attempt to forcibly remount, call drive.mount(\"/gdrive\", force_remount=True).\n"
          ],
          "name": "stdout"
        }
      ]
    },
    {
      "metadata": {
        "id": "Z3N68kUFfu1I",
        "colab_type": "text"
      },
      "cell_type": "markdown",
      "source": [
        "# Loading Train, Val, and Test Data Using Keras ImageDataGenerator"
      ]
    },
    {
      "metadata": {
        "id": "oeCnbRQ-ZVQO",
        "colab_type": "code",
        "outputId": "1c54b478-b198-44cd-9efd-8bc84a6be2d0",
        "colab": {
          "base_uri": "https://localhost:8080/",
          "height": 156
        }
      },
      "cell_type": "code",
      "source": [
        "train_dir = \"/gdrive/My Drive/new_dataset/trainProbMaps/\"\n",
        "val_dir = \"/gdrive/My Drive/new_dataset/valProbMaps/\"\n",
        "test_dir = \"/gdrive/My Drive/new_dataset/testProbMaps/\"\n",
        "\n",
        "img_width = 600\n",
        "img_height = 450\n",
        "batch_size = 5\n",
        "channels = 3\n",
        "epochs = 50\n",
        "nb_train_samples = 410\n",
        "nb_validation_samples = 150\n",
        "nb_test_samples = 200\n",
        "\n",
        "from keras.preprocessing.image import ImageDataGenerator\n",
        "\n",
        "train_datagen = ImageDataGenerator(rescale=1./255)             \n",
        "valid_datagen = ImageDataGenerator(rescale=1./255)    \n",
        "test_datagen = ImageDataGenerator(rescale=1./255) \n",
        "\n",
        "train_generator = train_datagen.flow_from_directory(\n",
        "        train_dir, \n",
        "        target_size=(img_width, img_height),\n",
        "        batch_size=batch_size,\n",
        "        class_mode='binary')   \n",
        "\n",
        "validation_generator = valid_datagen.flow_from_directory(\n",
        "    val_dir,\n",
        "    target_size=(img_width, img_height),\n",
        "    batch_size=batch_size,\n",
        "    class_mode='binary') #weight toward one class or another\n",
        "\n",
        "test_generator = test_datagen.flow_from_directory(\n",
        "    test_dir,\n",
        "    target_size=(img_width, img_height),\n",
        "    batch_size=batch_size,\n",
        "    class_mode='binary')\n",
        "\n",
        "#Keras takes care of generating labels if the directory structure matches above!\n",
        "label_mapT = train_generator.class_indices\n",
        "print(label_mapT)\n",
        "\n",
        "label_mapV = validation_generator.class_indices\n",
        "print(label_mapV)\n",
        "\n",
        "label_mapTe = test_generator.class_indices\n",
        "print(label_mapTe)\n",
        "\n",
        "for data_batch, labels_batch in train_generator:\n",
        "    print ('data batch shape:', data_batch.shape)\n",
        "    #print(data_batch)\n",
        "    print('labels batch shape:', labels_batch.shape)\n",
        "    #print(labels_batch)\n",
        "    break"
      ],
      "execution_count": 4,
      "outputs": [
        {
          "output_type": "stream",
          "text": [
            "Found 410 images belonging to 2 classes.\n",
            "Found 150 images belonging to 2 classes.\n",
            "Found 200 images belonging to 2 classes.\n",
            "{'controls': 0, 'patients': 1}\n",
            "{'controls': 0, 'patients': 1}\n",
            "{'controls': 0, 'patients': 1}\n",
            "data batch shape: (5, 600, 450, 3)\n",
            "labels batch shape: (5,)\n"
          ],
          "name": "stdout"
        }
      ]
    },
    {
      "metadata": {
        "id": "8DSNcgHwfzN2",
        "colab_type": "text"
      },
      "cell_type": "markdown",
      "source": [
        "# Building the Model Architecture (Pre-trained Kerass VGG16 Extracting Features from OCT Dataset) & Training the Model"
      ]
    },
    {
      "metadata": {
        "id": "-5V7skIXZQrr",
        "colab_type": "code",
        "outputId": "3a7bc300-c9ae-456c-d420-d78cbf1e161d",
        "colab": {
          "base_uri": "https://localhost:8080/",
          "height": 52
        }
      },
      "cell_type": "code",
      "source": [
        "import numpy as np \n",
        "from keras.preprocessing import text, sequence\n",
        "from keras.preprocessing.text import Tokenizer\n",
        "from keras.utils import to_categorical\n",
        "from keras.models import Model, Input\n",
        "from keras.layers import Conv2D, MaxPooling2D\n",
        "from keras.layers import Activation, Dropout, Softmax, Flatten, Dense, BatchNormalization \n",
        "from keras.metrics import categorical_accuracy\n",
        "from keras import backend as K\n",
        "from keras import regularizers\n",
        "import tensorflow as tf\n",
        "from keras.models import Sequential\n",
        "\n",
        "from keras import layers\n",
        "\n",
        "from keras.callbacks import TensorBoard\n",
        "\n",
        "#from keras.layers import Input, Dense\n",
        "from keras import layers\n",
        "from keras.applications import resnet50\n",
        "from keras import optimizers\n",
        "from keras.applications import VGG16\n",
        "\n",
        "#pretrained VGG16 on imagenet, starting to replicate Hassan's work\n",
        "conv_base = VGG16(weights='imagenet',\n",
        "                  include_top=False,\n",
        "                  input_shape=(img_width, img_height, channels))\n",
        "\n",
        "#model.summary()\n",
        "\n",
        "#Extracting features from OCT data using pretrained VGG\n",
        "def extract_features(directory, sample_count):\n",
        "    features = np.zeros(shape=(sample_count, 18, 14, 512))\n",
        "    labels = np.zeros(shape=(sample_count))\n",
        "    train_generator = train_datagen.flow_from_directory(\n",
        "        directory,\n",
        "        target_size=(img_width, img_height),\n",
        "        batch_size=batch_size,\n",
        "        class_mode='binary')\n",
        "    i = 0\n",
        "    for inputs_batch, labels_batch in train_generator:\n",
        "        features_batch = conv_base.predict(inputs_batch)\n",
        "        #print(shape(features_batch))\n",
        "        features[i * batch_size : (i + 1) * batch_size] = features_batch\n",
        "        labels[i * batch_size : (i + 1) * batch_size] = labels_batch\n",
        "        i += 1\n",
        "        if i * batch_size >= sample_count:\n",
        "            break                                                           \n",
        "    return features, labels\n",
        "\n",
        "train_features, train_labels = extract_features(train_dir, nb_train_samples)\n",
        "validation_features, validation_labels = extract_features(val_dir, nb_validation_samples)\n"
      ],
      "execution_count": 11,
      "outputs": [
        {
          "output_type": "stream",
          "text": [
            "Found 410 images belonging to 2 classes.\n",
            "Found 150 images belonging to 2 classes.\n"
          ],
          "name": "stdout"
        }
      ]
    },
    {
      "metadata": {
        "id": "Hdgxyp8mgBI2",
        "colab_type": "text"
      },
      "cell_type": "markdown",
      "source": [
        "# Classifier Layer: Random Forrest In Progress or Dense Layer"
      ]
    },
    {
      "metadata": {
        "id": "3NYNHkbggGqo",
        "colab_type": "code",
        "colab": {}
      },
      "cell_type": "code",
      "source": [
        ""
      ],
      "execution_count": 0,
      "outputs": []
    },
    {
      "metadata": {
        "id": "D_jbAwFOM54a",
        "colab_type": "code",
        "outputId": "09e67bdd-bc23-4e67-cfd2-488ecfac123f",
        "colab": {
          "base_uri": "https://localhost:8080/",
          "height": 451
        }
      },
      "cell_type": "code",
      "source": [
        "from sklearn.ensemble import RandomForestClassifier\n",
        "from sklearn.datasets import make_classification\n",
        "\n",
        "X, y = make_classification(n_samples=nb_validation_samples, n_features=len(validation_features), \n",
        "                           n_informative=2, n_redundant=0, random_state=0, shuffle=False)\n",
        "clf = RandomForestClassifier(n_estimators=100, max_depth=2, random_state=0)\n",
        "clf.fit(X, y)\n",
        "RandomForestClassifier(bootstrap=True, class_weight=None, criterion='gini',\n",
        "            max_depth=2, max_features='auto', max_leaf_nodes=None,\n",
        "            min_impurity_decrease=0.0, min_impurity_split=None,\n",
        "            min_samples_leaf=1, min_samples_split=2,\n",
        "            min_weight_fraction_leaf=0.0, n_estimators=100, n_jobs=None,\n",
        "            oob_score=False, random_state=0, verbose=0, warm_start=False)\n",
        "print(clf.feature_importances_)\n",
        "\n",
        "#print(clf.predict([[validation_features]]))\n",
        "\n",
        "\n",
        "# model = Sequential()\n",
        "# model.add(layers.Dense(512, activation='relu', input_dim=18 * 14 * 512))\n",
        "# model.add(layers.Dropout(0.5))\n",
        "# model.add(layers.Dense(1, activation='sigmoid'))\n",
        "\n",
        "# model.summary()  \n",
        "\n",
        "# model.compile(optimizer=optimizers.RMSprop(lr=0.01), #2e-5\n",
        "#               loss='binary_crossentropy',\n",
        "#               metrics=['acc'])\n",
        "\n",
        "# train_features = np.reshape(train_features, (nb_train_samples, 18 * 14 * 512))\n",
        "# validation_features = np.reshape(validation_features, (nb_validation_samples, 18 * 14 * 512))\n",
        "\n",
        "# history = model.fit(train_features, train_labels,\n",
        "#                     epochs=50,\n",
        "#                     batch_size=5,\n",
        "#                     validation_data=(validation_features, validation_labels))"
      ],
      "execution_count": 10,
      "outputs": [
        {
          "output_type": "stream",
          "text": [
            "[0.00928052 0.17763431 0.00574641 0.         0.00198298 0.00835966\n",
            " 0.0035934  0.         0.00535439 0.00534121 0.01146534 0.00151419\n",
            " 0.         0.01361906 0.00337935 0.00367449 0.         0.01293903\n",
            " 0.         0.00813975 0.00272854 0.00084522 0.00105284 0.00938653\n",
            " 0.00425684 0.00431292 0.00483407 0.00435044 0.01312944 0.00209084\n",
            " 0.00591801 0.         0.0191225  0.004576   0.         0.0012213\n",
            " 0.00557711 0.00723148 0.00607344 0.00187041 0.00085115 0.00222705\n",
            " 0.03070598 0.00490528 0.01042616 0.00545176 0.         0.01511682\n",
            " 0.00480796 0.00450642 0.00988211 0.         0.         0.\n",
            " 0.01981062 0.01116548 0.         0.00383973 0.00934391 0.00401216\n",
            " 0.00349472 0.00746213 0.04569979 0.00387129 0.00598896 0.\n",
            " 0.00480529 0.0083002  0.00150465 0.00337087 0.0026359  0.01401519\n",
            " 0.00693629 0.01467007 0.         0.         0.00177829 0.0042894\n",
            " 0.         0.00448167 0.         0.00535985 0.         0.\n",
            " 0.00201246 0.03164177 0.         0.         0.00195475 0.00351754\n",
            " 0.         0.         0.00054846 0.02558278 0.00400629 0.02001948\n",
            " 0.         0.         0.         0.         0.         0.006166\n",
            " 0.01717311 0.         0.         0.00169973 0.00833599 0.00398682\n",
            " 0.00819638 0.00828157 0.01246186 0.00606856 0.00324995 0.\n",
            " 0.01190542 0.005748   0.         0.         0.00319595 0.00498412\n",
            " 0.00827135 0.01127715 0.00199534 0.00266619 0.         0.\n",
            " 0.         0.00180257 0.00568708 0.00283688 0.         0.01891335\n",
            " 0.00741443 0.00910975 0.         0.00458625 0.0040385  0.00175772\n",
            " 0.01339839 0.         0.         0.0087167  0.         0.00782594\n",
            " 0.0096631  0.01031098 0.01803839 0.00790391 0.00048477 0.00624515]\n"
          ],
          "name": "stdout"
        }
      ]
    },
    {
      "metadata": {
        "id": "5XaQCuhMgJnL",
        "colab_type": "text"
      },
      "cell_type": "markdown",
      "source": [
        "# Testing"
      ]
    },
    {
      "metadata": {
        "id": "5GhgTmHRNkLB",
        "colab_type": "code",
        "colab": {}
      },
      "cell_type": "code",
      "source": [
        "#print(train_generator.filenames)\n",
        "#print(validation_generator.filenames)\n",
        "\n",
        "nb_test_samples = 102\n",
        "\n",
        "result = model.evaluate_generator(test_generator, steps=nb_test_samples / batch_size)\n",
        "print(result)\n",
        "\n",
        "predictions = model.predict_generator(test_generator, steps=nb_test_samples / batch_size)\n",
        "print(predictions)\n",
        "print(len(predictions))\n",
        "img_path = \"/gdrive/My Drive/validation/val_patients/patient13.png\"\n",
        "\n",
        "from keras.preprocessing import image                             \n",
        "import numpy as np\n",
        "\n",
        "img = image.load_img(img_path, target_size=(img_width, img_height))\n",
        "img_tensor = image.img_to_array(img)\n",
        "img_tensor = np.expand_dims(img_tensor, axis=0)\n",
        "img_tensor /= 255.                                               \n",
        "\n",
        "\n",
        "print(img_tensor.shape)\n",
        "#validation_generator.classes"
      ],
      "execution_count": 0,
      "outputs": []
    },
    {
      "metadata": {
        "id": "e4y1KHm1gLnn",
        "colab_type": "text"
      },
      "cell_type": "markdown",
      "source": [
        "# Visualizing"
      ]
    },
    {
      "metadata": {
        "id": "1jUYHYFFbeUd",
        "colab_type": "code",
        "colab": {}
      },
      "cell_type": "code",
      "source": [
        "import matplotlib.pyplot as plt\n",
        "\n",
        "#plt.imshow(img_tensor[0])\n",
        "#plt.show()\n",
        "\n",
        "from keras import models\n",
        "\n",
        "layer_outputs = [layer.output for layer in model.layers[:8]]               \n",
        "activation_model = models.Model(inputs=model.input, outputs=layer_outputs)\n",
        "activations = activation_model.predict(img_tensor)\n",
        "first_layer_activation = activations[0]\n",
        "print(first_layer_activation.shape)\n",
        "\n",
        "import matplotlib.pyplot as plt\n",
        "plt.figure()\n",
        "plt.matshow(first_layer_activation[0, :, :, 4], cmap='viridis')"
      ],
      "execution_count": 0,
      "outputs": []
    }
  ]
}