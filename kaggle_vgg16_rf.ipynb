{
  "nbformat": 4,
  "nbformat_minor": 0,
  "metadata": {
    "colab": {
      "name": "KaggleDataset_KerasVGG_googleDrive.ipynb",
      "version": "0.3.2",
      "provenance": [],
      "collapsed_sections": []
    },
    "kernelspec": {
      "name": "python3",
      "display_name": "Python 3"
    },
    "accelerator": "GPU"
  },
  "cells": [
    {
      "metadata": {
        "id": "wiahzM1EfnfQ",
        "colab_type": "text"
      },
      "cell_type": "markdown",
      "source": [
        "# Mounting Google Drive"
      ]
    },
    {
      "metadata": {
        "id": "Ci2gPZb6ZIEw",
        "colab_type": "code",
        "outputId": "31dca253-d5b9-4f0e-f2de-a41552be2f72",
        "colab": {
          "base_uri": "https://localhost:8080/",
          "height": 122
        }
      },
      "cell_type": "code",
      "source": [
        "##### before running it, make sure you don't have lots of big files in your google drive\n",
        "##### otherwise it's going to take too long to finish running it before giving the TIMEOUT error\n",
        "##### also save the train_controls, train_patients, val_controls, val_patients to your drive and\n",
        "##### create a \"train\" folder with train_controls, train_patients in it, and \n",
        "##### a \"val\" folder with val_controls, val_patients in it.\n",
        "##### change the train_dir and val_dir in the next cell to the dir of your train and val folder\n",
        "##### e.g. my train and val folder are saved in the \"deep learning\" dir\n",
        "\n",
        "from google.colab import drive\n",
        "drive.mount('/gdrive')"
      ],
      "execution_count": 1,
      "outputs": [
        {
          "output_type": "stream",
          "text": [
            "Go to this URL in a browser: https://accounts.google.com/o/oauth2/auth?client_id=947318989803-6bn6qk8qdgf4n4g3pfee6491hc0brc4i.apps.googleusercontent.com&redirect_uri=urn%3Aietf%3Awg%3Aoauth%3A2.0%3Aoob&scope=email%20https%3A%2F%2Fwww.googleapis.com%2Fauth%2Fdocs.test%20https%3A%2F%2Fwww.googleapis.com%2Fauth%2Fdrive%20https%3A%2F%2Fwww.googleapis.com%2Fauth%2Fdrive.photos.readonly%20https%3A%2F%2Fwww.googleapis.com%2Fauth%2Fpeopleapi.readonly&response_type=code\n",
            "\n",
            "Enter your authorization code:\n",
            "··········\n",
            "Mounted at /gdrive\n"
          ],
          "name": "stdout"
        }
      ]
    },
    {
      "metadata": {
        "id": "Z3N68kUFfu1I",
        "colab_type": "text"
      },
      "cell_type": "markdown",
      "source": [
        "# Loading Train, Val, and Test Data Using Keras ImageDataGenerator"
      ]
    },
    {
      "metadata": {
        "id": "oeCnbRQ-ZVQO",
        "colab_type": "code",
        "outputId": "d9d587aa-9a8a-45e0-d00d-c07239567a30",
        "colab": {
          "base_uri": "https://localhost:8080/",
          "height": 85
        }
      },
      "cell_type": "code",
      "source": [
        "#Kavi's and Chelsea's Dir\n",
        "train_dir = \"/gdrive/My Drive/kaggle_dataset/train/\"\n",
        "val_dir = \"/gdrive/My Drive/kaggle_dataset/val/\"\n",
        "test_dir = \"/gdrive/My Drive/kaggle_dataset/test/\"\n",
        "\n",
        "# Daniel's dir:\n",
        "# train_dir = \"/gdrive/My Drive/deep learning/Project/trainProbMaps/\"\n",
        "# val_dir = \"/gdrive/My Drive/deep learning/Project/valProbMaps/\"\n",
        "# test_dir = \"/gdrive/My Drive/deep learning/Project/testProbMaps/\"\n",
        "\n",
        "img_width = 224\n",
        "img_height = 224\n",
        "batch_size = 1\n",
        "channels = 3\n",
        "epochs = 50\n",
        "nb_train_samples = 8000\n",
        "nb_valid_samples = 32\n",
        "nb_test_samples = 968\n",
        "\n",
        "from keras.preprocessing.image import ImageDataGenerator\n",
        "\n",
        "train_datagen = ImageDataGenerator(rescale=1./255)             \n",
        "valid_datagen = ImageDataGenerator(rescale=1./255)    \n",
        "test_datagen = ImageDataGenerator(rescale=1./255) \n",
        "\n",
        "train_generator = train_datagen.flow_from_directory(\n",
        "    train_dir, \n",
        "    target_size=(img_height, img_width),\n",
        "    color_mode=\"rgb\",\n",
        "    batch_size=batch_size,\n",
        "    class_mode='binary',\n",
        "    shuffle=True)   \n",
        "\n",
        "valid_generator = valid_datagen.flow_from_directory(\n",
        "    val_dir,\n",
        "    target_size=(img_height, img_width),\n",
        "    color_mode=\"rgb\",\n",
        "    batch_size=batch_size,\n",
        "    class_mode='binary',\n",
        "    shuffle=True) #weight toward one class or another\n",
        "\n",
        "test_generator = test_datagen.flow_from_directory(\n",
        "    test_dir,\n",
        "    target_size=(img_height, img_width),\n",
        "    color_mode=\"rgb\",\n",
        "    batch_size=batch_size,\n",
        "    class_mode='binary',\n",
        "    shuffle=False)"
      ],
      "execution_count": 2,
      "outputs": [
        {
          "output_type": "stream",
          "text": [
            "Using TensorFlow backend.\n"
          ],
          "name": "stderr"
        },
        {
          "output_type": "stream",
          "text": [
            "Found 8000 images belonging to 4 classes.\n",
            "Found 32 images belonging to 4 classes.\n",
            "Found 968 images belonging to 4 classes.\n"
          ],
          "name": "stdout"
        }
      ]
    },
    {
      "metadata": {
        "id": "8DSNcgHwfzN2",
        "colab_type": "text"
      },
      "cell_type": "markdown",
      "source": [
        "# Building the Model Architecture (Pre-trained Keras VGG16 Extracting Features from OCT Dataset) & Training the Model"
      ]
    },
    {
      "metadata": {
        "id": "-5V7skIXZQrr",
        "colab_type": "code",
        "outputId": "7764ce58-8699-43c5-d8e8-71991da256aa",
        "colab": {
          "base_uri": "https://localhost:8080/",
          "height": 68
        }
      },
      "cell_type": "code",
      "source": [
        "import numpy as np \n",
        "from keras.preprocessing import text, sequence\n",
        "from keras.preprocessing.text import Tokenizer\n",
        "from keras.utils import to_categorical\n",
        "from keras.models import Model, Input\n",
        "from keras.layers import Conv2D, MaxPooling2D\n",
        "from keras.layers import Activation, Dropout, Softmax, Flatten, Dense, BatchNormalization \n",
        "from keras.metrics import categorical_accuracy\n",
        "from keras import backend as K\n",
        "from keras import regularizers\n",
        "import tensorflow as tf\n",
        "from keras.models import Sequential\n",
        "\n",
        "from PIL import Image\n",
        "\n",
        "Image.MAX_IMAGE_PIXELS = None\n",
        "\n",
        "from keras import layers\n",
        "\n",
        "from keras.callbacks import TensorBoard\n",
        "\n",
        "#from keras.layers import Input, Dense\n",
        "from keras import layers\n",
        "from keras.applications import resnet50\n",
        "from keras import optimizers\n",
        "from keras.applications import VGG16\n",
        "\n",
        "#pretrained VGG16 on imagenet, starting to replicate Hassan's work\n",
        "conv_base = VGG16(weights='imagenet',\n",
        "                  include_top=False,\n",
        "                  input_shape=(img_height, img_width, channels))\n",
        "\n",
        "#conv_base.summary()\n",
        "\n",
        "#Extracting features from OCT data using pretrained VGG\n",
        "def extract_features(dataset_type, sample_count):\n",
        "    features = np.zeros(shape=(sample_count, 7, 7, 512))\n",
        "    labels = np.zeros(shape=(sample_count))\n",
        "    i = 0\n",
        "    if dataset_type == \"train\":\n",
        "        for inputs_batch, labels_batch in train_generator:\n",
        "            features_batch = conv_base.predict(inputs_batch)\n",
        "            features[i * batch_size : (i + 1) * batch_size] = features_batch\n",
        "            labels[i * batch_size : (i + 1) * batch_size] = labels_batch\n",
        "            i += 1\n",
        "            if i * batch_size >= sample_count:\n",
        "                break   \n",
        "    elif dataset_type == \"valid\":\n",
        "        for inputs_batch, labels_batch in valid_generator:\n",
        "            features_batch = conv_base.predict(inputs_batch)\n",
        "            features[i * batch_size : (i + 1) * batch_size] = features_batch\n",
        "            labels[i * batch_size : (i + 1) * batch_size] = labels_batch\n",
        "            i += 1\n",
        "            if i * batch_size >= sample_count:\n",
        "                break\n",
        "    else:\n",
        "        for inputs_batch, labels_batch in test_generator:\n",
        "            features_batch = conv_base.predict(inputs_batch)\n",
        "            features[i * batch_size : (i + 1) * batch_size] = features_batch\n",
        "            labels[i * batch_size : (i + 1) * batch_size] = labels_batch\n",
        "            i += 1\n",
        "            if i * batch_size >= sample_count:\n",
        "                break\n",
        "    return features, labels\n",
        "\n",
        "train_features, train_labels = extract_features(\"train\", nb_train_samples)\n",
        "valid_features, valid_labels = extract_features(\"valid\", nb_valid_samples)\n",
        "test_features, test_labels = extract_features(\"test\", nb_test_samples)\n",
        "\n",
        "\n",
        "print(train_features.shape, train_labels.shape)\n",
        "print(valid_features.shape, valid_labels.shape)\n",
        "print(test_features.shape, test_labels.shape)"
      ],
      "execution_count": 4,
      "outputs": [
        {
          "output_type": "stream",
          "text": [
            "(8000, 7, 7, 512) (8000,)\n",
            "(32, 7, 7, 512) (32,)\n",
            "(968, 7, 7, 512) (968,)\n"
          ],
          "name": "stdout"
        }
      ]
    },
    {
      "metadata": {
        "id": "_-RWc6YnbvSw",
        "colab_type": "text"
      },
      "cell_type": "markdown",
      "source": [
        "# For hidden"
      ]
    },
    {
      "metadata": {
        "id": "tbo2bcfWsa9H",
        "colab_type": "code",
        "outputId": "d2f18d61-20f1-44f6-a737-52e280b8836d",
        "colab": {
          "base_uri": "https://localhost:8080/",
          "height": 1258
        }
      },
      "cell_type": "code",
      "source": [
        "import keras\n",
        "\n",
        "#img_width = 475\n",
        "#img_height = 388\n",
        "\n",
        "img_width = 224\n",
        "img_height = 224\n",
        "\n",
        "from PIL import Image\n",
        "\n",
        "Image.MAX_IMAGE_PIXELS = None\n",
        "\n",
        "#EGD data\n",
        "egd_dir = \"/gdrive/My Drive/kaggle_dataset/test/\"\n",
        "\n",
        "egd_datagen = ImageDataGenerator(rescale=1./255)\n",
        "\n",
        "egd_generator = egd_datagen.flow_from_directory(\n",
        "    egd_dir,\n",
        "    target_size=(img_height, img_width),\n",
        "    color_mode=\"rgb\",\n",
        "    batch_size=batch_size,\n",
        "    class_mode='binary',\n",
        "    shuffle=True)\n",
        "\n",
        "conv_base = VGG16(weights='imagenet',\n",
        "                  include_top=False,\n",
        "                  input_shape=(img_height, img_width, channels))\n",
        "\n",
        "conv_base.summary()\n",
        "# inp = keras.layers.Input(shape=(img_height, img_width, channels), name='image_input')\n",
        "\n",
        "# vgg_model = VGG16(weights='imagenet',\n",
        "#                   include_top=False)\n",
        "# vgg_model.trainable = False\n",
        "\n",
        "# x = keras.layers.Flatten(name='flatten')(vgg_model)\n",
        "# x = keras.layers.Dense(4096, activation='relu', name='fc1')(x)\n",
        "# x = keras.layers.Dense(4096, activation='relu', name='fc2')(x)\n",
        "# x = keras.layers.Dense(1000, activation='softmax', name='predictions')(x)\n",
        "# new_model = keras.models.Model(inputs=inp, outputs=x)\n",
        "# new_model.compile(optimizer='adam', loss='categorical_crossentropy', \n",
        "#                   metrics=['accuracy'])\n",
        "\n",
        "# new_model.fit_generator(\n",
        "#     egd_generator,\n",
        "#     steps_per_epoch=102 / batch_size,\n",
        "#     epochs=epochs,\n",
        "#      validation_data=validation_generator,\n",
        "#      validation_steps=nb_validation_samples / batch_size,\n",
        "#     shuffle=True) # // batch_size)\n",
        "\n",
        "\n",
        "\n",
        "features = np.zeros(shape=(968, 7, 7, 512))\n",
        "labels = np.zeros(shape=(968))\n",
        "i = 0\n",
        "for inputs_batch, labels_batch in egd_generator:\n",
        "    features_batch = conv_base.predict(inputs_batch)\n",
        "    features[i * batch_size : (i + 1) * batch_size] = features_batch\n",
        "    labels[i * batch_size : (i + 1) * batch_size] = labels_batch\n",
        "    i += 1\n",
        "    if i * batch_size >= 968:\n",
        "        break\n",
        "        \n",
        "print(features.shape, labels.shape)\n",
        "\n",
        "from google.colab import files\n",
        "features = np.reshape(features, (968, 7*7*512))\n",
        "print(features.shape)\n",
        "np.savetxt('Labels.txt', labels)\n",
        "files.download('Labels.txt')\n",
        "np.savetxt('VGG_RF_Features.txt', features)\n",
        "files.download('VGG_RF_Features.txt')"
      ],
      "execution_count": 0,
      "outputs": [
        {
          "output_type": "stream",
          "text": [
            "Found 968 images belonging to 4 classes.\n",
            "_________________________________________________________________\n",
            "Layer (type)                 Output Shape              Param #   \n",
            "=================================================================\n",
            "input_6 (InputLayer)         (None, 224, 224, 3)       0         \n",
            "_________________________________________________________________\n",
            "block1_conv1 (Conv2D)        (None, 224, 224, 64)      1792      \n",
            "_________________________________________________________________\n",
            "block1_conv2 (Conv2D)        (None, 224, 224, 64)      36928     \n",
            "_________________________________________________________________\n",
            "block1_pool (MaxPooling2D)   (None, 112, 112, 64)      0         \n",
            "_________________________________________________________________\n",
            "block2_conv1 (Conv2D)        (None, 112, 112, 128)     73856     \n",
            "_________________________________________________________________\n",
            "block2_conv2 (Conv2D)        (None, 112, 112, 128)     147584    \n",
            "_________________________________________________________________\n",
            "block2_pool (MaxPooling2D)   (None, 56, 56, 128)       0         \n",
            "_________________________________________________________________\n",
            "block3_conv1 (Conv2D)        (None, 56, 56, 256)       295168    \n",
            "_________________________________________________________________\n",
            "block3_conv2 (Conv2D)        (None, 56, 56, 256)       590080    \n",
            "_________________________________________________________________\n",
            "block3_conv3 (Conv2D)        (None, 56, 56, 256)       590080    \n",
            "_________________________________________________________________\n",
            "block3_pool (MaxPooling2D)   (None, 28, 28, 256)       0         \n",
            "_________________________________________________________________\n",
            "block4_conv1 (Conv2D)        (None, 28, 28, 512)       1180160   \n",
            "_________________________________________________________________\n",
            "block4_conv2 (Conv2D)        (None, 28, 28, 512)       2359808   \n",
            "_________________________________________________________________\n",
            "block4_conv3 (Conv2D)        (None, 28, 28, 512)       2359808   \n",
            "_________________________________________________________________\n",
            "block4_pool (MaxPooling2D)   (None, 14, 14, 512)       0         \n",
            "_________________________________________________________________\n",
            "block5_conv1 (Conv2D)        (None, 14, 14, 512)       2359808   \n",
            "_________________________________________________________________\n",
            "block5_conv2 (Conv2D)        (None, 14, 14, 512)       2359808   \n",
            "_________________________________________________________________\n",
            "block5_conv3 (Conv2D)        (None, 14, 14, 512)       2359808   \n",
            "_________________________________________________________________\n",
            "block5_pool (MaxPooling2D)   (None, 7, 7, 512)         0         \n",
            "=================================================================\n",
            "Total params: 14,714,688\n",
            "Trainable params: 14,714,688\n",
            "Non-trainable params: 0\n",
            "_________________________________________________________________\n",
            "(968, 7, 7, 512) (968,)\n",
            "(968, 25088)\n"
          ],
          "name": "stdout"
        },
        {
          "output_type": "stream",
          "text": [
            "----------------------------------------\n",
            "Exception happened during processing of request from ('::ffff:127.0.0.1', 49150, 0, 0)\n",
            "Traceback (most recent call last):\n",
            "  File \"/usr/lib/python3.6/socketserver.py\", line 317, in _handle_request_noblock\n",
            "    self.process_request(request, client_address)\n",
            "  File \"/usr/lib/python3.6/socketserver.py\", line 348, in process_request\n",
            "    self.finish_request(request, client_address)\n",
            "  File \"/usr/lib/python3.6/socketserver.py\", line 361, in finish_request\n",
            "    self.RequestHandlerClass(request, client_address, self)\n",
            "  File \"/usr/lib/python3.6/socketserver.py\", line 721, in __init__\n",
            "    self.handle()\n",
            "  File \"/usr/lib/python3.6/http/server.py\", line 418, in handle\n",
            "    self.handle_one_request()\n",
            "  File \"/usr/lib/python3.6/http/server.py\", line 406, in handle_one_request\n",
            "    method()\n",
            "  File \"/usr/lib/python3.6/http/server.py\", line 639, in do_GET\n",
            "    self.copyfile(f, self.wfile)\n",
            "  File \"/usr/lib/python3.6/http/server.py\", line 800, in copyfile\n",
            "    shutil.copyfileobj(source, outputfile)\n",
            "  File \"/usr/lib/python3.6/shutil.py\", line 82, in copyfileobj\n",
            "    fdst.write(buf)\n",
            "  File \"/usr/lib/python3.6/socketserver.py\", line 800, in write\n",
            "    self._sock.sendall(b)\n",
            "ConnectionResetError: [Errno 104] Connection reset by peer\n",
            "----------------------------------------\n"
          ],
          "name": "stderr"
        }
      ]
    },
    {
      "metadata": {
        "colab_type": "code",
        "id": "vIajzenf2_26",
        "colab": {}
      },
      "cell_type": "code",
      "source": [
        ""
      ],
      "execution_count": 0,
      "outputs": []
    },
    {
      "metadata": {
        "id": "I5gN9fA1ufEf",
        "colab_type": "code",
        "outputId": "989ae04d-2618-43d5-af9f-558ba24ae249",
        "colab": {
          "base_uri": "https://localhost:8080/",
          "height": 51
        }
      },
      "cell_type": "code",
      "source": [
        "# divide to 10-folds\n",
        "\n",
        "# produce 10-fold cross validation and train the model 10 times to get the average val_accuracy\n",
        "from sklearn.ensemble import RandomForestClassifier\n",
        "from sklearn.model_selection import KFold\n",
        "from sklearn import metrics\n",
        "\n",
        "kf = KFold(n_splits=10)\n",
        "kf.get_n_splits(features)\n",
        "\n",
        "fold_num = 0\n",
        "count = 0\n",
        "\n",
        "score_list = []\n",
        "auc_list = []\n",
        "\n",
        "for train_index, val_index in kf.split(features):\n",
        "    clf = RandomForestClassifier(n_estimators=100, max_depth=12, random_state=0, bootstrap=True)\n",
        "    clf.fit(np.reshape(features[train_index], (len(train_index), 7*7*512)), labels[train_index])\n",
        "    valid_prediction = clf.predict(np.reshape(features[val_index], (len(val_index), 7*7*512)))\n",
        "    valid_score = clf.score(np.reshape(features[val_index], (len(val_index), 7*7*512)), labels[val_index])\n",
        "    fpr, tpr, thresholds = metrics.roc_curve(labels[val_index], valid_prediction, pos_label=1)\n",
        "    valid_auc = metrics.auc(fpr, tpr)\n",
        "    score_list.append(valid_score)\n",
        "    auc_list.append(valid_auc)\n",
        "    \n",
        "print(\"mean score is: {}\".format(np.mean(score_list)))\n",
        "print(\"mean AUC is: {}\".format(np.mean(auc_list)))\n"
      ],
      "execution_count": 0,
      "outputs": [
        {
          "output_type": "stream",
          "text": [
            "mean score is: 0.8884664948453608\n",
            "mean AUC is: 0.3588617281058046\n"
          ],
          "name": "stdout"
        }
      ]
    },
    {
      "metadata": {
        "id": "Hdgxyp8mgBI2",
        "colab_type": "text"
      },
      "cell_type": "markdown",
      "source": [
        "# Classifier Layer: Random Forest"
      ]
    },
    {
      "metadata": {
        "id": "pC1hJV8fsTGE",
        "colab_type": "code",
        "colab": {}
      },
      "cell_type": "code",
      "source": [
        "from sklearn.ensemble import RandomForestClassifier\n",
        "from sklearn.datasets import make_classification\n",
        "from sklearn import metrics\n",
        "\n",
        "clf = RandomForestClassifier(n_estimators=100, max_depth=12, random_state=0, bootstrap=True)\n",
        "clf.fit(np.reshape(train_features, (8000, 7*7*512)), train_labels)\n",
        "\n",
        "valid_prediction = clf.predict(np.reshape(valid_features, (32, 7*7*512)))\n",
        "# print(\"validation accuracy:\", sum([prediction[i] == valid_labels[i] for i in range(len(valid_labels))])/len(valid_labels))\n",
        "#print(prediction)\n",
        "#print(valid_labels)\n",
        "\n",
        "test_prediction = clf.predict(np.reshape(test_features, (968, 7*7*512)))\n",
        "# print(\"test accuracy:\", sum([prediction[i] == test_labels[i] for i in range(len(test_labels))])/len(test_labels))\n",
        "# print(test_prediction)\n",
        "# print(test_labels)\n"
      ],
      "execution_count": 0,
      "outputs": []
    },
    {
      "metadata": {
        "id": "Yn1sO6ZsISuU",
        "colab_type": "code",
        "outputId": "0e63a909-0d09-4452-b6f9-75cd1f736deb",
        "colab": {
          "base_uri": "https://localhost:8080/",
          "height": 85
        }
      },
      "cell_type": "code",
      "source": [
        "valid_score = clf.score(np.reshape(valid_features, (nb_valid_samples, 7*7*512)), valid_labels)\n",
        "test_score = clf.score(np.reshape(test_features, (nb_test_samples, 7*7*512)), test_labels)\n",
        "\n",
        "print(\"valid accuracy:\", valid_score)\n",
        "print(\"test accuracy:\", test_score)\n",
        "\n",
        "from sklearn import metrics\n",
        "\n",
        "fpr, tpr, thresholds = metrics.roc_curve(valid_labels, valid_prediction, pos_label=1)\n",
        "print(\"valid AUC:\", metrics.auc(fpr, tpr))\n",
        "fpr, tpr, thresholds = metrics.roc_curve(test_labels, test_prediction, pos_label=1)\n",
        "print(\"test AUC:\", metrics.auc(fpr, tpr))"
      ],
      "execution_count": 7,
      "outputs": [
        {
          "output_type": "stream",
          "text": [
            "valid accuracy: 0.90625\n",
            "test accuracy: 0.893595041322314\n",
            "valid AUC: 0.43229166666666663\n",
            "test AUC: 0.4221962297657264\n"
          ],
          "name": "stdout"
        }
      ]
    },
    {
      "metadata": {
        "id": "V3HaMPeDhRGd",
        "colab_type": "code",
        "colab": {}
      },
      "cell_type": "code",
      "source": [
        "print(test_generator.filenames)"
      ],
      "execution_count": 0,
      "outputs": []
    },
    {
      "metadata": {
        "id": "x66frobHhbOn",
        "colab_type": "code",
        "colab": {}
      },
      "cell_type": "code",
      "source": [
        "control_list, patient_list = test_generator.filenames[:100], test_generator.filenames[100:]\n",
        "\n",
        "print(test_generator.filenames[:100])\n",
        "print(test_generator.filenames[100:])\n",
        "\n",
        "control_idx_list = [9, 61, 65, 70]\n",
        "patient_idx_list = [32, 43, 46, 48, 52, 86]\n",
        "\n",
        "from google.colab import files\n",
        "\n",
        "patient_name_list = [patient_list[i] for i in patient_idx_list]\n",
        "control_name_list = [control_list[i] for i in control_idx_list]\n",
        "\n",
        "for i in range(len(patient_name_list)):\n",
        "    files.download(test_dir+patient_name_list[i])\n",
        "\n",
        "for i in range(len(control_name_list)):\n",
        "    files.download(test_dir+control_name_list[i])"
      ],
      "execution_count": 0,
      "outputs": []
    },
    {
      "metadata": {
        "id": "5XaQCuhMgJnL",
        "colab_type": "text"
      },
      "cell_type": "markdown",
      "source": [
        "# Testing"
      ]
    },
    {
      "metadata": {
        "id": "5GhgTmHRNkLB",
        "colab_type": "code",
        "outputId": "678c14d9-6fec-4702-cf9f-3a78b193cb2d",
        "colab": {
          "base_uri": "https://localhost:8080/",
          "height": 235
        }
      },
      "cell_type": "code",
      "source": [
        "#print(train_generator.filenames)\n",
        "#print(validation_generator.filenames)\n",
        "\n",
        "nb_test_samples = 102\n",
        "\n",
        "result = model.evaluate_generator(test_generator, steps=nb_test_samples / batch_size)\n",
        "print(result)\n",
        "\n",
        "predictions = model.predict_generator(test_generator, steps=nb_test_samples / batch_size)\n",
        "print(predictions)\n",
        "print(len(predictions))\n",
        "img_path = \"/gdrive/My Drive/validation/val_patients/patient13.png\"\n",
        "\n",
        "from keras.preprocessing import image                             \n",
        "import numpy as np\n",
        "\n",
        "img = image.load_img(img_path, target_size=(img_width, img_height))\n",
        "img_tensor = image.img_to_array(img)\n",
        "img_tensor = np.expand_dims(img_tensor, axis=0)\n",
        "img_tensor /= 255.                                               \n",
        "\n",
        "\n",
        "print(img_tensor.shape)\n",
        "#validation_generator.classes"
      ],
      "execution_count": 0,
      "outputs": [
        {
          "output_type": "error",
          "ename": "NameError",
          "evalue": "ignored",
          "traceback": [
            "\u001b[0;31m---------------------------------------------------------------------------\u001b[0m",
            "\u001b[0;31mNameError\u001b[0m                                 Traceback (most recent call last)",
            "\u001b[0;32m<ipython-input-4-d0a0fa8d0281>\u001b[0m in \u001b[0;36m<module>\u001b[0;34m()\u001b[0m\n\u001b[1;32m      2\u001b[0m \u001b[0mnb_test_samples\u001b[0m \u001b[0;34m=\u001b[0m \u001b[0;36m102\u001b[0m\u001b[0;34m\u001b[0m\u001b[0m\n\u001b[1;32m      3\u001b[0m \u001b[0;34m\u001b[0m\u001b[0m\n\u001b[0;32m----> 4\u001b[0;31m \u001b[0mresult\u001b[0m \u001b[0;34m=\u001b[0m \u001b[0mmodel\u001b[0m\u001b[0;34m.\u001b[0m\u001b[0mevaluate_generator\u001b[0m\u001b[0;34m(\u001b[0m\u001b[0mtest_generator\u001b[0m\u001b[0;34m,\u001b[0m \u001b[0msteps\u001b[0m\u001b[0;34m=\u001b[0m\u001b[0mnb_test_samples\u001b[0m \u001b[0;34m/\u001b[0m \u001b[0mbatch_size\u001b[0m\u001b[0;34m)\u001b[0m\u001b[0;34m\u001b[0m\u001b[0m\n\u001b[0m\u001b[1;32m      5\u001b[0m \u001b[0mprint\u001b[0m\u001b[0;34m(\u001b[0m\u001b[0mresult\u001b[0m\u001b[0;34m)\u001b[0m\u001b[0;34m\u001b[0m\u001b[0m\n\u001b[1;32m      6\u001b[0m \u001b[0;34m\u001b[0m\u001b[0m\n",
            "\u001b[0;31mNameError\u001b[0m: name 'model' is not defined"
          ]
        }
      ]
    },
    {
      "metadata": {
        "id": "e4y1KHm1gLnn",
        "colab_type": "text"
      },
      "cell_type": "markdown",
      "source": [
        "# Visualizing"
      ]
    },
    {
      "metadata": {
        "id": "1jUYHYFFbeUd",
        "colab_type": "code",
        "colab": {}
      },
      "cell_type": "code",
      "source": [
        "import matplotlib.pyplot as plt\n",
        "\n",
        "#plt.imshow(img_tensor[0])\n",
        "#plt.show()\n",
        "\n",
        "from keras import models\n",
        "\n",
        "layer_outputs = [layer.output for layer in model.layers[:8]]               \n",
        "activation_model = models.Model(inputs=model.input, outputs=layer_outputs)\n",
        "activations = activation_model.predict(img_tensor)\n",
        "first_layer_activation = activations[0]\n",
        "print(first_layer_activation.shape)\n",
        "\n",
        "import matplotlib.pyplot as plt\n",
        "plt.figure()\n",
        "plt.matshow(first_layer_activation[0, :, :, 4], cmap='viridis')"
      ],
      "execution_count": 0,
      "outputs": []
    },
    {
      "metadata": {
        "id": "gakgr801v8bD",
        "colab_type": "text"
      },
      "cell_type": "markdown",
      "source": [
        "# Visualizing attention map"
      ]
    },
    {
      "metadata": {
        "id": "LHq7lRzswBtv",
        "colab_type": "code",
        "colab": {}
      },
      "cell_type": "code",
      "source": [
        "# !pip install keras-vis\n",
        "!pip install git+https://github.com/raghakot/keras-vis.git\n",
        "\n",
        "from keras.applications import ResNet50\n",
        "from vis.utils import utils\n",
        "from keras import activations\n",
        "\n",
        "# Hide warnings on Jupyter Notebook\n",
        "import warnings\n",
        "warnings.filterwarnings('ignore')"
      ],
      "execution_count": 0,
      "outputs": []
    },
    {
      "metadata": {
        "id": "CMJLs0kXwHJi",
        "colab_type": "code",
        "colab": {}
      },
      "cell_type": "code",
      "source": [
        "from vis.utils import utils\n",
        "from matplotlib import pyplot as plt\n",
        "%matplotlib inline\n",
        "plt.rcParams['figure.figsize'] = (18, 6)\n",
        "\n",
        "# img1 = utils.load_img('/gdrive/My Drive/deep_learning/val/val_controls/_ERGO-0449_OS_2014_triton_wf_report.png', \n",
        "#                       target_size=(img_width / 5, img_height / 5))\n",
        "# img2 = utils.load_img('/gdrive/My Drive/deep_learning/val/val_controls/_ERGO-0450_OD_2014_triton_wf_report.png', \n",
        "#                       target_size=(img_width / 5, img_height / 5))\n",
        "\n",
        "img1 = utils.load_img('/gdrive/My Drive/deep_learning/new_dataset/test/controls/View2098.png', \n",
        "                      target_size=(img_width, img_height))\n",
        "img2 = utils.load_img('/gdrive/My Drive/deep_learning/new_dataset/train/patients/194.png', \n",
        "                      target_size=(img_width, img_height))\n",
        "\n",
        "f, ax = plt.subplots(1, 2)\n",
        "ax[0].imshow(img1)\n",
        "ax[1].imshow(img2)"
      ],
      "execution_count": 0,
      "outputs": []
    },
    {
      "metadata": {
        "id": "AXmlqO9KwKTK",
        "colab_type": "code",
        "colab": {}
      },
      "cell_type": "code",
      "source": [
        "from vis.visualization import visualize_saliency, overlay\n",
        "from vis.utils import utils\n",
        "from keras import activations\n",
        "from vis.visualization import visualize_cam\n",
        "\n",
        "\n",
        "# import numpy as np\n",
        "import matplotlib.cm as cm\n",
        "# from vis.visualization import visualize_cam\n",
        "\n",
        "\n",
        "penultimate_layer = utils.find_layer_idx(model, 'conv2d_15')\n",
        "layer_idx = utils.find_layer_idx(model, 'dense_9')\n",
        "\n",
        "for modifier in [None, 'guided', 'relu']:\n",
        "    plt.figure()\n",
        "    f, ax = plt.subplots(1, 4)\n",
        "    plt.suptitle(\"vanilla\" if modifier is None else modifier)\n",
        "    for i, img in enumerate([img1, img2]):    \n",
        "        # 20 is the imagenet index corresponding to `ouzel`\n",
        "        grads = visualize_cam(model, layer_idx, filter_indices=0, \n",
        "                              seed_input=img, penultimate_layer_idx=penultimate_layer,\n",
        "                              backprop_modifier=modifier)        \n",
        "        # Lets overlay the heatmap onto original image.    \n",
        "        jet_heatmap = np.uint8(cm.jet(grads)[..., :3] * 255)\n",
        "        ax[i].imshow(jet_heatmap)\n",
        "        ax[i + 2].imshow(img)\n",
        "#         ax[i].imshow(jet_heatmap)\n",
        "#         print(jet_heatmap.shape)\n",
        "#         print(img.shape)\n",
        "#         ax[i].imshow(overlay(jet_heatmap, img))\n"
      ],
      "execution_count": 0,
      "outputs": []
    }
  ]
}