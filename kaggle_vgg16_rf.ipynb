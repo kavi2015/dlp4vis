{
  "nbformat": 4,
  "nbformat_minor": 0,
  "metadata": {
    "colab": {
      "name": "kaggle_vgg16_rf.ipynb",
      "version": "0.3.2",
      "provenance": [],
      "collapsed_sections": []
    },
    "kernelspec": {
      "name": "python3",
      "display_name": "Python 3"
    },
    "accelerator": "GPU"
  },
  "cells": [
    {
      "metadata": {
        "id": "wiahzM1EfnfQ",
        "colab_type": "text"
      },
      "cell_type": "markdown",
      "source": [
        "# Mounting Google Drive"
      ]
    },
    {
      "metadata": {
        "id": "Ci2gPZb6ZIEw",
        "colab_type": "code",
        "outputId": "dbebe276-32be-46e1-eaa8-dd528015dede",
        "colab": {
          "base_uri": "https://localhost:8080/",
          "height": 34
        }
      },
      "cell_type": "code",
      "source": [
        "##### before running it, make sure you don't have lots of big files in your google drive\n",
        "##### otherwise it's going to take too long to finish running it before giving the TIMEOUT error\n",
        "##### also save the train_controls, train_patients, val_controls, val_patients to your drive and\n",
        "##### create a \"train\" folder with train_controls, train_patients in it, and \n",
        "##### a \"val\" folder with val_controls, val_patients in it.\n",
        "##### change the train_dir and val_dir in the next cell to the dir of your train and val folder\n",
        "##### e.g. my train and val folder are saved in the \"deep learning\" dir\n",
        "\n",
        "from google.colab import drive\n",
        "drive.mount('/gdrive')"
      ],
      "execution_count": 0,
      "outputs": [
        {
          "output_type": "stream",
          "text": [
            "Drive already mounted at /gdrive; to attempt to forcibly remount, call drive.mount(\"/gdrive\", force_remount=True).\n"
          ],
          "name": "stdout"
        }
      ]
    },
    {
      "metadata": {
        "id": "Z3N68kUFfu1I",
        "colab_type": "text"
      },
      "cell_type": "markdown",
      "source": [
        "# Loading Train, Val, and Test Data Using Keras ImageDataGenerator"
      ]
    },
    {
      "metadata": {
        "id": "oeCnbRQ-ZVQO",
        "colab_type": "code",
        "outputId": "b8758dbf-7bf9-4844-a310-85fcce783da9",
        "colab": {
          "base_uri": "https://localhost:8080/",
          "height": 86
        }
      },
      "cell_type": "code",
      "source": [
        "#Kavi's and Chelsea's Dir\n",
        "train_dir = \"/gdrive/My Drive/kaggle_dataset/train/\"\n",
        "val_dir = \"/gdrive/My Drive/kaggle_dataset/val/\"\n",
        "test_dir = \"/gdrive/My Drive/kaggle_dataset/test/\"\n",
        "\n",
        "# Daniel's dir:\n",
        "# train_dir = \"/gdrive/My Drive/deep learning/Project/trainProbMaps/\"\n",
        "# val_dir = \"/gdrive/My Drive/deep learning/Project/valProbMaps/\"\n",
        "# test_dir = \"/gdrive/My Drive/deep learning/Project/testProbMaps/\"\n",
        "\n",
        "img_width = 224\n",
        "img_height = 224\n",
        "batch_size = 1\n",
        "channels = 3\n",
        "epochs = 50\n",
        "nb_train_samples = 8000\n",
        "nb_valid_samples = 32\n",
        "nb_test_samples = 968\n",
        "\n",
        "n_classes = 4\n",
        "\n",
        "from keras.preprocessing.image import ImageDataGenerator\n",
        "\n",
        "train_datagen = ImageDataGenerator(rescale=1./255)             \n",
        "valid_datagen = ImageDataGenerator(rescale=1./255)    \n",
        "test_datagen = ImageDataGenerator(rescale=1./255) \n",
        "\n",
        "train_generator = train_datagen.flow_from_directory(\n",
        "    train_dir, \n",
        "    target_size=(img_height, img_width),\n",
        "    color_mode=\"rgb\",\n",
        "    batch_size=batch_size,\n",
        "    class_mode='binary',\n",
        "    shuffle=True)   \n",
        "\n",
        "valid_generator = valid_datagen.flow_from_directory(\n",
        "    val_dir,\n",
        "    target_size=(img_height, img_width),\n",
        "    color_mode=\"rgb\",\n",
        "    batch_size=batch_size,\n",
        "    class_mode='binary',\n",
        "    shuffle=True) #weight toward one class or another\n",
        "\n",
        "test_generator = test_datagen.flow_from_directory(\n",
        "    test_dir,\n",
        "    target_size=(img_height, img_width),\n",
        "    color_mode=\"rgb\",\n",
        "    batch_size=batch_size,\n",
        "    class_mode='binary',\n",
        "    shuffle=False)"
      ],
      "execution_count": 0,
      "outputs": [
        {
          "output_type": "stream",
          "text": [
            "Using TensorFlow backend.\n"
          ],
          "name": "stderr"
        },
        {
          "output_type": "stream",
          "text": [
            "Found 8000 images belonging to 4 classes.\n",
            "Found 32 images belonging to 4 classes.\n",
            "Found 968 images belonging to 4 classes.\n"
          ],
          "name": "stdout"
        }
      ]
    },
    {
      "metadata": {
        "id": "8DSNcgHwfzN2",
        "colab_type": "text"
      },
      "cell_type": "markdown",
      "source": [
        "# Building the Model Architecture (Pre-trained Keras VGG16 Extracting Features from OCT Dataset) & Training the Model"
      ]
    },
    {
      "metadata": {
        "id": "-5V7skIXZQrr",
        "colab_type": "code",
        "outputId": "d69da9ba-78a7-4b4a-aa2c-caa82a4e2655",
        "colab": {
          "base_uri": "https://localhost:8080/",
          "height": 104
        }
      },
      "cell_type": "code",
      "source": [
        "import numpy as np \n",
        "from keras.preprocessing import text, sequence\n",
        "from keras.preprocessing.text import Tokenizer\n",
        "from keras.utils import to_categorical\n",
        "from keras.models import Model, Input\n",
        "from keras.layers import Conv2D, MaxPooling2D\n",
        "from keras.layers import Activation, Dropout, Softmax, Flatten, Dense, BatchNormalization \n",
        "from keras.metrics import categorical_accuracy\n",
        "from keras import backend as K\n",
        "from keras import regularizers\n",
        "import tensorflow as tf\n",
        "from keras.models import Sequential\n",
        "\n",
        "from PIL import Image\n",
        "\n",
        "Image.MAX_IMAGE_PIXELS = None\n",
        "\n",
        "from keras import layers\n",
        "\n",
        "from keras.callbacks import TensorBoard\n",
        "\n",
        "#from keras.layers import Input, Dense\n",
        "from keras import layers\n",
        "from keras.applications import resnet50\n",
        "from keras import optimizers\n",
        "from keras.applications import VGG16\n",
        "\n",
        "#pretrained VGG16 on imagenet, starting to replicate Hassan's work\n",
        "conv_base = VGG16(weights='imagenet',\n",
        "                  include_top=False,\n",
        "                  input_shape=(img_height, img_width, channels))\n",
        "\n",
        "#conv_base.summary()\n",
        "\n",
        "#Extracting features from OCT data using pretrained VGG\n",
        "def extract_features(dataset_type, sample_count):\n",
        "    features = np.zeros(shape=(sample_count, 7, 7, 512))\n",
        "    labels = np.zeros(shape=(sample_count))\n",
        "    i = 0\n",
        "    if dataset_type == \"train\":\n",
        "        for inputs_batch, labels_batch in train_generator:\n",
        "            features_batch = conv_base.predict(inputs_batch)\n",
        "            features[i * batch_size : (i + 1) * batch_size] = features_batch\n",
        "            labels[i * batch_size : (i + 1) * batch_size] = labels_batch\n",
        "            i += 1\n",
        "            if i * batch_size >= sample_count:\n",
        "                break   \n",
        "    elif dataset_type == \"valid\":\n",
        "        for inputs_batch, labels_batch in valid_generator:\n",
        "            features_batch = conv_base.predict(inputs_batch)\n",
        "            features[i * batch_size : (i + 1) * batch_size] = features_batch\n",
        "            labels[i * batch_size : (i + 1) * batch_size] = labels_batch\n",
        "            i += 1\n",
        "            if i * batch_size >= sample_count:\n",
        "                break\n",
        "    else:\n",
        "        for inputs_batch, labels_batch in test_generator:\n",
        "            features_batch = conv_base.predict(inputs_batch)\n",
        "            features[i * batch_size : (i + 1) * batch_size] = features_batch\n",
        "            labels[i * batch_size : (i + 1) * batch_size] = labels_batch\n",
        "            i += 1\n",
        "            if i * batch_size >= sample_count:\n",
        "                break\n",
        "    return features, labels\n",
        "\n",
        "train_features, train_labels = extract_features(\"train\", nb_train_samples)\n",
        "valid_features, valid_labels = extract_features(\"valid\", nb_valid_samples)\n",
        "test_features, test_labels = extract_features(\"test\", nb_test_samples)\n",
        "\n",
        "\n",
        "print(train_features.shape, train_labels.shape)\n",
        "print(valid_features.shape, valid_labels.shape)\n",
        "print(test_features.shape, test_labels.shape)"
      ],
      "execution_count": 0,
      "outputs": [
        {
          "output_type": "stream",
          "text": [
            "Downloading data from https://github.com/fchollet/deep-learning-models/releases/download/v0.1/vgg16_weights_tf_dim_ordering_tf_kernels_notop.h5\n",
            "58892288/58889256 [==============================] - 1s 0us/step\n",
            "(8000, 7, 7, 512) (8000,)\n",
            "(32, 7, 7, 512) (32,)\n",
            "(968, 7, 7, 512) (968,)\n"
          ],
          "name": "stdout"
        }
      ]
    },
    {
      "metadata": {
        "id": "Hdgxyp8mgBI2",
        "colab_type": "text"
      },
      "cell_type": "markdown",
      "source": [
        "# Classifier Layer: Random Forest"
      ]
    },
    {
      "metadata": {
        "id": "pC1hJV8fsTGE",
        "colab_type": "code",
        "outputId": "ec1b8eb8-c3fc-4536-f227-4c8de08ee566",
        "colab": {
          "base_uri": "https://localhost:8080/",
          "height": 1545
        }
      },
      "cell_type": "code",
      "source": [
        "from sklearn.ensemble import RandomForestClassifier\n",
        "from sklearn.datasets import make_classification\n",
        "from sklearn import metrics\n",
        "\n",
        "x_train = np.reshape(train_features, (nb_train_samples, 7*7*512))\n",
        "y_train = train_labels\n",
        "\n",
        "x_val = np.reshape(valid_features, (nb_valid_samples, 7*7*512))\n",
        "y_val = valid_labels\n",
        "\n",
        "x_test = np.reshape(test_features, (nb_test_samples, 7*7*512))\n",
        "y_test = test_labels\n",
        "\n",
        "clf = RandomForestClassifier(n_estimators=100, max_depth=12, random_state=0, bootstrap=True)\n",
        "something = clf.fit(np.reshape(train_features, (nb_train_samples, 7*7*512)), train_labels)\n",
        "\n",
        "valid_prediction = clf.predict(np.reshape(valid_features, (nb_valid_samples, 7*7*512)))\n",
        "print(\"validation accuracy:\", sum([valid_prediction[i] == valid_labels[i] for i in range(len(valid_labels))])/len(valid_labels))\n",
        "print(valid_prediction)\n",
        "print(valid_labels)\n",
        "\n",
        "test_prediction = clf.predict(np.reshape(test_features, (nb_test_samples, 7*7*512)))\n",
        "print(\"test accuracy:\", sum([test_prediction[i] == test_labels[i] for i in range(len(test_labels))])/len(test_labels))\n",
        "print(test_prediction)\n",
        "print(test_labels)\n"
      ],
      "execution_count": 0,
      "outputs": [
        {
          "output_type": "stream",
          "text": [
            "validation accuracy: 0.8125\n",
            "[2. 2. 3. 2. 1. 3. 0. 3. 1. 1. 0. 0. 3. 0. 2. 2. 0. 0. 0. 1. 3. 0. 1. 0.\n",
            " 2. 1. 0. 2. 3. 0. 3. 3.]\n",
            "[1. 0. 3. 2. 1. 3. 0. 3. 1. 1. 0. 0. 3. 0. 2. 2. 0. 2. 1. 1. 3. 2. 1. 0.\n",
            " 2. 1. 0. 2. 3. 2. 3. 3.]\n",
            "test accuracy: 0.8977272727272727\n",
            "[0. 1. 0. 0. 0. 0. 0. 0. 0. 2. 0. 2. 0. 0. 0. 0. 0. 0. 0. 0. 0. 0. 1. 0.\n",
            " 0. 0. 0. 0. 0. 0. 0. 0. 0. 0. 0. 0. 0. 0. 0. 0. 0. 0. 0. 0. 0. 0. 0. 0.\n",
            " 0. 0. 0. 0. 0. 0. 2. 0. 0. 0. 0. 0. 0. 0. 0. 0. 0. 0. 0. 0. 0. 0. 0. 0.\n",
            " 0. 0. 0. 0. 0. 0. 0. 0. 0. 0. 0. 0. 0. 0. 0. 0. 0. 0. 0. 0. 0. 0. 0. 0.\n",
            " 0. 0. 0. 0. 0. 0. 0. 0. 0. 0. 0. 0. 0. 0. 0. 0. 0. 0. 0. 2. 0. 0. 0. 0.\n",
            " 0. 0. 0. 0. 0. 0. 0. 0. 0. 0. 0. 0. 0. 0. 0. 0. 0. 0. 0. 0. 0. 0. 0. 1.\n",
            " 0. 0. 0. 0. 0. 0. 0. 0. 0. 0. 0. 0. 0. 0. 0. 0. 0. 0. 0. 0. 0. 0. 0. 0.\n",
            " 0. 0. 0. 0. 0. 0. 0. 0. 0. 0. 0. 0. 0. 0. 0. 0. 0. 0. 0. 0. 0. 1. 0. 0.\n",
            " 0. 0. 0. 0. 0. 0. 0. 0. 0. 0. 0. 0. 0. 0. 0. 0. 0. 2. 0. 0. 0. 0. 0. 0.\n",
            " 2. 0. 2. 0. 0. 0. 0. 0. 0. 0. 0. 2. 0. 0. 0. 0. 0. 0. 0. 0. 0. 0. 0. 0.\n",
            " 0. 0. 1. 1. 1. 1. 1. 2. 1. 1. 3. 1. 1. 0. 1. 1. 1. 1. 3. 1. 1. 3. 1. 1.\n",
            " 1. 1. 1. 1. 1. 1. 1. 1. 1. 1. 1. 1. 1. 1. 1. 1. 1. 1. 1. 1. 1. 1. 1. 2.\n",
            " 1. 1. 1. 1. 1. 1. 1. 3. 1. 1. 1. 1. 1. 1. 1. 1. 1. 1. 1. 1. 1. 1. 0. 3.\n",
            " 1. 1. 2. 1. 1. 1. 1. 1. 1. 0. 1. 1. 0. 1. 1. 3. 1. 1. 0. 1. 1. 1. 1. 1.\n",
            " 1. 1. 1. 3. 1. 1. 1. 1. 3. 1. 1. 1. 1. 1. 1. 1. 0. 1. 1. 3. 3. 1. 1. 1.\n",
            " 1. 1. 1. 1. 1. 1. 1. 1. 1. 1. 1. 1. 3. 1. 0. 1. 1. 1. 1. 1. 1. 1. 1. 1.\n",
            " 2. 1. 1. 1. 1. 1. 1. 2. 1. 1. 1. 0. 1. 1. 1. 1. 1. 1. 1. 2. 1. 3. 3. 1.\n",
            " 3. 1. 1. 3. 1. 1. 3. 1. 1. 1. 1. 1. 1. 1. 1. 1. 3. 3. 0. 0. 1. 1. 3. 1.\n",
            " 3. 1. 3. 1. 1. 3. 1. 3. 2. 1. 3. 1. 1. 1. 0. 1. 1. 1. 1. 1. 1. 1. 1. 1.\n",
            " 1. 1. 1. 1. 1. 1. 1. 3. 1. 1. 1. 1. 1. 1. 1. 1. 1. 1. 0. 1. 1. 1. 1. 1.\n",
            " 1. 1. 1. 1. 2. 2. 2. 2. 2. 2. 2. 2. 2. 2. 2. 2. 2. 2. 2. 2. 2. 2. 2. 2.\n",
            " 2. 2. 2. 2. 2. 2. 2. 0. 2. 2. 2. 2. 2. 0. 2. 2. 0. 0. 2. 2. 2. 0. 2. 2.\n",
            " 2. 2. 2. 2. 2. 2. 2. 2. 0. 2. 0. 0. 2. 2. 2. 2. 2. 2. 2. 2. 0. 2. 2. 2.\n",
            " 2. 2. 2. 2. 2. 2. 2. 2. 2. 0. 2. 2. 2. 2. 2. 2. 2. 2. 2. 2. 0. 2. 2. 2.\n",
            " 2. 2. 2. 2. 2. 2. 2. 2. 2. 2. 2. 2. 2. 2. 2. 2. 2. 2. 2. 2. 2. 1. 2. 2.\n",
            " 2. 2. 2. 0. 2. 2. 0. 2. 2. 2. 2. 0. 2. 0. 0. 2. 2. 0. 0. 2. 2. 2. 2. 2.\n",
            " 2. 2. 2. 0. 2. 0. 0. 2. 2. 0. 0. 2. 2. 2. 2. 2. 0. 0. 2. 2. 2. 2. 2. 2.\n",
            " 2. 2. 2. 2. 2. 0. 2. 2. 2. 0. 2. 2. 1. 1. 2. 2. 2. 2. 2. 2. 2. 1. 3. 3.\n",
            " 2. 2. 2. 0. 2. 2. 2. 2. 2. 0. 2. 2. 0. 2. 0. 2. 2. 0. 2. 2. 2. 2. 2. 2.\n",
            " 1. 2. 2. 0. 2. 2. 0. 2. 2. 2. 2. 2. 2. 2. 2. 2. 2. 2. 2. 2. 2. 2. 2. 2.\n",
            " 0. 2. 2. 0. 2. 2. 3. 3. 3. 3. 3. 3. 3. 3. 3. 3. 3. 3. 3. 3. 3. 3. 3. 3.\n",
            " 3. 3. 3. 3. 3. 3. 3. 3. 3. 3. 3. 3. 3. 3. 3. 3. 3. 3. 3. 3. 3. 3. 3. 3.\n",
            " 3. 3. 3. 3. 3. 3. 3. 3. 3. 3. 3. 3. 3. 3. 3. 3. 3. 3. 3. 3. 3. 3. 3. 3.\n",
            " 3. 3. 3. 3. 3. 3. 3. 3. 3. 3. 3. 3. 3. 3. 3. 3. 3. 3. 3. 3. 3. 3. 3. 3.\n",
            " 3. 3. 3. 3. 3. 3. 3. 3. 3. 3. 3. 3. 3. 3. 3. 3. 3. 3. 3. 3. 3. 3. 3. 3.\n",
            " 3. 3. 3. 3. 3. 3. 3. 3. 3. 3. 3. 3. 3. 3. 3. 3. 3. 3. 3. 3. 3. 3. 3. 3.\n",
            " 3. 3. 3. 3. 3. 3. 3. 3. 3. 3. 3. 3. 3. 3. 3. 3. 3. 3. 3. 3. 3. 3. 3. 3.\n",
            " 3. 3. 3. 3. 3. 3. 3. 3. 3. 3. 3. 3. 3. 3. 3. 3. 3. 3. 3. 3. 3. 3. 3. 3.\n",
            " 3. 3. 3. 3. 3. 3. 3. 3. 3. 3. 3. 3. 3. 3. 3. 3. 3. 3. 3. 3. 3. 3. 3. 3.\n",
            " 3. 3. 3. 3. 3. 3. 3. 3. 3. 3. 3. 3. 3. 3. 3. 3. 3. 3. 3. 3. 3. 3. 3. 3.\n",
            " 3. 3. 3. 3. 3. 3. 3. 3.]\n",
            "[0. 0. 0. 0. 0. 0. 0. 0. 0. 0. 0. 0. 0. 0. 0. 0. 0. 0. 0. 0. 0. 0. 0. 0.\n",
            " 0. 0. 0. 0. 0. 0. 0. 0. 0. 0. 0. 0. 0. 0. 0. 0. 0. 0. 0. 0. 0. 0. 0. 0.\n",
            " 0. 0. 0. 0. 0. 0. 0. 0. 0. 0. 0. 0. 0. 0. 0. 0. 0. 0. 0. 0. 0. 0. 0. 0.\n",
            " 0. 0. 0. 0. 0. 0. 0. 0. 0. 0. 0. 0. 0. 0. 0. 0. 0. 0. 0. 0. 0. 0. 0. 0.\n",
            " 0. 0. 0. 0. 0. 0. 0. 0. 0. 0. 0. 0. 0. 0. 0. 0. 0. 0. 0. 0. 0. 0. 0. 0.\n",
            " 0. 0. 0. 0. 0. 0. 0. 0. 0. 0. 0. 0. 0. 0. 0. 0. 0. 0. 0. 0. 0. 0. 0. 0.\n",
            " 0. 0. 0. 0. 0. 0. 0. 0. 0. 0. 0. 0. 0. 0. 0. 0. 0. 0. 0. 0. 0. 0. 0. 0.\n",
            " 0. 0. 0. 0. 0. 0. 0. 0. 0. 0. 0. 0. 0. 0. 0. 0. 0. 0. 0. 0. 0. 0. 0. 0.\n",
            " 0. 0. 0. 0. 0. 0. 0. 0. 0. 0. 0. 0. 0. 0. 0. 0. 0. 0. 0. 0. 0. 0. 0. 0.\n",
            " 0. 0. 0. 0. 0. 0. 0. 0. 0. 0. 0. 0. 0. 0. 0. 0. 0. 0. 0. 0. 0. 0. 0. 0.\n",
            " 0. 0. 1. 1. 1. 1. 1. 1. 1. 1. 1. 1. 1. 1. 1. 1. 1. 1. 1. 1. 1. 1. 1. 1.\n",
            " 1. 1. 1. 1. 1. 1. 1. 1. 1. 1. 1. 1. 1. 1. 1. 1. 1. 1. 1. 1. 1. 1. 1. 1.\n",
            " 1. 1. 1. 1. 1. 1. 1. 1. 1. 1. 1. 1. 1. 1. 1. 1. 1. 1. 1. 1. 1. 1. 1. 1.\n",
            " 1. 1. 1. 1. 1. 1. 1. 1. 1. 1. 1. 1. 1. 1. 1. 1. 1. 1. 1. 1. 1. 1. 1. 1.\n",
            " 1. 1. 1. 1. 1. 1. 1. 1. 1. 1. 1. 1. 1. 1. 1. 1. 1. 1. 1. 1. 1. 1. 1. 1.\n",
            " 1. 1. 1. 1. 1. 1. 1. 1. 1. 1. 1. 1. 1. 1. 1. 1. 1. 1. 1. 1. 1. 1. 1. 1.\n",
            " 1. 1. 1. 1. 1. 1. 1. 1. 1. 1. 1. 1. 1. 1. 1. 1. 1. 1. 1. 1. 1. 1. 1. 1.\n",
            " 1. 1. 1. 1. 1. 1. 1. 1. 1. 1. 1. 1. 1. 1. 1. 1. 1. 1. 1. 1. 1. 1. 1. 1.\n",
            " 1. 1. 1. 1. 1. 1. 1. 1. 1. 1. 1. 1. 1. 1. 1. 1. 1. 1. 1. 1. 1. 1. 1. 1.\n",
            " 1. 1. 1. 1. 1. 1. 1. 1. 1. 1. 1. 1. 1. 1. 1. 1. 1. 1. 1. 1. 1. 1. 1. 1.\n",
            " 1. 1. 1. 1. 2. 2. 2. 2. 2. 2. 2. 2. 2. 2. 2. 2. 2. 2. 2. 2. 2. 2. 2. 2.\n",
            " 2. 2. 2. 2. 2. 2. 2. 2. 2. 2. 2. 2. 2. 2. 2. 2. 2. 2. 2. 2. 2. 2. 2. 2.\n",
            " 2. 2. 2. 2. 2. 2. 2. 2. 2. 2. 2. 2. 2. 2. 2. 2. 2. 2. 2. 2. 2. 2. 2. 2.\n",
            " 2. 2. 2. 2. 2. 2. 2. 2. 2. 2. 2. 2. 2. 2. 2. 2. 2. 2. 2. 2. 2. 2. 2. 2.\n",
            " 2. 2. 2. 2. 2. 2. 2. 2. 2. 2. 2. 2. 2. 2. 2. 2. 2. 2. 2. 2. 2. 2. 2. 2.\n",
            " 2. 2. 2. 2. 2. 2. 2. 2. 2. 2. 2. 2. 2. 2. 2. 2. 2. 2. 2. 2. 2. 2. 2. 2.\n",
            " 2. 2. 2. 2. 2. 2. 2. 2. 2. 2. 2. 2. 2. 2. 2. 2. 2. 2. 2. 2. 2. 2. 2. 2.\n",
            " 2. 2. 2. 2. 2. 2. 2. 2. 2. 2. 2. 2. 2. 2. 2. 2. 2. 2. 2. 2. 2. 2. 2. 2.\n",
            " 2. 2. 2. 2. 2. 2. 2. 2. 2. 2. 2. 2. 2. 2. 2. 2. 2. 2. 2. 2. 2. 2. 2. 2.\n",
            " 2. 2. 2. 2. 2. 2. 2. 2. 2. 2. 2. 2. 2. 2. 2. 2. 2. 2. 2. 2. 2. 2. 2. 2.\n",
            " 2. 2. 2. 2. 2. 2. 3. 3. 3. 3. 3. 3. 3. 3. 3. 3. 3. 3. 3. 3. 3. 3. 3. 3.\n",
            " 3. 3. 3. 3. 3. 3. 3. 3. 3. 3. 3. 3. 3. 3. 3. 3. 3. 3. 3. 3. 3. 3. 3. 3.\n",
            " 3. 3. 3. 3. 3. 3. 3. 3. 3. 3. 3. 3. 3. 3. 3. 3. 3. 3. 3. 3. 3. 3. 3. 3.\n",
            " 3. 3. 3. 3. 3. 3. 3. 3. 3. 3. 3. 3. 3. 3. 3. 3. 3. 3. 3. 3. 3. 3. 3. 3.\n",
            " 3. 3. 3. 3. 3. 3. 3. 3. 3. 3. 3. 3. 3. 3. 3. 3. 3. 3. 3. 3. 3. 3. 3. 3.\n",
            " 3. 3. 3. 3. 3. 3. 3. 3. 3. 3. 3. 3. 3. 3. 3. 3. 3. 3. 3. 3. 3. 3. 3. 3.\n",
            " 3. 3. 3. 3. 3. 3. 3. 3. 3. 3. 3. 3. 3. 3. 3. 3. 3. 3. 3. 3. 3. 3. 3. 3.\n",
            " 3. 3. 3. 3. 3. 3. 3. 3. 3. 3. 3. 3. 3. 3. 3. 3. 3. 3. 3. 3. 3. 3. 3. 3.\n",
            " 3. 3. 3. 3. 3. 3. 3. 3. 3. 3. 3. 3. 3. 3. 3. 3. 3. 3. 3. 3. 3. 3. 3. 3.\n",
            " 3. 3. 3. 3. 3. 3. 3. 3. 3. 3. 3. 3. 3. 3. 3. 3. 3. 3. 3. 3. 3. 3. 3. 3.\n",
            " 3. 3. 3. 3. 3. 3. 3. 3.]\n"
          ],
          "name": "stdout"
        }
      ]
    },
    {
      "metadata": {
        "id": "Yn1sO6ZsISuU",
        "colab_type": "code",
        "outputId": "043d58fe-5f7a-477b-ea31-74edaab96aa0",
        "colab": {
          "base_uri": "https://localhost:8080/",
          "height": 52
        }
      },
      "cell_type": "code",
      "source": [
        "valid_score = clf.score(np.reshape(valid_features, (nb_valid_samples, 7*7*512)), valid_labels)\n",
        "test_score = clf.score(np.reshape(test_features, (nb_test_samples, 7*7*512)), test_labels)\n",
        "\n",
        "print(\"valid accuracy:\", valid_score)\n",
        "print(\"test accuracy:\", test_score)"
      ],
      "execution_count": 0,
      "outputs": [
        {
          "output_type": "stream",
          "text": [
            "valid accuracy: 0.8125\n",
            "test accuracy: 0.8977272727272727\n"
          ],
          "name": "stdout"
        }
      ]
    },
    {
      "metadata": {
        "id": "v3ymA1dmQJy_",
        "colab_type": "code",
        "outputId": "caa230bf-204e-4d97-efeb-6c1326b612c7",
        "colab": {
          "base_uri": "https://localhost:8080/",
          "height": 1684
        }
      },
      "cell_type": "code",
      "source": [
        "from sklearn.metrics import roc_curve, auc\n",
        "\n",
        "# print(valid_labels)\n",
        "# print(valid_prediction)\n",
        "\n",
        "val_score = something.predict_proba(x_val)\n",
        "test_score = something.predict_proba(x_test)\n",
        "print(val_score[:, ])\n",
        "# print(test_score)\n",
        "\n",
        "# Validation\n",
        "fpr = dict()\n",
        "tpr = dict()\n",
        "roc_auc = dict()\n",
        "for i in range(n_classes):\n",
        "#     fpr[i], tpr[i], thresholds = roc_curve(valid_labels, val_score)\n",
        "#     print(valid_labels.shape)\n",
        "#     print(val_score.shape)\n",
        "    fpr[i], tpr[i], thresholds = roc_curve(valid_labels, val_score[:, i], pos_label = i)\n",
        "    roc_auc[i] = auc(fpr[i], tpr[i])\n",
        "    print(\"valid AUC for class\", i, roc_auc[i])\n",
        "    print(thresholds)\n",
        "    \n",
        "    \n",
        "print(\"\\n\")\n",
        "    \n",
        "# Test\n",
        "fpr = dict()\n",
        "tpr = dict()\n",
        "roc_auc = dict()\n",
        "for i in range(n_classes):\n",
        "    fpr[i], tpr[i], thresholds = roc_curve(test_labels, test_score[:, i], pos_label=i)\n",
        "    roc_auc[i] = auc(fpr[i], tpr[i])\n",
        "    print(\"test AUC for class\", i, roc_auc[i])\n",
        "    print(\"thresholds\", thresholds)\n",
        "\n",
        "# fpr, tpr, thresholds = metrics.roc_curve(valid_labels, valid_prediction, pos_label=1)\n",
        "# print(\"valid AUC:\", metrics.auc(fpr, tpr))\n",
        "# fpr, tpr, thresholds = metrics.roc_curve(test_labels, test_prediction, pos_label=1)\n",
        "# print(\"test AUC:\", metrics.auc(fpr, tpr))"
      ],
      "execution_count": 0,
      "outputs": [
        {
          "output_type": "stream",
          "text": [
            "[[0.1041998  0.30932419 0.35473952 0.2317365 ]\n",
            " [0.44341324 0.06916164 0.46733725 0.02008786]\n",
            " [0.0039083  0.10118291 0.07901574 0.81589304]\n",
            " [0.04227999 0.16503739 0.70304094 0.08964168]\n",
            " [0.11372124 0.65527288 0.12072424 0.11028165]\n",
            " [0.01522113 0.09747471 0.03858853 0.84871563]\n",
            " [0.77329736 0.07021909 0.13707077 0.01941277]\n",
            " [0.02032757 0.23749503 0.08586259 0.65631481]\n",
            " [0.05763297 0.65738768 0.06645261 0.21852673]\n",
            " [0.04995936 0.43792947 0.1863708  0.32574037]\n",
            " [0.87313012 0.02604521 0.06742027 0.0334044 ]\n",
            " [0.86630903 0.01066132 0.10974949 0.01328016]\n",
            " [0.01930506 0.08529923 0.14181319 0.75358252]\n",
            " [0.90057421 0.0152886  0.08239153 0.00174566]\n",
            " [0.37948428 0.05016377 0.5608465  0.00950546]\n",
            " [0.17668893 0.12444214 0.63661866 0.06225027]\n",
            " [0.60666766 0.06494592 0.31147859 0.01690783]\n",
            " [0.55201482 0.04454328 0.36917395 0.03426794]\n",
            " [0.40112361 0.2391595  0.20095452 0.15876237]\n",
            " [0.13679835 0.46989066 0.15005892 0.24325207]\n",
            " [0.00669565 0.08548121 0.10506702 0.80275612]\n",
            " [0.43659402 0.10364792 0.36385773 0.09590033]\n",
            " [0.13248718 0.51402696 0.12057489 0.23291097]\n",
            " [0.37838507 0.24963193 0.27275584 0.09922716]\n",
            " [0.09108098 0.17406711 0.63837227 0.09647965]\n",
            " [0.04320217 0.56028161 0.11301387 0.28350235]\n",
            " [0.79470704 0.06797825 0.10268138 0.03463333]\n",
            " [0.15089151 0.1381779  0.52216607 0.18876451]\n",
            " [0.03881913 0.1825012  0.06048444 0.71819523]\n",
            " [0.59051081 0.11557545 0.25377695 0.0401368 ]\n",
            " [0.00456923 0.07641717 0.05708276 0.86193085]\n",
            " [0.0304733  0.13914277 0.07206385 0.75832008]]\n",
            "valid AUC for class 0 0.9635416666666666\n",
            "[0.90057421 0.60666766 0.55201482 0.44341324 0.37948428 0.37838507\n",
            " 0.0039083 ]\n",
            "valid AUC for class 1 0.9947916666666667\n",
            "[0.65738768 0.30932419 0.24963193 0.2391595  0.01066132]\n",
            "valid AUC for class 2 0.96875\n",
            "[0.70304094 0.52216607 0.46733725 0.36385773 0.27275584 0.25377695\n",
            " 0.03858853]\n",
            "valid AUC for class 3 1.0\n",
            "[0.86193085 0.65631481 0.00174566]\n",
            "\n",
            "\n",
            "test AUC for class 0 0.9798397195091411\n",
            "thresholds [0.94085114 0.7687208  0.76837097 0.75639679 0.75453646 0.71275356\n",
            " 0.71188616 0.70449692 0.70151662 0.64597134 0.64546304 0.64413537\n",
            " 0.6374746  0.63254437 0.63149111 0.61686506 0.61637354 0.61078698\n",
            " 0.60837381 0.58891975 0.58723844 0.58646481 0.58321414 0.57607535\n",
            " 0.57235087 0.56400714 0.56144337 0.55819114 0.55542724 0.55056581\n",
            " 0.54575317 0.53661245 0.53439977 0.51731592 0.51278015 0.51087013\n",
            " 0.50941571 0.50141505 0.49291086 0.48588886 0.47960373 0.472245\n",
            " 0.46852086 0.45790804 0.45728097 0.45697591 0.45284518 0.45159192\n",
            " 0.45082474 0.4486955  0.44445425 0.44384265 0.43950681 0.43666317\n",
            " 0.42845653 0.42789694 0.42730043 0.42648102 0.42402887 0.42113745\n",
            " 0.41538478 0.41181933 0.41027225 0.40798578 0.40321153 0.40303185\n",
            " 0.39755918 0.39643868 0.39433922 0.39377959 0.38698012 0.38209291\n",
            " 0.36527985 0.36504389 0.36469418 0.36425389 0.35896303 0.35773057\n",
            " 0.33050001 0.33026327 0.3241233  0.32278552 0.32128931 0.32020833\n",
            " 0.31206328 0.31148719 0.3105574  0.30914992 0.30470328 0.30224126\n",
            " 0.29646393 0.29635239 0.2774576  0.27698272 0.2568185  0.25327232\n",
            " 0.21683024 0.21651846 0.00282952]\n",
            "test AUC for class 1 0.9875463879971769\n",
            "thresholds [0.82635528 0.40567997 0.40436647 0.38602176 0.38557009 0.38079182\n",
            " 0.37719995 0.36553577 0.36337251 0.35532458 0.35318195 0.35209974\n",
            " 0.34649917 0.33123517 0.32637811 0.32524185 0.32412118 0.31546082\n",
            " 0.31286306 0.30996319 0.30597803 0.30478452 0.30466254 0.30267317\n",
            " 0.30147899 0.30141462 0.29851208 0.29339673 0.28596286 0.28002841\n",
            " 0.2775209  0.27682136 0.27289597 0.26891531 0.26694004 0.2660771\n",
            " 0.26406214 0.263574   0.25714725 0.25712044 0.25188652 0.25097245\n",
            " 0.2455206  0.24447718 0.243671   0.24354916 0.22872192 0.22772823\n",
            " 0.2193231  0.21873479 0.20972742 0.20922627 0.20339333 0.20230681\n",
            " 0.20226057 0.20201126 0.18382491 0.18149493 0.17240571 0.17222568\n",
            " 0.16023315 0.16007026 0.15456792 0.15450768 0.14031946 0.13951954\n",
            " 0.00380395]\n",
            "test AUC for class 2 0.9818546092024679\n",
            "thresholds [0.90186205 0.5455025  0.54373856 0.54259517 0.54133428 0.53419343\n",
            " 0.53258584 0.47869785 0.47593739 0.4745116  0.47226149 0.45077177\n",
            " 0.45014964 0.43003859 0.4277354  0.42002934 0.41753996 0.41620728\n",
            " 0.41488303 0.39385621 0.39155065 0.388242   0.38666585 0.38480865\n",
            " 0.37970036 0.37258653 0.37163391 0.37086198 0.36745322 0.36415311\n",
            " 0.36374256 0.35246757 0.33633901 0.33596131 0.33246282 0.33113048\n",
            " 0.33021133 0.32884276 0.32694923 0.32391704 0.31834147 0.31672473\n",
            " 0.31560305 0.31526994 0.31016821 0.30960177 0.30908741 0.30849599\n",
            " 0.30797214 0.30702176 0.30379741 0.30269124 0.29784757 0.29440726\n",
            " 0.2887179  0.28699215 0.28646081 0.28622354 0.28337175 0.28219212\n",
            " 0.26025724 0.26014981 0.25918999 0.25892628 0.25870744 0.25807443\n",
            " 0.25622332 0.25464772 0.24959837 0.24937726 0.24250444 0.24166093\n",
            " 0.2348501  0.23479711 0.23126363 0.22945218 0.21985749 0.21950898\n",
            " 0.18750856 0.18699256 0.18540101 0.18528775 0.14283672 0.14264168\n",
            " 0.02296575]\n",
            "test AUC for class 3 0.9979054254035471\n",
            "thresholds [0.88333165 0.60950556 0.60933878 0.58785    0.58581492 0.5503371\n",
            " 0.53231602 0.52946403 0.51781697 0.50972822 0.50870778 0.46730645\n",
            " 0.46129928 0.4538409  0.44821063 0.4407623  0.43370443 0.40291158\n",
            " 0.001921  ]\n"
          ],
          "name": "stdout"
        }
      ]
    },
    {
      "metadata": {
        "id": "wX_yll6fjSIR",
        "colab_type": "code",
        "outputId": "12d35ac1-8fd2-4e75-8ab8-5311f71be55a",
        "colab": {
          "base_uri": "https://localhost:8080/",
          "height": 619
        }
      },
      "cell_type": "code",
      "source": [
        "from scipy import interp\n",
        "import matplotlib.pyplot as plt\n",
        "from itertools import cycle\n",
        "\n",
        "lw = 2\n",
        "\n",
        "# Compute macro-average ROC curve and ROC area\n",
        "\n",
        "# print(all_fpr)\n",
        "\n",
        "# First aggregate all false positive rates\n",
        "all_fpr = np.unique(np.concatenate([fpr[i] for i in range(n_classes)]))\n",
        "\n",
        "print(all_fpr)\n",
        "\n",
        "# Then interpolate all ROC curves at this points\n",
        "mean_tpr = np.zeros_like(all_fpr)\n",
        "for i in range(n_classes):\n",
        "    mean_tpr += interp(all_fpr, fpr[i], tpr[i])\n",
        "\n",
        "# Finally average it and compute AUC\n",
        "mean_tpr /= n_classes\n",
        "\n",
        "fpr[\"macro\"] = all_fpr\n",
        "tpr[\"macro\"] = mean_tpr\n",
        "roc_auc[\"macro\"] = auc(fpr[\"macro\"], tpr[\"macro\"])\n",
        "\n",
        "# Plot all ROC curves\n",
        "# plt.figure()\n",
        "# plt.plot(fpr[\"macro\"], tpr[\"macro\"],\n",
        "#          label='macro-average ROC curve (area = {0:0.2f})'\n",
        "#                ''.format(roc_auc[\"macro\"]),\n",
        "#          color='navy', linestyle=':', linewidth=4)\n",
        "\n",
        "colors = cycle(['aqua', 'darkorange', 'cornflowerblue', 'red'])\n",
        "for i, color in zip(range(n_classes), colors):\n",
        "    plt.plot(fpr[i], tpr[i], color=color, lw=lw,\n",
        "             label='ROC curve of class {0} (area = {1:0.2f})'\n",
        "             ''.format(i, roc_auc[i]))\n",
        "\n",
        "plt.plot([0, 1], [0, 1], 'k--', lw=lw)\n",
        "plt.xlim([0.0, 1.0])\n",
        "plt.ylim([0.0, 1.05])\n",
        "plt.xlabel('False Positive Rate')\n",
        "plt.ylabel('True Positive Rate')\n",
        "plt.title('Some extension of Receiver operating characteristic to multi-class')\n",
        "plt.legend(loc=\"lower right\")\n",
        "plt.show()"
      ],
      "execution_count": 0,
      "outputs": [
        {
          "output_type": "stream",
          "text": [
            "[0.         0.00137741 0.00275482 0.00413223 0.00550964 0.00688705\n",
            " 0.00826446 0.00964187 0.01101928 0.01239669 0.0137741  0.01515152\n",
            " 0.01652893 0.01790634 0.01928375 0.02066116 0.02203857 0.02341598\n",
            " 0.02479339 0.02754821 0.02892562 0.03443526 0.03581267 0.03719008\n",
            " 0.03856749 0.0399449  0.04132231 0.04269972 0.04407713 0.04683196\n",
            " 0.04820937 0.04958678 0.0523416  0.05371901 0.05509642 0.05647383\n",
            " 0.05785124 0.05922865 0.06198347 0.06473829 0.06749311 0.07024793\n",
            " 0.07162534 0.07300275 0.07438017 0.07713499 0.0785124  0.07988981\n",
            " 0.08953168 0.09504132 0.09641873 0.09779614 0.10055096 0.10606061\n",
            " 0.11019284 0.11157025 0.11294766 0.11707989 0.11983471 0.12672176\n",
            " 0.12809917 0.1322314  0.13774105 0.13911846 0.14049587 0.1446281\n",
            " 0.14600551 0.15289256 0.15426997 0.1584022  0.16942149 0.17906336\n",
            " 0.19283747 0.22451791 0.25068871 0.2630854  0.2768595  0.28099174\n",
            " 0.28512397 0.34986226 0.46143251 1.        ]\n"
          ],
          "name": "stdout"
        },
        {
          "output_type": "display_data",
          "data": {
            "image/png": "[encoded data removed]",
            "text/plain": [
              "<matplotlib.figure.Figure at 0x7f3e4031db00>"
            ]
          },
          "metadata": {
            "tags": []
          }
        }
      ]
    },
    {
      "metadata": {
        "id": "5XaQCuhMgJnL",
        "colab_type": "text"
      },
      "cell_type": "markdown",
      "source": [
        "# Not running for this trial\n",
        "## Testing"
      ]
    },
    {
      "metadata": {
        "id": "5GhgTmHRNkLB",
        "colab_type": "code",
        "colab": {}
      },
      "cell_type": "code",
      "source": [
        "#print(train_generator.filenames)\n",
        "#print(validation_generator.filenames)\n",
        "\n",
        "nb_test_samples = 102\n",
        "\n",
        "result = model.evaluate_generator(test_generator, steps=nb_test_samples / batch_size)\n",
        "print(result)\n",
        "\n",
        "predictions = model.predict_generator(test_generator, steps=nb_test_samples / batch_size)\n",
        "print(predictions)\n",
        "print(len(predictions))\n",
        "img_path = \"/gdrive/My Drive/validation/val_patients/patient13.png\"\n",
        "\n",
        "from keras.preprocessing import image                             \n",
        "import numpy as np\n",
        "\n",
        "img = image.load_img(img_path, target_size=(img_width, img_height))\n",
        "img_tensor = image.img_to_array(img)\n",
        "img_tensor = np.expand_dims(img_tensor, axis=0)\n",
        "img_tensor /= 255.                                               \n",
        "\n",
        "\n",
        "print(img_tensor.shape)\n",
        "#validation_generator.classes"
      ],
      "execution_count": 0,
      "outputs": []
    },
    {
      "metadata": {
        "id": "e4y1KHm1gLnn",
        "colab_type": "text"
      },
      "cell_type": "markdown",
      "source": [
        "# Visualizing"
      ]
    },
    {
      "metadata": {
        "id": "1jUYHYFFbeUd",
        "colab_type": "code",
        "colab": {}
      },
      "cell_type": "code",
      "source": [
        "import matplotlib.pyplot as plt\n",
        "\n",
        "#plt.imshow(img_tensor[0])\n",
        "#plt.show()\n",
        "\n",
        "from keras import models\n",
        "\n",
        "layer_outputs = [layer.output for layer in model.layers[:8]]               \n",
        "activation_model = models.Model(inputs=model.input, outputs=layer_outputs)\n",
        "activations = activation_model.predict(img_tensor)\n",
        "first_layer_activation = activations[0]\n",
        "print(first_layer_activation.shape)\n",
        "\n",
        "import matplotlib.pyplot as plt\n",
        "plt.figure()\n",
        "plt.matshow(first_layer_activation[0, :, :, 4], cmap='viridis')"
      ],
      "execution_count": 0,
      "outputs": []
    },
    {
      "metadata": {
        "id": "gakgr801v8bD",
        "colab_type": "text"
      },
      "cell_type": "markdown",
      "source": [
        "# Visualizing attention map"
      ]
    },
    {
      "metadata": {
        "id": "LHq7lRzswBtv",
        "colab_type": "code",
        "colab": {}
      },
      "cell_type": "code",
      "source": [
        "# !pip install keras-vis\n",
        "!pip install git+https://github.com/raghakot/keras-vis.git\n",
        "\n",
        "from keras.applications import ResNet50\n",
        "from vis.utils import utils\n",
        "from keras import activations\n",
        "\n",
        "# Hide warnings on Jupyter Notebook\n",
        "import warnings\n",
        "warnings.filterwarnings('ignore')"
      ],
      "execution_count": 0,
      "outputs": []
    },
    {
      "metadata": {
        "id": "CMJLs0kXwHJi",
        "colab_type": "code",
        "colab": {}
      },
      "cell_type": "code",
      "source": [
        "from vis.utils import utils\n",
        "from matplotlib import pyplot as plt\n",
        "%matplotlib inline\n",
        "plt.rcParams['figure.figsize'] = (18, 6)\n",
        "\n",
        "# img1 = utils.load_img('/gdrive/My Drive/deep_learning/val/val_controls/_ERGO-0449_OS_2014_triton_wf_report.png', \n",
        "#                       target_size=(img_width / 5, img_height / 5))\n",
        "# img2 = utils.load_img('/gdrive/My Drive/deep_learning/val/val_controls/_ERGO-0450_OD_2014_triton_wf_report.png', \n",
        "#                       target_size=(img_width / 5, img_height / 5))\n",
        "\n",
        "img1 = utils.load_img('/gdrive/My Drive/deep_learning/new_dataset/test/controls/View2098.png', \n",
        "                      target_size=(img_width, img_height))\n",
        "img2 = utils.load_img('/gdrive/My Drive/deep_learning/new_dataset/train/patients/194.png', \n",
        "                      target_size=(img_width, img_height))\n",
        "\n",
        "f, ax = plt.subplots(1, 2)\n",
        "ax[0].imshow(img1)\n",
        "ax[1].imshow(img2)"
      ],
      "execution_count": 0,
      "outputs": []
    },
    {
      "metadata": {
        "id": "AXmlqO9KwKTK",
        "colab_type": "code",
        "colab": {}
      },
      "cell_type": "code",
      "source": [
        "from vis.visualization import visualize_saliency, overlay\n",
        "from vis.utils import utils\n",
        "from keras import activations\n",
        "from vis.visualization import visualize_cam\n",
        "\n",
        "\n",
        "# import numpy as np\n",
        "import matplotlib.cm as cm\n",
        "# from vis.visualization import visualize_cam\n",
        "\n",
        "\n",
        "penultimate_layer = utils.find_layer_idx(model, 'conv2d_15')\n",
        "layer_idx = utils.find_layer_idx(model, 'dense_9')\n",
        "\n",
        "for modifier in [None, 'guided', 'relu']:\n",
        "    plt.figure()\n",
        "    f, ax = plt.subplots(1, 4)\n",
        "    plt.suptitle(\"vanilla\" if modifier is None else modifier)\n",
        "    for i, img in enumerate([img1, img2]):    \n",
        "        # 20 is the imagenet index corresponding to `ouzel`\n",
        "        grads = visualize_cam(model, layer_idx, filter_indices=0, \n",
        "                              seed_input=img, penultimate_layer_idx=penultimate_layer,\n",
        "                              backprop_modifier=modifier)        \n",
        "        # Lets overlay the heatmap onto original image.    \n",
        "        jet_heatmap = np.uint8(cm.jet(grads)[..., :3] * 255)\n",
        "        ax[i].imshow(jet_heatmap)\n",
        "        ax[i + 2].imshow(img)\n",
        "#         ax[i].imshow(jet_heatmap)\n",
        "#         print(jet_heatmap.shape)\n",
        "#         print(img.shape)\n",
        "#         ax[i].imshow(overlay(jet_heatmap, img))\n"
      ],
      "execution_count": 0,
      "outputs": []
    }
  ]
}