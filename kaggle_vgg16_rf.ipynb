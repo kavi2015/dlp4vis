{
  "nbformat": 4,
  "nbformat_minor": 0,
  "metadata": {
    "colab": {
      "name": "kaggle_vgg16_rf.ipynb",
      "version": "0.3.2",
      "provenance": [],
      "collapsed_sections": [],
      "toc_visible": true
    },
    "kernelspec": {
      "name": "python3",
      "display_name": "Python 3"
    },
    "accelerator": "GPU"
  },
  "cells": [
    {
      "metadata": {
        "id": "wiahzM1EfnfQ",
        "colab_type": "text"
      },
      "cell_type": "markdown",
      "source": [
        "# Mounting Google Drive"
      ]
    },
    {
      "metadata": {
        "id": "Ci2gPZb6ZIEw",
        "colab_type": "code",
        "outputId": "38165d43-923d-4b0f-f2bf-952516c09075",
        "colab": {
          "base_uri": "https://localhost:8080/",
          "height": 34
        }
      },
      "cell_type": "code",
      "source": [
        "##### before running it, make sure you don't have lots of big files in your google drive\n",
        "##### otherwise it's going to take too long to finish running it before giving the TIMEOUT error\n",
        "##### also save the train_controls, train_patients, val_controls, val_patients to your drive and\n",
        "##### create a \"train\" folder with train_controls, train_patients in it, and \n",
        "##### a \"val\" folder with val_controls, val_patients in it.\n",
        "##### change the train_dir and val_dir in the next cell to the dir of your train and val folder\n",
        "##### e.g. my train and val folder are saved in the \"deep learning\" dir\n",
        "\n",
        "from google.colab import drive\n",
        "drive.mount('/gdrive')"
      ],
      "execution_count": 5,
      "outputs": [
        {
          "output_type": "stream",
          "text": [
            "Drive already mounted at /gdrive; to attempt to forcibly remount, call drive.mount(\"/gdrive\", force_remount=True).\n"
          ],
          "name": "stdout"
        }
      ]
    },
    {
      "metadata": {
        "id": "Z3N68kUFfu1I",
        "colab_type": "text"
      },
      "cell_type": "markdown",
      "source": [
        "# Loading Train, Val, and Test Data Using Keras ImageDataGenerator"
      ]
    },
    {
      "metadata": {
        "id": "oeCnbRQ-ZVQO",
        "colab_type": "code",
        "outputId": "4dc055e2-840b-49f5-f09b-ee3935f3034a",
        "colab": {
          "base_uri": "https://localhost:8080/",
          "height": 68
        }
      },
      "cell_type": "code",
      "source": [
        "#Kavi's and Chelsea's Dir\n",
        "train_dir = \"/gdrive/My Drive/kaggle_dataset/train/\"\n",
        "val_dir = \"/gdrive/My Drive/kaggle_dataset/val/\"\n",
        "test_dir = \"/gdrive/My Drive/kaggle_dataset/test/\"\n",
        "\n",
        "# Daniel's dir:\n",
        "# train_dir = \"/gdrive/My Drive/deep learning/Project/trainProbMaps/\"\n",
        "# val_dir = \"/gdrive/My Drive/deep learning/Project/valProbMaps/\"\n",
        "# test_dir = \"/gdrive/My Drive/deep learning/Project/testProbMaps/\"\n",
        "\n",
        "img_width = 224\n",
        "img_height = 224\n",
        "batch_size = 1\n",
        "channels = 3\n",
        "epochs = 50\n",
        "nb_train_samples = 8000\n",
        "nb_valid_samples = 32\n",
        "nb_test_samples = 968\n",
        "\n",
        "n_classes = 4\n",
        "\n",
        "from keras.preprocessing.image import ImageDataGenerator\n",
        "\n",
        "train_datagen = ImageDataGenerator(rescale=1./255)             \n",
        "valid_datagen = ImageDataGenerator(rescale=1./255)    \n",
        "test_datagen = ImageDataGenerator(rescale=1./255) \n",
        "\n",
        "train_generator = train_datagen.flow_from_directory(\n",
        "    train_dir, \n",
        "    target_size=(img_height, img_width),\n",
        "    color_mode=\"rgb\",\n",
        "    batch_size=batch_size,\n",
        "    class_mode='binary',\n",
        "    shuffle=True)   \n",
        "\n",
        "valid_generator = valid_datagen.flow_from_directory(\n",
        "    val_dir,\n",
        "    target_size=(img_height, img_width),\n",
        "    color_mode=\"rgb\",\n",
        "    batch_size=batch_size,\n",
        "    class_mode='binary',\n",
        "    shuffle=True) #weight toward one class or another\n",
        "\n",
        "test_generator = test_datagen.flow_from_directory(\n",
        "    test_dir,\n",
        "    target_size=(img_height, img_width),\n",
        "    color_mode=\"rgb\",\n",
        "    batch_size=batch_size,\n",
        "    class_mode='binary',\n",
        "    shuffle=False)"
      ],
      "execution_count": 6,
      "outputs": [
        {
          "output_type": "stream",
          "text": [
            "Found 8000 images belonging to 4 classes.\n",
            "Found 32 images belonging to 4 classes.\n",
            "Found 968 images belonging to 4 classes.\n"
          ],
          "name": "stdout"
        }
      ]
    },
    {
      "metadata": {
        "id": "8DSNcgHwfzN2",
        "colab_type": "text"
      },
      "cell_type": "markdown",
      "source": [
        "# Building the Model Architecture (Pre-trained Keras VGG16 Extracting Features from OCT Dataset) & Training the Model"
      ]
    },
    {
      "metadata": {
        "id": "-5V7skIXZQrr",
        "colab_type": "code",
        "outputId": "57acefde-daff-4a7b-ab44-fea63ae3d163",
        "colab": {
          "base_uri": "https://localhost:8080/",
          "height": 68
        }
      },
      "cell_type": "code",
      "source": [
        "import numpy as np \n",
        "from keras.preprocessing import text, sequence\n",
        "from keras.preprocessing.text import Tokenizer\n",
        "from keras.utils import to_categorical\n",
        "from keras.models import Model, Input\n",
        "from keras.layers import Conv2D, MaxPooling2D\n",
        "from keras.layers import Activation, Dropout, Softmax, Flatten, Dense, BatchNormalization \n",
        "from keras.metrics import categorical_accuracy\n",
        "from keras import backend as K\n",
        "from keras import regularizers\n",
        "import tensorflow as tf\n",
        "from keras.models import Sequential\n",
        "\n",
        "from PIL import Image\n",
        "\n",
        "Image.MAX_IMAGE_PIXELS = None\n",
        "\n",
        "from keras import layers\n",
        "\n",
        "from keras.callbacks import TensorBoard\n",
        "\n",
        "#from keras.layers import Input, Dense\n",
        "from keras import layers\n",
        "from keras.applications import resnet50\n",
        "from keras import optimizers\n",
        "from keras.applications import VGG16\n",
        "\n",
        "#pretrained VGG16 on imagenet, starting to replicate Hassan's work\n",
        "conv_base = VGG16(weights='imagenet',\n",
        "                  include_top=False,\n",
        "                  input_shape=(img_height, img_width, channels))\n",
        "\n",
        "#conv_base.summary()\n",
        "\n",
        "#Extracting features from OCT data using pretrained VGG\n",
        "def extract_features(dataset_type, sample_count):\n",
        "    features = np.zeros(shape=(sample_count, 7, 7, 512))\n",
        "    labels = np.zeros(shape=(sample_count))\n",
        "    i = 0\n",
        "    if dataset_type == \"train\":\n",
        "        for inputs_batch, labels_batch in train_generator:\n",
        "            features_batch = conv_base.predict(inputs_batch)\n",
        "            features[i * batch_size : (i + 1) * batch_size] = features_batch\n",
        "            labels[i * batch_size : (i + 1) * batch_size] = labels_batch\n",
        "            i += 1\n",
        "            if i * batch_size >= sample_count:\n",
        "                break   \n",
        "    elif dataset_type == \"valid\":\n",
        "        for inputs_batch, labels_batch in valid_generator:\n",
        "            features_batch = conv_base.predict(inputs_batch)\n",
        "            features[i * batch_size : (i + 1) * batch_size] = features_batch\n",
        "            labels[i * batch_size : (i + 1) * batch_size] = labels_batch\n",
        "            i += 1\n",
        "            if i * batch_size >= sample_count:\n",
        "                break\n",
        "    else:\n",
        "        for inputs_batch, labels_batch in test_generator:\n",
        "            features_batch = conv_base.predict(inputs_batch)\n",
        "            features[i * batch_size : (i + 1) * batch_size] = features_batch\n",
        "            labels[i * batch_size : (i + 1) * batch_size] = labels_batch\n",
        "            i += 1\n",
        "            if i * batch_size >= sample_count:\n",
        "                break\n",
        "    return features, labels\n",
        "\n",
        "train_features, train_labels = extract_features(\"train\", nb_train_samples)\n",
        "valid_features, valid_labels = extract_features(\"valid\", nb_valid_samples)\n",
        "test_features, test_labels = extract_features(\"test\", nb_test_samples)\n",
        "\n",
        "\n",
        "print(train_features.shape, train_labels.shape)\n",
        "print(valid_features.shape, valid_labels.shape)\n",
        "print(test_features.shape, test_labels.shape)"
      ],
      "execution_count": 8,
      "outputs": [
        {
          "output_type": "stream",
          "text": [
            "(8000, 7, 7, 512) (8000,)\n",
            "(32, 7, 7, 512) (32,)\n",
            "(968, 7, 7, 512) (968,)\n"
          ],
          "name": "stdout"
        }
      ]
    },
    {
      "metadata": {
        "id": "Hdgxyp8mgBI2",
        "colab_type": "text"
      },
      "cell_type": "markdown",
      "source": [
        "# Classifier Layer: Random Forest"
      ]
    },
    {
      "metadata": {
        "id": "pC1hJV8fsTGE",
        "colab_type": "code",
        "outputId": "f79ffc45-10da-4524-ae02-aa55f1cfda6b",
        "colab": {
          "base_uri": "https://localhost:8080/",
          "height": 1513
        }
      },
      "cell_type": "code",
      "source": [
        "from sklearn.ensemble import RandomForestClassifier\n",
        "from sklearn.datasets import make_classification\n",
        "from sklearn import metrics\n",
        "\n",
        "x_train = np.reshape(train_features, (nb_train_samples, 7*7*512))\n",
        "y_train = train_labels\n",
        "\n",
        "x_val = np.reshape(valid_features, (nb_valid_samples, 7*7*512))\n",
        "y_val = valid_labels\n",
        "\n",
        "x_test = np.reshape(test_features, (nb_test_samples, 7*7*512))\n",
        "y_test = test_labels\n",
        "\n",
        "clf = RandomForestClassifier(n_estimators=100, max_depth=12, random_state=0, bootstrap=True)\n",
        "something = clf.fit(np.reshape(train_features, (nb_train_samples, 7*7*512)), train_labels)\n",
        "\n",
        "valid_prediction = clf.predict(np.reshape(valid_features, (nb_valid_samples, 7*7*512)))\n",
        "print(\"validation accuracy:\", sum([valid_prediction[i] == valid_labels[i] for i in range(len(valid_labels))])/len(valid_labels))\n",
        "print(valid_prediction)\n",
        "print(valid_labels)\n",
        "\n",
        "test_prediction = clf.predict(np.reshape(test_features, (nb_test_samples, 7*7*512)))\n",
        "print(\"test accuracy:\", sum([test_prediction[i] == test_labels[i] for i in range(len(test_labels))])/len(test_labels))\n",
        "print(test_prediction)\n",
        "print(test_labels)\n"
      ],
      "execution_count": 9,
      "outputs": [
        {
          "output_type": "stream",
          "text": [
            "validation accuracy: 0.90625\n",
            "[3. 2. 2. 2. 0. 0. 0. 3. 0. 3. 1. 3. 0. 3. 2. 0. 3. 0. 3. 0. 0. 0. 0. 1.\n",
            " 2. 3. 1. 1. 1. 1. 1. 2.]\n",
            "[3. 2. 2. 2. 0. 0. 0. 3. 0. 3. 1. 3. 0. 3. 2. 0. 3. 2. 3. 0. 0. 1. 2. 1.\n",
            " 2. 3. 1. 1. 1. 1. 1. 2.]\n",
            "test accuracy: 0.8915289256198347\n",
            "[0. 0. 0. 0. 0. 0. 0. 0. 0. 0. 0. 0. 0. 0. 0. 0. 0. 0. 0. 0. 0. 0. 0. 0.\n",
            " 0. 0. 0. 0. 0. 0. 0. 0. 0. 0. 0. 0. 0. 0. 0. 0. 0. 0. 0. 0. 0. 0. 0. 0.\n",
            " 0. 0. 0. 0. 2. 0. 0. 0. 0. 0. 0. 0. 0. 0. 0. 0. 0. 0. 0. 0. 0. 0. 0. 0.\n",
            " 0. 0. 0. 0. 0. 0. 0. 0. 0. 0. 0. 0. 0. 0. 0. 0. 0. 0. 0. 0. 0. 0. 0. 0.\n",
            " 0. 0. 0. 0. 0. 2. 0. 0. 0. 0. 0. 0. 0. 0. 0. 0. 0. 0. 0. 2. 0. 0. 0. 0.\n",
            " 0. 0. 0. 0. 0. 0. 0. 0. 0. 0. 0. 0. 0. 0. 0. 0. 0. 0. 0. 0. 0. 0. 0. 0.\n",
            " 0. 0. 0. 0. 0. 0. 0. 0. 0. 0. 0. 0. 0. 0. 0. 0. 0. 0. 0. 0. 0. 0. 2. 0.\n",
            " 0. 0. 0. 0. 0. 0. 0. 0. 0. 0. 0. 0. 0. 0. 0. 0. 0. 0. 0. 0. 0. 1. 0. 0.\n",
            " 0. 0. 0. 0. 0. 0. 0. 0. 0. 0. 0. 0. 0. 0. 0. 0. 0. 2. 0. 0. 0. 0. 0. 0.\n",
            " 2. 0. 2. 1. 0. 0. 0. 0. 0. 0. 0. 0. 0. 0. 0. 0. 0. 0. 0. 0. 0. 0. 0. 0.\n",
            " 0. 0. 1. 1. 1. 1. 1. 2. 1. 1. 1. 1. 1. 0. 1. 1. 1. 1. 3. 1. 1. 1. 1. 1.\n",
            " 1. 1. 1. 1. 1. 1. 1. 1. 1. 1. 1. 1. 1. 1. 1. 1. 1. 1. 1. 1. 1. 1. 1. 2.\n",
            " 1. 3. 1. 1. 1. 1. 1. 3. 1. 1. 1. 1. 1. 1. 1. 1. 1. 1. 3. 1. 1. 1. 0. 3.\n",
            " 1. 1. 2. 1. 1. 1. 1. 1. 1. 0. 1. 1. 0. 1. 1. 3. 1. 1. 0. 1. 1. 1. 1. 1.\n",
            " 1. 1. 1. 3. 1. 1. 1. 1. 3. 1. 1. 1. 1. 1. 1. 1. 0. 1. 1. 3. 3. 1. 1. 1.\n",
            " 1. 2. 1. 1. 1. 1. 1. 1. 1. 1. 1. 1. 1. 1. 0. 1. 1. 1. 1. 1. 1. 3. 1. 1.\n",
            " 0. 1. 1. 1. 1. 1. 3. 0. 1. 1. 1. 1. 1. 1. 1. 1. 1. 1. 1. 2. 1. 1. 3. 3.\n",
            " 2. 1. 1. 1. 1. 1. 2. 1. 3. 1. 1. 1. 1. 1. 1. 1. 3. 3. 1. 1. 0. 1. 3. 1.\n",
            " 3. 1. 3. 1. 1. 3. 1. 3. 2. 1. 3. 1. 1. 1. 0. 1. 1. 1. 2. 1. 1. 1. 1. 1.\n",
            " 1. 1. 1. 1. 1. 1. 1. 3. 1. 1. 1. 1. 1. 1. 1. 1. 1. 1. 1. 1. 1. 1. 1. 3.\n",
            " 1. 1. 1. 1. 2. 2. 2. 2. 2. 2. 2. 2. 2. 2. 2. 2. 2. 2. 2. 2. 2. 2. 2. 2.\n",
            " 2. 2. 2. 2. 2. 2. 2. 2. 2. 2. 2. 2. 2. 2. 2. 2. 0. 0. 2. 2. 2. 0. 2. 2.\n",
            " 2. 2. 2. 2. 2. 2. 2. 2. 0. 0. 0. 0. 0. 2. 2. 2. 2. 2. 2. 0. 0. 2. 2. 0.\n",
            " 2. 2. 2. 2. 2. 2. 2. 0. 2. 0. 2. 2. 2. 2. 2. 2. 2. 2. 2. 2. 0. 2. 2. 2.\n",
            " 2. 2. 2. 2. 2. 2. 2. 2. 2. 2. 2. 2. 2. 2. 2. 2. 2. 2. 2. 2. 2. 1. 2. 2.\n",
            " 2. 2. 2. 0. 2. 2. 0. 2. 2. 2. 2. 0. 2. 0. 0. 2. 2. 0. 0. 2. 2. 2. 2. 2.\n",
            " 2. 2. 2. 2. 2. 0. 0. 2. 2. 0. 0. 2. 2. 2. 2. 2. 0. 0. 2. 0. 2. 2. 2. 2.\n",
            " 2. 2. 2. 2. 2. 0. 2. 2. 2. 0. 2. 2. 2. 1. 2. 2. 2. 2. 2. 2. 2. 3. 3. 3.\n",
            " 2. 2. 2. 0. 2. 0. 2. 2. 2. 0. 2. 0. 2. 0. 0. 2. 0. 0. 2. 2. 2. 2. 2. 0.\n",
            " 2. 2. 2. 0. 2. 2. 0. 0. 2. 2. 2. 2. 2. 2. 2. 2. 2. 2. 2. 2. 2. 2. 2. 2.\n",
            " 0. 2. 2. 0. 2. 2. 3. 3. 3. 3. 3. 3. 3. 3. 3. 3. 3. 3. 3. 3. 3. 3. 3. 3.\n",
            " 3. 3. 3. 3. 3. 3. 3. 3. 3. 3. 3. 3. 3. 3. 3. 3. 3. 3. 3. 3. 3. 3. 3. 3.\n",
            " 3. 3. 3. 3. 3. 3. 3. 3. 3. 3. 3. 3. 2. 3. 3. 3. 3. 3. 3. 3. 3. 3. 3. 3.\n",
            " 1. 3. 3. 3. 3. 3. 3. 3. 3. 3. 3. 3. 3. 3. 3. 3. 3. 3. 3. 3. 3. 3. 3. 3.\n",
            " 3. 3. 3. 3. 3. 3. 3. 3. 3. 3. 3. 3. 3. 3. 3. 3. 3. 3. 3. 3. 3. 3. 3. 3.\n",
            " 3. 3. 3. 3. 3. 3. 3. 3. 3. 3. 3. 3. 3. 3. 3. 3. 3. 3. 3. 3. 3. 3. 3. 3.\n",
            " 3. 3. 3. 3. 3. 3. 3. 3. 3. 3. 3. 3. 3. 3. 3. 3. 3. 3. 3. 3. 3. 3. 3. 3.\n",
            " 3. 3. 3. 3. 3. 3. 3. 3. 3. 3. 3. 3. 3. 3. 3. 3. 3. 3. 3. 3. 3. 3. 3. 3.\n",
            " 3. 3. 3. 3. 3. 3. 3. 3. 3. 3. 3. 3. 3. 3. 3. 3. 3. 3. 3. 3. 3. 3. 3. 3.\n",
            " 3. 3. 3. 3. 3. 3. 3. 3. 3. 3. 3. 3. 3. 3. 3. 3. 3. 3. 3. 3. 3. 3. 3. 3.\n",
            " 3. 3. 3. 3. 3. 3. 3. 3.]\n",
            "[0. 0. 0. 0. 0. 0. 0. 0. 0. 0. 0. 0. 0. 0. 0. 0. 0. 0. 0. 0. 0. 0. 0. 0.\n",
            " 0. 0. 0. 0. 0. 0. 0. 0. 0. 0. 0. 0. 0. 0. 0. 0. 0. 0. 0. 0. 0. 0. 0. 0.\n",
            " 0. 0. 0. 0. 0. 0. 0. 0. 0. 0. 0. 0. 0. 0. 0. 0. 0. 0. 0. 0. 0. 0. 0. 0.\n",
            " 0. 0. 0. 0. 0. 0. 0. 0. 0. 0. 0. 0. 0. 0. 0. 0. 0. 0. 0. 0. 0. 0. 0. 0.\n",
            " 0. 0. 0. 0. 0. 0. 0. 0. 0. 0. 0. 0. 0. 0. 0. 0. 0. 0. 0. 0. 0. 0. 0. 0.\n",
            " 0. 0. 0. 0. 0. 0. 0. 0. 0. 0. 0. 0. 0. 0. 0. 0. 0. 0. 0. 0. 0. 0. 0. 0.\n",
            " 0. 0. 0. 0. 0. 0. 0. 0. 0. 0. 0. 0. 0. 0. 0. 0. 0. 0. 0. 0. 0. 0. 0. 0.\n",
            " 0. 0. 0. 0. 0. 0. 0. 0. 0. 0. 0. 0. 0. 0. 0. 0. 0. 0. 0. 0. 0. 0. 0. 0.\n",
            " 0. 0. 0. 0. 0. 0. 0. 0. 0. 0. 0. 0. 0. 0. 0. 0. 0. 0. 0. 0. 0. 0. 0. 0.\n",
            " 0. 0. 0. 0. 0. 0. 0. 0. 0. 0. 0. 0. 0. 0. 0. 0. 0. 0. 0. 0. 0. 0. 0. 0.\n",
            " 0. 0. 1. 1. 1. 1. 1. 1. 1. 1. 1. 1. 1. 1. 1. 1. 1. 1. 1. 1. 1. 1. 1. 1.\n",
            " 1. 1. 1. 1. 1. 1. 1. 1. 1. 1. 1. 1. 1. 1. 1. 1. 1. 1. 1. 1. 1. 1. 1. 1.\n",
            " 1. 1. 1. 1. 1. 1. 1. 1. 1. 1. 1. 1. 1. 1. 1. 1. 1. 1. 1. 1. 1. 1. 1. 1.\n",
            " 1. 1. 1. 1. 1. 1. 1. 1. 1. 1. 1. 1. 1. 1. 1. 1. 1. 1. 1. 1. 1. 1. 1. 1.\n",
            " 1. 1. 1. 1. 1. 1. 1. 1. 1. 1. 1. 1. 1. 1. 1. 1. 1. 1. 1. 1. 1. 1. 1. 1.\n",
            " 1. 1. 1. 1. 1. 1. 1. 1. 1. 1. 1. 1. 1. 1. 1. 1. 1. 1. 1. 1. 1. 1. 1. 1.\n",
            " 1. 1. 1. 1. 1. 1. 1. 1. 1. 1. 1. 1. 1. 1. 1. 1. 1. 1. 1. 1. 1. 1. 1. 1.\n",
            " 1. 1. 1. 1. 1. 1. 1. 1. 1. 1. 1. 1. 1. 1. 1. 1. 1. 1. 1. 1. 1. 1. 1. 1.\n",
            " 1. 1. 1. 1. 1. 1. 1. 1. 1. 1. 1. 1. 1. 1. 1. 1. 1. 1. 1. 1. 1. 1. 1. 1.\n",
            " 1. 1. 1. 1. 1. 1. 1. 1. 1. 1. 1. 1. 1. 1. 1. 1. 1. 1. 1. 1. 1. 1. 1. 1.\n",
            " 1. 1. 1. 1. 2. 2. 2. 2. 2. 2. 2. 2. 2. 2. 2. 2. 2. 2. 2. 2. 2. 2. 2. 2.\n",
            " 2. 2. 2. 2. 2. 2. 2. 2. 2. 2. 2. 2. 2. 2. 2. 2. 2. 2. 2. 2. 2. 2. 2. 2.\n",
            " 2. 2. 2. 2. 2. 2. 2. 2. 2. 2. 2. 2. 2. 2. 2. 2. 2. 2. 2. 2. 2. 2. 2. 2.\n",
            " 2. 2. 2. 2. 2. 2. 2. 2. 2. 2. 2. 2. 2. 2. 2. 2. 2. 2. 2. 2. 2. 2. 2. 2.\n",
            " 2. 2. 2. 2. 2. 2. 2. 2. 2. 2. 2. 2. 2. 2. 2. 2. 2. 2. 2. 2. 2. 2. 2. 2.\n",
            " 2. 2. 2. 2. 2. 2. 2. 2. 2. 2. 2. 2. 2. 2. 2. 2. 2. 2. 2. 2. 2. 2. 2. 2.\n",
            " 2. 2. 2. 2. 2. 2. 2. 2. 2. 2. 2. 2. 2. 2. 2. 2. 2. 2. 2. 2. 2. 2. 2. 2.\n",
            " 2. 2. 2. 2. 2. 2. 2. 2. 2. 2. 2. 2. 2. 2. 2. 2. 2. 2. 2. 2. 2. 2. 2. 2.\n",
            " 2. 2. 2. 2. 2. 2. 2. 2. 2. 2. 2. 2. 2. 2. 2. 2. 2. 2. 2. 2. 2. 2. 2. 2.\n",
            " 2. 2. 2. 2. 2. 2. 2. 2. 2. 2. 2. 2. 2. 2. 2. 2. 2. 2. 2. 2. 2. 2. 2. 2.\n",
            " 2. 2. 2. 2. 2. 2. 3. 3. 3. 3. 3. 3. 3. 3. 3. 3. 3. 3. 3. 3. 3. 3. 3. 3.\n",
            " 3. 3. 3. 3. 3. 3. 3. 3. 3. 3. 3. 3. 3. 3. 3. 3. 3. 3. 3. 3. 3. 3. 3. 3.\n",
            " 3. 3. 3. 3. 3. 3. 3. 3. 3. 3. 3. 3. 3. 3. 3. 3. 3. 3. 3. 3. 3. 3. 3. 3.\n",
            " 3. 3. 3. 3. 3. 3. 3. 3. 3. 3. 3. 3. 3. 3. 3. 3. 3. 3. 3. 3. 3. 3. 3. 3.\n",
            " 3. 3. 3. 3. 3. 3. 3. 3. 3. 3. 3. 3. 3. 3. 3. 3. 3. 3. 3. 3. 3. 3. 3. 3.\n",
            " 3. 3. 3. 3. 3. 3. 3. 3. 3. 3. 3. 3. 3. 3. 3. 3. 3. 3. 3. 3. 3. 3. 3. 3.\n",
            " 3. 3. 3. 3. 3. 3. 3. 3. 3. 3. 3. 3. 3. 3. 3. 3. 3. 3. 3. 3. 3. 3. 3. 3.\n",
            " 3. 3. 3. 3. 3. 3. 3. 3. 3. 3. 3. 3. 3. 3. 3. 3. 3. 3. 3. 3. 3. 3. 3. 3.\n",
            " 3. 3. 3. 3. 3. 3. 3. 3. 3. 3. 3. 3. 3. 3. 3. 3. 3. 3. 3. 3. 3. 3. 3. 3.\n",
            " 3. 3. 3. 3. 3. 3. 3. 3. 3. 3. 3. 3. 3. 3. 3. 3. 3. 3. 3. 3. 3. 3. 3. 3.\n",
            " 3. 3. 3. 3. 3. 3. 3. 3.]\n"
          ],
          "name": "stdout"
        }
      ]
    },
    {
      "metadata": {
        "id": "Yn1sO6ZsISuU",
        "colab_type": "code",
        "outputId": "95a3c670-b2c3-44ea-a093-a22b78b38b38",
        "colab": {
          "base_uri": "https://localhost:8080/",
          "height": 51
        }
      },
      "cell_type": "code",
      "source": [
        "valid_score = clf.score(np.reshape(valid_features, (nb_valid_samples, 7*7*512)), valid_labels)\n",
        "test_score = clf.score(np.reshape(test_features, (nb_test_samples, 7*7*512)), test_labels)\n",
        "\n",
        "print(\"valid accuracy:\", valid_score)\n",
        "print(\"test accuracy:\", test_score)"
      ],
      "execution_count": 10,
      "outputs": [
        {
          "output_type": "stream",
          "text": [
            "valid accuracy: 0.90625\n",
            "test accuracy: 0.8915289256198347\n"
          ],
          "name": "stdout"
        }
      ]
    },
    {
      "metadata": {
        "id": "v3ymA1dmQJy_",
        "colab_type": "code",
        "outputId": "2953eaee-44c4-4eca-f249-3138a79bae64",
        "colab": {
          "base_uri": "https://localhost:8080/",
          "height": 1632
        }
      },
      "cell_type": "code",
      "source": [
        "from sklearn.metrics import roc_curve, auc\n",
        "\n",
        "# print(valid_labels)\n",
        "# print(valid_prediction)\n",
        "\n",
        "val_score = something.predict_proba(x_val)\n",
        "test_score = something.predict_proba(x_test)\n",
        "print(val_score[:, ])\n",
        "# print(test_score)\n",
        "\n",
        "# Validation\n",
        "fpr = dict()\n",
        "tpr = dict()\n",
        "roc_auc = dict()\n",
        "for i in range(n_classes):\n",
        "#     fpr[i], tpr[i], thresholds = roc_curve(valid_labels, val_score)\n",
        "#     print(valid_labels.shape)\n",
        "#     print(val_score.shape)\n",
        "    fpr[i], tpr[i], thresholds = roc_curve(valid_labels, val_score[:, i], pos_label = i)\n",
        "    roc_auc[i] = auc(fpr[i], tpr[i])\n",
        "    print(\"valid AUC for class\", i, roc_auc[i])\n",
        "    print(thresholds)\n",
        "    \n",
        "    \n",
        "print(\"\\n\")\n",
        "    \n",
        "# Test\n",
        "fpr = dict()\n",
        "tpr = dict()\n",
        "roc_auc = dict()\n",
        "for i in range(n_classes):\n",
        "    fpr[i], tpr[i], thresholds = roc_curve(test_labels, test_score[:, i], pos_label=i)\n",
        "    roc_auc[i] = auc(fpr[i], tpr[i])\n",
        "    print(\"test AUC for class\", i, roc_auc[i])\n",
        "    print(\"thresholds\", thresholds)\n",
        "\n",
        "# fpr, tpr, thresholds = metrics.roc_curve(valid_labels, valid_prediction, pos_label=1)\n",
        "# print(\"valid AUC:\", metrics.auc(fpr, tpr))\n",
        "# fpr, tpr, thresholds = metrics.roc_curve(test_labels, test_prediction, pos_label=1)\n",
        "# print(\"test AUC:\", metrics.auc(fpr, tpr))"
      ],
      "execution_count": 11,
      "outputs": [
        {
          "output_type": "stream",
          "text": [
            "[[0.00559248 0.18432865 0.07452125 0.73555762]\n",
            " [0.05323228 0.14034619 0.76081961 0.04560192]\n",
            " [0.38734128 0.05058003 0.45755975 0.10451894]\n",
            " [0.40511222 0.02621054 0.55061861 0.01805863]\n",
            " [0.8516986  0.04613913 0.07964859 0.02251368]\n",
            " [0.60806882 0.07614634 0.30060841 0.01517642]\n",
            " [0.50646648 0.0776885  0.38347625 0.03236878]\n",
            " [0.00921693 0.06890513 0.05841899 0.86345895]\n",
            " [0.47016965 0.24757093 0.21127773 0.07098169]\n",
            " [0.00622605 0.1579017  0.12796454 0.7079077 ]\n",
            " [0.19284612 0.51704386 0.15591075 0.13419928]\n",
            " [0.02403741 0.07776874 0.07142098 0.82677287]\n",
            " [0.8799897  0.0159832  0.09131543 0.01271168]\n",
            " [0.01341594 0.11197978 0.10417193 0.77043235]\n",
            " [0.15669533 0.19662868 0.55010207 0.09657393]\n",
            " [0.89034598 0.02629159 0.04607086 0.03729158]\n",
            " [0.03456367 0.15344098 0.05889446 0.75310089]\n",
            " [0.51990737 0.06539166 0.35063259 0.06406839]\n",
            " [0.00377338 0.03817776 0.04792411 0.91012475]\n",
            " [0.78516712 0.05088872 0.12648581 0.03745835]\n",
            " [0.75986407 0.07764079 0.14799863 0.01449651]\n",
            " [0.33224154 0.2216051  0.30030453 0.14584883]\n",
            " [0.62487639 0.04611463 0.28420053 0.04480844]\n",
            " [0.06137814 0.51955967 0.1747961  0.24426609]\n",
            " [0.14913516 0.1693329  0.52836864 0.15316329]\n",
            " [0.01567558 0.16703645 0.14422132 0.67306665]\n",
            " [0.04182675 0.66106191 0.09832964 0.1987817 ]\n",
            " [0.09535047 0.62954059 0.18187267 0.09323627]\n",
            " [0.02570945 0.3883762  0.19792657 0.38798777]\n",
            " [0.08563834 0.37402992 0.27851601 0.26181573]\n",
            " [0.05773348 0.57976    0.10120304 0.26130348]\n",
            " [0.17634954 0.1000471  0.62987098 0.09373238]]\n",
            "valid AUC for class 0 0.9739583333333333\n",
            "[0.89034598 0.75986407 0.62487639 0.60806882 0.51990737 0.47016965\n",
            " 0.00377338]\n",
            "valid AUC for class 1 0.9947916666666667\n",
            "[0.66106191 0.37402992 0.24757093 0.2216051  0.0159832 ]\n",
            "valid AUC for class 2 0.9791666666666666\n",
            "[0.76081961 0.45755975 0.38347625 0.35063259 0.30030453 0.28420053\n",
            " 0.04607086]\n",
            "valid AUC for class 3 1.0\n",
            "[0.91012475 0.67306665 0.01271168]\n",
            "\n",
            "\n",
            "test AUC for class 0 0.9820139790087198\n",
            "thresholds [0.96355856 0.80466297 0.80427606 0.69343686 0.69282893 0.67205376\n",
            " 0.6715759  0.66175667 0.65951585 0.64217039 0.63752313 0.60722492\n",
            " 0.60641935 0.57685716 0.57470761 0.57321027 0.57261897 0.57095027\n",
            " 0.56756194 0.56041375 0.5597381  0.55829861 0.55570632 0.55406191\n",
            " 0.55326105 0.5383421  0.53652135 0.53449808 0.52856749 0.51282921\n",
            " 0.51241543 0.50259635 0.49460886 0.48269026 0.47974075 0.47944679\n",
            " 0.47600024 0.47597534 0.47275301 0.47159278 0.46738262 0.46679916\n",
            " 0.46676044 0.46500598 0.46102316 0.456617   0.45460082 0.45212615\n",
            " 0.45050799 0.44763334 0.44573312 0.44283138 0.44023967 0.42977499\n",
            " 0.42666985 0.42386106 0.41944623 0.41548411 0.41178889 0.40975946\n",
            " 0.40623955 0.40592312 0.40025671 0.39457811 0.38570269 0.38550563\n",
            " 0.38397058 0.37956687 0.37744955 0.37561383 0.36716106 0.35900412\n",
            " 0.35397667 0.35232669 0.33470135 0.33008718 0.32542912 0.32258437\n",
            " 0.3136181  0.31256916 0.27240397 0.26953367 0.25235828 0.25218076\n",
            " 0.23149573 0.22918326 0.00255498]\n",
            "test AUC for class 1 0.9857591694556382\n",
            "thresholds [0.88007495 0.42057943 0.41976049 0.38994329 0.38839444 0.36679399\n",
            " 0.36490367 0.35905504 0.35697447 0.3439752  0.34145956 0.34004347\n",
            " 0.33925991 0.33858594 0.33773389 0.3326255  0.32694708 0.3249846\n",
            " 0.32223011 0.31742604 0.31366302 0.31361737 0.30955007 0.30691911\n",
            " 0.30299518 0.30251913 0.29624179 0.2940671  0.2935895  0.29226614\n",
            " 0.29202621 0.28947445 0.2869648  0.2856987  0.28221425 0.28151827\n",
            " 0.27032923 0.26927453 0.26257908 0.26053015 0.25888641 0.25867118\n",
            " 0.25625478 0.25543322 0.25394357 0.25309821 0.25167776 0.25097833\n",
            " 0.25051647 0.24959073 0.24752399 0.24696537 0.24422578 0.2430776\n",
            " 0.23620543 0.23470071 0.2320557  0.23118627 0.22833616 0.22400055\n",
            " 0.18015224 0.17984803 0.1611987  0.16104411 0.15468476 0.15403484\n",
            " 0.15258592 0.15148042 0.12249732 0.12239817 0.10349535 0.10341308\n",
            " 0.00627571]\n",
            "test AUC for class 2 0.9833686223618605\n",
            "thresholds [0.94268901 0.54752799 0.54529672 0.46541482 0.46493518 0.46445173\n",
            " 0.46379104 0.4604178  0.4588583  0.43221295 0.42264316 0.40998903\n",
            " 0.40605751 0.40271404 0.40185985 0.39051227 0.3840043  0.38254117\n",
            " 0.38131874 0.37575068 0.3743091  0.37170771 0.36837307 0.36281455\n",
            " 0.35943219 0.35241088 0.34985716 0.34891124 0.34619525 0.34251318\n",
            " 0.33913229 0.3379644  0.32773426 0.324059   0.31943301 0.31900482\n",
            " 0.31842562 0.3156701  0.30748897 0.30343271 0.30085675 0.29882066\n",
            " 0.29676903 0.2924631  0.28812103 0.28803544 0.28631002 0.28607694\n",
            " 0.28602019 0.28576042 0.2849827  0.28444845 0.28304438 0.28278244\n",
            " 0.27879437 0.27815453 0.27470648 0.27462159 0.27443337 0.27418657\n",
            " 0.26839156 0.26674029 0.26355391 0.26340709 0.26258733 0.2608742\n",
            " 0.24763448 0.24553908 0.2406484  0.24061856 0.23620303 0.23497202\n",
            " 0.23449371 0.23440326 0.21601687 0.21455001 0.21185213 0.21169671\n",
            " 0.17891622 0.17821036 0.1476208  0.14738338 0.01710801]\n",
            "test AUC for class 3 0.9977745144912689\n",
            "thresholds [0.88290315 0.61249213 0.6116004  0.59815756 0.59542412 0.58479745\n",
            " 0.58387538 0.55342235 0.55225874 0.54326019 0.5429261  0.52975717\n",
            " 0.52112805 0.50210573 0.50141395 0.49426503 0.49131331 0.47299733\n",
            " 0.46045047 0.45390971 0.43602011 0.42798762 0.40403079 0.39332302\n",
            " 0.379745   0.37504689 0.36511971 0.36085832 0.00181969]\n"
          ],
          "name": "stdout"
        }
      ]
    },
    {
      "metadata": {
        "id": "wX_yll6fjSIR",
        "colab_type": "code",
        "outputId": "10f78e57-15b9-4d53-9314-e7024b789edc",
        "colab": {
          "base_uri": "https://localhost:8080/",
          "height": 614
        }
      },
      "cell_type": "code",
      "source": [
        "from scipy import interp\n",
        "import matplotlib.pyplot as plt\n",
        "from itertools import cycle\n",
        "\n",
        "lw = 2\n",
        "\n",
        "# Compute macro-average ROC curve and ROC area\n",
        "\n",
        "# print(all_fpr)\n",
        "\n",
        "# First aggregate all false positive rates\n",
        "all_fpr = np.unique(np.concatenate([fpr[i] for i in range(n_classes)]))\n",
        "\n",
        "print(all_fpr)\n",
        "\n",
        "# Then interpolate all ROC curves at this points\n",
        "mean_tpr = np.zeros_like(all_fpr)\n",
        "for i in range(n_classes):\n",
        "    mean_tpr += interp(all_fpr, fpr[i], tpr[i])\n",
        "\n",
        "# Finally average it and compute AUC\n",
        "mean_tpr /= n_classes\n",
        "\n",
        "fpr[\"macro\"] = all_fpr\n",
        "tpr[\"macro\"] = mean_tpr\n",
        "roc_auc[\"macro\"] = auc(fpr[\"macro\"], tpr[\"macro\"])\n",
        "\n",
        "# Plot all ROC curves\n",
        "# plt.figure()\n",
        "# plt.plot(fpr[\"macro\"], tpr[\"macro\"],\n",
        "#          label='macro-average ROC curve (area = {0:0.2f})'\n",
        "#                ''.format(roc_auc[\"macro\"]),\n",
        "#          color='navy', linestyle=':', linewidth=4)\n",
        "\n",
        "colors = cycle(['aqua', 'darkorange', 'cornflowerblue', 'red'])\n",
        "for i, color in zip(range(n_classes), colors):\n",
        "    plt.plot(fpr[i], tpr[i], color=color, lw=lw,\n",
        "             label='ROC curve of class {0} (area = {1:0.2f})'\n",
        "             ''.format(i, roc_auc[i]))\n",
        "\n",
        "plt.plot([0, 1], [0, 1], 'k--', lw=lw)\n",
        "plt.xlim([0.0, 1.0])\n",
        "plt.ylim([0.0, 1.05])\n",
        "plt.xlabel('False Positive Rate')\n",
        "plt.ylabel('True Positive Rate')\n",
        "plt.title('ROC curve for VGG16 + Random Forest on the Kaggle dataset')\n",
        "plt.legend(loc=\"lower right\")\n",
        "plt.savefig(\"vgg16_rf_kaggle_roc.png\")\n",
        "# plt.show()"
      ],
      "execution_count": 12,
      "outputs": [
        {
          "output_type": "stream",
          "text": [
            "[0.         0.00137741 0.00275482 0.00413223 0.00550964 0.00688705\n",
            " 0.00826446 0.00964187 0.01101928 0.01239669 0.0137741  0.01515152\n",
            " 0.01652893 0.01790634 0.01928375 0.02066116 0.02203857 0.02341598\n",
            " 0.02479339 0.0261708  0.02754821 0.02892562 0.03030303 0.03168044\n",
            " 0.03305785 0.03581267 0.03719008 0.03856749 0.0399449  0.04132231\n",
            " 0.04269972 0.04545455 0.04683196 0.04820937 0.04958678 0.05371901\n",
            " 0.05509642 0.05647383 0.05785124 0.05922865 0.06060606 0.06198347\n",
            " 0.06336088 0.0661157  0.06749311 0.06887052 0.07300275 0.07438017\n",
            " 0.07575758 0.07988981 0.08126722 0.08539945 0.08677686 0.09090909\n",
            " 0.0922865  0.09366391 0.09641873 0.09779614 0.09917355 0.10330579\n",
            " 0.10606061 0.11707989 0.12258953 0.12947658 0.14187328 0.15564738\n",
            " 0.15702479 0.16391185 0.19559229 0.19834711 0.20247934 0.21625344\n",
            " 0.22451791 0.26446281 0.29201102 0.29889807 0.32369146 0.4214876\n",
            " 0.44628099 0.51652893 1.        ]\n"
          ],
          "name": "stdout"
        },
        {
          "output_type": "display_data",
          "data": {
            "image/png": "[encoded data removed]",
            "text/plain": [
              "<matplotlib.figure.Figure at 0x7f9d8e2dab70>"
            ]
          },
          "metadata": {
            "tags": []
          }
        }
      ]
    },
    {
      "metadata": {
        "id": "vLMAGV7jU5Dw",
        "colab_type": "code",
        "outputId": "c4f205db-dbe0-444a-b4f2-84b62a2c5cf5",
        "colab": {
          "base_uri": "https://localhost:8080/",
          "height": 34
        }
      },
      "cell_type": "code",
      "source": [
        ""
      ],
      "execution_count": 0,
      "outputs": [
        {
          "output_type": "display_data",
          "data": {
            "text/plain": [
              "<matplotlib.figure.Figure at 0x7f3e402b5ef0>"
            ]
          },
          "metadata": {
            "tags": []
          }
        }
      ]
    },
    {
      "metadata": {
        "id": "5XaQCuhMgJnL",
        "colab_type": "text"
      },
      "cell_type": "markdown",
      "source": [
        "# Not running for this trial\n",
        "## Testing"
      ]
    },
    {
      "metadata": {
        "id": "5GhgTmHRNkLB",
        "colab_type": "code",
        "colab": {}
      },
      "cell_type": "code",
      "source": [
        "#print(train_generator.filenames)\n",
        "#print(validation_generator.filenames)\n",
        "\n",
        "nb_test_samples = 102\n",
        "\n",
        "result = model.evaluate_generator(test_generator, steps=nb_test_samples / batch_size)\n",
        "print(result)\n",
        "\n",
        "predictions = model.predict_generator(test_generator, steps=nb_test_samples / batch_size)\n",
        "print(predictions)\n",
        "print(len(predictions))\n",
        "img_path = \"/gdrive/My Drive/validation/val_patients/patient13.png\"\n",
        "\n",
        "from keras.preprocessing import image                             \n",
        "import numpy as np\n",
        "\n",
        "img = image.load_img(img_path, target_size=(img_width, img_height))\n",
        "img_tensor = image.img_to_array(img)\n",
        "img_tensor = np.expand_dims(img_tensor, axis=0)\n",
        "img_tensor /= 255.                                               \n",
        "\n",
        "\n",
        "print(img_tensor.shape)\n",
        "#validation_generator.classes"
      ],
      "execution_count": 0,
      "outputs": []
    },
    {
      "metadata": {
        "id": "e4y1KHm1gLnn",
        "colab_type": "text"
      },
      "cell_type": "markdown",
      "source": [
        "# Visualizing"
      ]
    },
    {
      "metadata": {
        "id": "1jUYHYFFbeUd",
        "colab_type": "code",
        "colab": {}
      },
      "cell_type": "code",
      "source": [
        "import matplotlib.pyplot as plt\n",
        "\n",
        "#plt.imshow(img_tensor[0])\n",
        "#plt.show()\n",
        "\n",
        "from keras import models\n",
        "\n",
        "layer_outputs = [layer.output for layer in model.layers[:8]]               \n",
        "activation_model = models.Model(inputs=model.input, outputs=layer_outputs)\n",
        "activations = activation_model.predict(img_tensor)\n",
        "first_layer_activation = activations[0]\n",
        "print(first_layer_activation.shape)\n",
        "\n",
        "import matplotlib.pyplot as plt\n",
        "plt.figure()\n",
        "plt.matshow(first_layer_activation[0, :, :, 4], cmap='viridis')"
      ],
      "execution_count": 0,
      "outputs": []
    },
    {
      "metadata": {
        "id": "gakgr801v8bD",
        "colab_type": "text"
      },
      "cell_type": "markdown",
      "source": [
        "# Visualizing attention map"
      ]
    },
    {
      "metadata": {
        "id": "LHq7lRzswBtv",
        "colab_type": "code",
        "colab": {}
      },
      "cell_type": "code",
      "source": [
        "# !pip install keras-vis\n",
        "!pip install git+https://github.com/raghakot/keras-vis.git\n",
        "\n",
        "from keras.applications import ResNet50\n",
        "from vis.utils import utils\n",
        "from keras import activations\n",
        "\n",
        "# Hide warnings on Jupyter Notebook\n",
        "import warnings\n",
        "warnings.filterwarnings('ignore')"
      ],
      "execution_count": 0,
      "outputs": []
    },
    {
      "metadata": {
        "id": "CMJLs0kXwHJi",
        "colab_type": "code",
        "colab": {}
      },
      "cell_type": "code",
      "source": [
        "from vis.utils import utils\n",
        "from matplotlib import pyplot as plt\n",
        "%matplotlib inline\n",
        "plt.rcParams['figure.figsize'] = (18, 6)\n",
        "\n",
        "# img1 = utils.load_img('/gdrive/My Drive/deep_learning/val/val_controls/_ERGO-0449_OS_2014_triton_wf_report.png', \n",
        "#                       target_size=(img_width / 5, img_height / 5))\n",
        "# img2 = utils.load_img('/gdrive/My Drive/deep_learning/val/val_controls/_ERGO-0450_OD_2014_triton_wf_report.png', \n",
        "#                       target_size=(img_width / 5, img_height / 5))\n",
        "\n",
        "img1 = utils.load_img('/gdrive/My Drive/deep_learning/new_dataset/test/controls/View2098.png', \n",
        "                      target_size=(img_width, img_height))\n",
        "img2 = utils.load_img('/gdrive/My Drive/deep_learning/new_dataset/train/patients/194.png', \n",
        "                      target_size=(img_width, img_height))\n",
        "\n",
        "f, ax = plt.subplots(1, 2)\n",
        "ax[0].imshow(img1)\n",
        "ax[1].imshow(img2)"
      ],
      "execution_count": 0,
      "outputs": []
    },
    {
      "metadata": {
        "id": "AXmlqO9KwKTK",
        "colab_type": "code",
        "colab": {}
      },
      "cell_type": "code",
      "source": [
        "from vis.visualization import visualize_saliency, overlay\n",
        "from vis.utils import utils\n",
        "from keras import activations\n",
        "from vis.visualization import visualize_cam\n",
        "\n",
        "\n",
        "# import numpy as np\n",
        "import matplotlib.cm as cm\n",
        "# from vis.visualization import visualize_cam\n",
        "\n",
        "\n",
        "penultimate_layer = utils.find_layer_idx(model, 'conv2d_15')\n",
        "layer_idx = utils.find_layer_idx(model, 'dense_9')\n",
        "\n",
        "for modifier in [None, 'guided', 'relu']:\n",
        "    plt.figure()\n",
        "    f, ax = plt.subplots(1, 4)\n",
        "    plt.suptitle(\"vanilla\" if modifier is None else modifier)\n",
        "    for i, img in enumerate([img1, img2]):    \n",
        "        # 20 is the imagenet index corresponding to `ouzel`\n",
        "        grads = visualize_cam(model, layer_idx, filter_indices=0, \n",
        "                              seed_input=img, penultimate_layer_idx=penultimate_layer,\n",
        "                              backprop_modifier=modifier)        \n",
        "        # Lets overlay the heatmap onto original image.    \n",
        "        jet_heatmap = np.uint8(cm.jet(grads)[..., :3] * 255)\n",
        "        ax[i].imshow(jet_heatmap)\n",
        "        ax[i + 2].imshow(img)\n",
        "#         ax[i].imshow(jet_heatmap)\n",
        "#         print(jet_heatmap.shape)\n",
        "#         print(img.shape)\n",
        "#         ax[i].imshow(overlay(jet_heatmap, img))\n"
      ],
      "execution_count": 0,
      "outputs": []
    }
  ]
}