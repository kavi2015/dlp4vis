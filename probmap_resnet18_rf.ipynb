{
  "nbformat": 4,
  "nbformat_minor": 0,
  "metadata": {
    "colab": {
      "name": "probmap_resnet18_rf.ipynb",
      "version": "0.3.2",
      "provenance": [],
      "collapsed_sections": [],
      "toc_visible": true
    },
    "kernelspec": {
      "name": "python3",
      "display_name": "Python 3"
    },
    "accelerator": "GPU"
  },
  "cells": [
    {
      "metadata": {
        "id": "wiahzM1EfnfQ",
        "colab_type": "text"
      },
      "cell_type": "markdown",
      "source": [
        "# Mounting Google Drive"
      ]
    },
    {
      "metadata": {
        "id": "Ci2gPZb6ZIEw",
        "colab_type": "code",
        "outputId": "76257870-80af-4ea2-a3f7-d9fb71aacd01",
        "colab": {
          "base_uri": "https://localhost:8080/",
          "height": 191
        }
      },
      "cell_type": "code",
      "source": [
        "##### before running it, make sure you don't have lots of big files in your google drive\n",
        "##### otherwise it's going to take too long to finish running it before giving the TIMEOUT error\n",
        "##### also save the train_controls, train_patients, val_controls, val_patients to your drive and\n",
        "##### create a \"train\" folder with train_controls, train_patients in it, and \n",
        "##### a \"val\" folder with val_controls, val_patients in it.\n",
        "##### change the train_dir and val_dir in the next cell to the dir of your train and val folder\n",
        "##### e.g. my train and val folder are saved in the \"deep learning\" dir\n",
        "\n",
        "from google.colab import drive\n",
        "drive.mount('/gdrive', force_remount=True)"
      ],
      "execution_count": 0,
      "outputs": [
        {
          "output_type": "stream",
          "text": [
            "Go to this URL in a browser: https://accounts.google.com/o/oauth2/auth?client_id=947318989803-6bn6qk8qdgf4n4g3pfee6491hc0brc4i.apps.googleusercontent.com&redirect_uri=urn%3Aietf%3Awg%3Aoauth%3A2.0%3Aoob&scope=email%20https%3A%2F%2Fwww.googleapis.com%2Fauth%2Fdocs.test%20https%3A%2F%2Fwww.googleapis.com%2Fauth%2Fdrive%20https%3A%2F%2Fwww.googleapis.com%2Fauth%2Fdrive.photos.readonly%20https%3A%2F%2Fwww.googleapis.com%2Fauth%2Fpeopleapi.readonly&response_type=code\n",
            "\n",
            "Enter your authorization code:\n",
            "··········\n",
            "Mounted at /gdrive\n"
          ],
          "name": "stdout"
        }
      ]
    },
    {
      "metadata": {
        "id": "Z3N68kUFfu1I",
        "colab_type": "text"
      },
      "cell_type": "markdown",
      "source": [
        "# Loading Train, Val, and Test Data Using Keras ImageDataGenerator"
      ]
    },
    {
      "metadata": {
        "id": "oeCnbRQ-ZVQO",
        "colab_type": "code",
        "outputId": "a1e97ad6-6798-49f0-8309-949507f8fa77",
        "colab": {
          "base_uri": "https://localhost:8080/",
          "height": 85
        }
      },
      "cell_type": "code",
      "source": [
        "# train_dir = \"/gdrive/My Drive/deep learning/Project/trainProbMaps/\"\n",
        "# val_dir = \"/gdrive/My Drive/deep learning/Project/valProbMaps/\"\n",
        "# test_dir = \"/gdrive/My Drive/deep learning/Project/testProbMaps/\"\n",
        "\n",
        "# Chelsea's\n",
        "train_dir = \"/gdrive/My Drive/deep_learning/large/trainProbMaps\"\n",
        "val_dir = \"/gdrive/My Drive/deep_learning/large/valProbMaps\"\n",
        "test_dir = \"/gdrive/My Drive/deep_learning/large/testProbMaps\"\n",
        "\n",
        "\n",
        "img_width = 600\n",
        "img_height = 450\n",
        "batch_size = 1\n",
        "channels = 3\n",
        "epochs = 50\n",
        "nb_train_samples = 410\n",
        "nb_valid_samples = 149\n",
        "nb_test_samples = 192\n",
        "\n",
        "from keras.preprocessing.image import ImageDataGenerator\n",
        "\n",
        "train_datagen = ImageDataGenerator(rescale=1./255)             \n",
        "valid_datagen = ImageDataGenerator(rescale=1./255)    \n",
        "test_datagen = ImageDataGenerator(rescale=1./255) \n",
        "\n",
        "train_generator = train_datagen.flow_from_directory(\n",
        "    train_dir, \n",
        "    target_size=(img_height, img_width),\n",
        "    color_mode=\"rgb\",\n",
        "    batch_size=batch_size,\n",
        "    class_mode='binary',\n",
        "    shuffle=True)   \n",
        "\n",
        "valid_generator = valid_datagen.flow_from_directory(\n",
        "    val_dir,\n",
        "    target_size=(img_height, img_width),\n",
        "    color_mode=\"rgb\",\n",
        "    batch_size=batch_size,\n",
        "    class_mode='binary',\n",
        "    shuffle=True) #weight toward one class or another\n",
        "\n",
        "test_generator = test_datagen.flow_from_directory(\n",
        "    test_dir,\n",
        "    target_size=(img_height, img_width),\n",
        "    color_mode=\"rgb\",\n",
        "    batch_size=batch_size,\n",
        "    class_mode='binary',\n",
        "    shuffle=False)"
      ],
      "execution_count": 0,
      "outputs": [
        {
          "output_type": "stream",
          "text": [
            "Using TensorFlow backend.\n"
          ],
          "name": "stderr"
        },
        {
          "output_type": "stream",
          "text": [
            "Found 408 images belonging to 2 classes.\n",
            "Found 149 images belonging to 2 classes.\n",
            "Found 192 images belonging to 2 classes.\n"
          ],
          "name": "stdout"
        }
      ]
    },
    {
      "metadata": {
        "id": "8DSNcgHwfzN2",
        "colab_type": "text"
      },
      "cell_type": "markdown",
      "source": [
        "# Building the Model Architecture (Pre-trained Keras VGG16 Extracting Features from OCT Dataset) & Training the Model"
      ]
    },
    {
      "metadata": {
        "id": "EQ2UeGrosA4d",
        "colab_type": "code",
        "outputId": "691bb913-8304-4ea3-dc8b-8ddee3d05c04",
        "colab": {
          "base_uri": "https://localhost:8080/",
          "height": 65
        }
      },
      "cell_type": "code",
      "source": [
        "# Download the ResNet18 model\n",
        "\n",
        "!git clone https://github.com/qubvel/classification_models.git\n",
        "  \n",
        "from classification_models.classification_models.resnet import models"
      ],
      "execution_count": 11,
      "outputs": [
        {
          "output_type": "stream",
          "text": [
            "\u001b[0m\u001b[01;34mclassification_models\u001b[0m/  \u001b[01;34msample_data\u001b[0m/\n"
          ],
          "name": "stdout"
        }
      ]
    },
    {
      "metadata": {
        "id": "-5V7skIXZQrr",
        "colab_type": "code",
        "outputId": "a067ab13-b65f-4ea4-8f27-a807d4e1fe24",
        "colab": {
          "base_uri": "https://localhost:8080/",
          "height": 68
        }
      },
      "cell_type": "code",
      "source": [
        "import numpy as np \n",
        "from keras.preprocessing import text, sequence\n",
        "from keras.preprocessing.text import Tokenizer\n",
        "from keras.utils import to_categorical\n",
        "from keras.models import Model, Input\n",
        "from keras.layers import Conv2D, MaxPooling2D\n",
        "from keras.layers import Activation, Dropout, Softmax, Flatten, Dense, BatchNormalization \n",
        "from keras.metrics import categorical_accuracy\n",
        "from keras import backend as K\n",
        "from keras import regularizers\n",
        "import tensorflow as tf\n",
        "from keras.models import Sequential\n",
        "\n",
        "from keras import layers\n",
        "\n",
        "from keras.callbacks import TensorBoard\n",
        "\n",
        "#from keras.layers import Input, Dense\n",
        "from keras import layers\n",
        "from keras import optimizers\n",
        "from keras.applications import ResNet50#, VGG16\n",
        "\n",
        "# from classfication_models import classfication_models\n",
        "\n",
        "#pretrained VGG16 on imagenet, starting to replicate Hassan's work\n",
        "# conv_base = VGG16(weights='imagenet',\n",
        "#                   include_top=False,\n",
        "#                   input_shape=(img_height, img_width, channels))\n",
        "\n",
        "conv_base = models.ResNet18(include_top=False, input_shape=(img_height, img_width, channels), weights='imagenet', classes=2)\n",
        "\n",
        "# conv_base = ResNet50(include_top=False, weights='imagenet',input_shape=(img_height, img_width, channels), pooling=None)\n",
        "\n",
        "\n",
        "# For VGG16\n",
        "# model_1st = 14\n",
        "# model_2nd = 18\n",
        "# model_3rd = 512\n",
        "\n",
        "# For ResNet50\n",
        "# model_1st = 15\n",
        "# model_2nd = 19\n",
        "# model_3rd = 2048\n",
        "\n",
        "# For ResNet18\n",
        "model_1st = 15\n",
        "model_2nd = 19\n",
        "model_3rd = 512\n",
        "\n",
        "#Extracting features from OCT data using pretrained VGG\n",
        "def extract_features(dataset_type, sample_count):\n",
        "    features = np.zeros(shape=(sample_count, model_1st, model_2nd, model_3rd))\n",
        "    labels = np.zeros(shape=(sample_count))\n",
        "    i = 0\n",
        "    if dataset_type == \"train\":\n",
        "        for inputs_batch, labels_batch in train_generator:\n",
        "            features_batch = conv_base.predict(inputs_batch)\n",
        "            features[i * batch_size : (i + 1) * batch_size] = features_batch\n",
        "            labels[i * batch_size : (i + 1) * batch_size] = labels_batch\n",
        "            i += 1\n",
        "            if i * batch_size >= sample_count:\n",
        "                break   \n",
        "    elif dataset_type == \"valid\":\n",
        "        for inputs_batch, labels_batch in valid_generator:\n",
        "            features_batch = conv_base.predict(inputs_batch)\n",
        "            features[i * batch_size : (i + 1) * batch_size] = features_batch\n",
        "            labels[i * batch_size : (i + 1) * batch_size] = labels_batch\n",
        "            i += 1\n",
        "            if i * batch_size >= sample_count:\n",
        "                break\n",
        "    else:\n",
        "        for inputs_batch, labels_batch in test_generator:\n",
        "            features_batch = conv_base.predict(inputs_batch)\n",
        "            features[i * batch_size : (i + 1) * batch_size] = features_batch\n",
        "            labels[i * batch_size : (i + 1) * batch_size] = labels_batch\n",
        "            i += 1\n",
        "            if i * batch_size >= sample_count:\n",
        "                break\n",
        "    return features, labels\n",
        "\n",
        "train_features, train_labels = extract_features(\"train\", nb_train_samples)\n",
        "valid_features, valid_labels = extract_features(\"valid\", nb_valid_samples)\n",
        "test_features, test_labels = extract_features(\"test\", nb_test_samples)\n",
        "\n",
        "\n",
        "print(train_features.shape, train_labels.shape)\n",
        "print(valid_features.shape, valid_labels.shape)\n",
        "print(test_features.shape, test_labels.shape)"
      ],
      "execution_count": 15,
      "outputs": [
        {
          "output_type": "stream",
          "text": [
            "(410, 15, 19, 512) (410,)\n",
            "(149, 15, 19, 512) (149,)\n",
            "(192, 15, 19, 512) (192,)\n"
          ],
          "name": "stdout"
        }
      ]
    },
    {
      "metadata": {
        "id": "Hdgxyp8mgBI2",
        "colab_type": "text"
      },
      "cell_type": "markdown",
      "source": [
        "# Classifier Layer: Random Forest"
      ]
    },
    {
      "metadata": {
        "id": "pC1hJV8fsTGE",
        "colab_type": "code",
        "outputId": "2dc27df6-a04d-429a-eab6-4e748d1e3c89",
        "colab": {
          "base_uri": "https://localhost:8080/",
          "height": 51
        }
      },
      "cell_type": "code",
      "source": [
        "from sklearn.ensemble import RandomForestClassifier\n",
        "from sklearn.datasets import make_classification\n",
        "\n",
        "clf = RandomForestClassifier(n_estimators=100, max_depth=12, random_state=0, bootstrap=True)\n",
        "clf.fit(np.reshape(train_features, (nb_train_samples, model_2nd*model_1st*model_3rd)), train_labels)\n",
        "\n",
        "prediction = clf.predict(np.reshape(valid_features, (nb_valid_samples, model_2nd*model_1st*model_3rd)))\n",
        "print(\"validation accuracy:\", sum([prediction[i] == valid_labels[i] for i in range(len(valid_labels))])/len(valid_labels))\n",
        "\n",
        "prediction = clf.predict(np.reshape(test_features, (nb_test_samples, model_2nd*model_1st*model_3rd)))\n",
        "print(\"test accuracy:\", sum([prediction[i] == test_labels[i] for i in range(len(test_labels))])/len(test_labels))"
      ],
      "execution_count": 17,
      "outputs": [
        {
          "output_type": "stream",
          "text": [
            "validation accuracy: 0.9731543624161074\n",
            "test accuracy: 0.9635416666666666\n"
          ],
          "name": "stdout"
        }
      ]
    },
    {
      "metadata": {
        "id": "5XaQCuhMgJnL",
        "colab_type": "text"
      },
      "cell_type": "markdown",
      "source": [
        "# Testing"
      ]
    },
    {
      "metadata": {
        "id": "5GhgTmHRNkLB",
        "colab_type": "code",
        "outputId": "06c25745-8dd1-44e3-cd79-77568374916a",
        "colab": {
          "base_uri": "https://localhost:8080/",
          "height": 232
        }
      },
      "cell_type": "code",
      "source": [
        "#print(train_generator.filenames)\n",
        "#print(validation_generator.filenames)\n",
        "\n",
        "nb_test_samples = 102\n",
        "\n",
        "result = model.evaluate_generator(test_generator, steps=nb_test_samples / batch_size)\n",
        "print(result)\n",
        "\n",
        "predictions = model.predict_generator(test_generator, steps=nb_test_samples / batch_size)\n",
        "print(predictions)\n",
        "print(len(predictions))\n",
        "img_path = \"/gdrive/My Drive/validation/val_patients/patient13.png\"\n",
        "\n",
        "from keras.preprocessing import image                             \n",
        "import numpy as np\n",
        "\n",
        "img = image.load_img(img_path, target_size=(img_height, img_width))\n",
        "img_tensor = image.img_to_array(img)\n",
        "img_tensor = np.expand_dims(img_tensor, axis=0)\n",
        "img_tensor /= 255.                                               \n",
        "\n",
        "\n",
        "print(img_tensor.shape)\n",
        "#validation_generator.classes"
      ],
      "execution_count": 0,
      "outputs": [
        {
          "output_type": "error",
          "ename": "NameError",
          "evalue": "ignored",
          "traceback": [
            "\u001b[0;31m---------------------------------------------------------------------------\u001b[0m",
            "\u001b[0;31mNameError\u001b[0m                                 Traceback (most recent call last)",
            "\u001b[0;32m<ipython-input-5-dccb0008a26a>\u001b[0m in \u001b[0;36m<module>\u001b[0;34m()\u001b[0m\n\u001b[1;32m      2\u001b[0m \u001b[0mnb_test_samples\u001b[0m \u001b[0;34m=\u001b[0m \u001b[0;36m102\u001b[0m\u001b[0;34m\u001b[0m\u001b[0m\n\u001b[1;32m      3\u001b[0m \u001b[0;34m\u001b[0m\u001b[0m\n\u001b[0;32m----> 4\u001b[0;31m \u001b[0mresult\u001b[0m \u001b[0;34m=\u001b[0m \u001b[0mmodel\u001b[0m\u001b[0;34m.\u001b[0m\u001b[0mevaluate_generator\u001b[0m\u001b[0;34m(\u001b[0m\u001b[0mtest_generator\u001b[0m\u001b[0;34m,\u001b[0m \u001b[0msteps\u001b[0m\u001b[0;34m=\u001b[0m\u001b[0mnb_test_samples\u001b[0m \u001b[0;34m/\u001b[0m \u001b[0mbatch_size\u001b[0m\u001b[0;34m)\u001b[0m\u001b[0;34m\u001b[0m\u001b[0m\n\u001b[0m\u001b[1;32m      5\u001b[0m \u001b[0mprint\u001b[0m\u001b[0;34m(\u001b[0m\u001b[0mresult\u001b[0m\u001b[0;34m)\u001b[0m\u001b[0;34m\u001b[0m\u001b[0m\n\u001b[1;32m      6\u001b[0m \u001b[0;34m\u001b[0m\u001b[0m\n",
            "\u001b[0;31mNameError\u001b[0m: name 'model' is not defined"
          ]
        }
      ]
    },
    {
      "metadata": {
        "id": "e4y1KHm1gLnn",
        "colab_type": "text"
      },
      "cell_type": "markdown",
      "source": [
        "# Visualizing"
      ]
    },
    {
      "metadata": {
        "id": "1jUYHYFFbeUd",
        "colab_type": "code",
        "colab": {}
      },
      "cell_type": "code",
      "source": [
        "import matplotlib.pyplot as plt\n",
        "\n",
        "#plt.imshow(img_tensor[0])\n",
        "#plt.show()\n",
        "\n",
        "from keras import models\n",
        "\n",
        "layer_outputs = [layer.output for layer in model.layers[:8]]               \n",
        "activation_model = models.Model(inputs=model.input, outputs=layer_outputs)\n",
        "activations = activation_model.predict(img_tensor)\n",
        "first_layer_activation = activations[0]\n",
        "print(first_layer_activation.shape)\n",
        "\n",
        "import matplotlib.pyplot as plt\n",
        "plt.figure()\n",
        "plt.matshow(first_layer_activation[0, :, :, 4], cmap='viridis')"
      ],
      "execution_count": 0,
      "outputs": []
    },
    {
      "metadata": {
        "id": "gakgr801v8bD",
        "colab_type": "text"
      },
      "cell_type": "markdown",
      "source": [
        "# Visualizing attention map"
      ]
    },
    {
      "metadata": {
        "id": "LHq7lRzswBtv",
        "colab_type": "code",
        "colab": {}
      },
      "cell_type": "code",
      "source": [
        "# !pip install keras-vis\n",
        "!pip install git+https://github.com/raghakot/keras-vis.git\n",
        "\n",
        "from keras.applications import ResNet50\n",
        "from vis.utils import utils\n",
        "from keras import activations\n",
        "\n",
        "# Hide warnings on Jupyter Notebook\n",
        "import warnings\n",
        "warnings.filterwarnings('ignore')"
      ],
      "execution_count": 0,
      "outputs": []
    },
    {
      "metadata": {
        "id": "CMJLs0kXwHJi",
        "colab_type": "code",
        "colab": {}
      },
      "cell_type": "code",
      "source": [
        "from vis.utils import utils\n",
        "from matplotlib import pyplot as plt\n",
        "%matplotlib inline\n",
        "plt.rcParams['figure.figsize'] = (18, 6)\n",
        "\n",
        "# img1 = utils.load_img('/gdrive/My Drive/deep_learning/val/val_controls/_ERGO-0449_OS_2014_triton_wf_report.png', \n",
        "#                       target_size=(img_width / 5, img_height / 5))\n",
        "# img2 = utils.load_img('/gdrive/My Drive/deep_learning/val/val_controls/_ERGO-0450_OD_2014_triton_wf_report.png', \n",
        "#                       target_size=(img_width / 5, img_height / 5))\n",
        "\n",
        "img1 = utils.load_img('/gdrive/My Drive/deep_learning/new_dataset/test/controls/View2098.png', \n",
        "                      target_size=(img_height, img_width))\n",
        "img2 = utils.load_img('/gdrive/My Drive/deep_learning/new_dataset/train/patients/194.png', \n",
        "                      target_size=(img_height, img_width))\n",
        "\n",
        "f, ax = plt.subplots(1, 2)\n",
        "ax[0].imshow(img1)\n",
        "ax[1].imshow(img2)"
      ],
      "execution_count": 0,
      "outputs": []
    },
    {
      "metadata": {
        "id": "AXmlqO9KwKTK",
        "colab_type": "code",
        "colab": {}
      },
      "cell_type": "code",
      "source": [
        "from vis.visualization import visualize_saliency, overlay\n",
        "from vis.utils import utils\n",
        "from keras import activations\n",
        "from vis.visualization import visualize_cam\n",
        "\n",
        "\n",
        "# import numpy as np\n",
        "import matplotlib.cm as cm\n",
        "# from vis.visualization import visualize_cam\n",
        "\n",
        "\n",
        "penultimate_layer = utils.find_layer_idx(model, 'conv2d_15')\n",
        "layer_idx = utils.find_layer_idx(model, 'dense_9')\n",
        "\n",
        "for modifier in [None, 'guided', 'relu']:\n",
        "    plt.figure()\n",
        "    f, ax = plt.subplots(1, 4)\n",
        "    plt.suptitle(\"vanilla\" if modifier is None else modifier)\n",
        "    for i, img in enumerate([img1, img2]):    \n",
        "        # 20 is the imagenet index corresponding to `ouzel`\n",
        "        grads = visualize_cam(model, layer_idx, filter_indices=0, \n",
        "                              seed_input=img, penultimate_layer_idx=penultimate_layer,\n",
        "                              backprop_modifier=modifier)        \n",
        "        # Lets overlay the heatmap onto original image.    \n",
        "        jet_heatmap = np.uint8(cm.jet(grads)[..., :3] * 255)\n",
        "        ax[i].imshow(jet_heatmap)\n",
        "        ax[i + 2].imshow(img)\n",
        "#         ax[i].imshow(jet_heatmap)\n",
        "#         print(jet_heatmap.shape)\n",
        "#         print(img.shape)\n",
        "#         ax[i].imshow(overlay(jet_heatmap, img))\n"
      ],
      "execution_count": 0,
      "outputs": []
    }
  ]
}